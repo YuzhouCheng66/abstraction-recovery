{
 "cells": [
  {
   "cell_type": "code",
   "execution_count": 1,
   "id": "a44558db-8239-4f3c-b3ad-9233170719ad",
   "metadata": {},
   "outputs": [],
   "source": [
    "from typing import Callable, Dict, List, Tuple\n",
    "import jax\n",
    "import jax.numpy as jnp\n",
    "from jax.tree_util import register_pytree_node_class\n",
    "from functools import partial\n",
    "import numpy as np\n",
    "import time\n",
    "import cv2\n",
    "from pathlib import Path\n",
    "import imgui\n",
    "import moderngl\n",
    "from pyrr import Matrix44\n",
    "import moderngl_window as mglw\n",
    "from moderngl_window import geometry\n",
    "from moderngl_window.integrations.imgui import ModernglWindowRenderer\n",
    "import PIL\n",
    "from scipy.spatial import Delaunay\n",
    "\n",
    "\n",
    "@register_pytree_node_class\n",
    "class Gaussian:\n",
    "    def __init__(self, eta, Lam):\n",
    "        self.eta = eta\n",
    "        self.Lam = Lam\n",
    "\n",
    "    def tree_flatten(self):\n",
    "        return (self.eta, self.Lam), None\n",
    "\n",
    "    @classmethod\n",
    "    def tree_unflatten(cls, aux_data, children):\n",
    "        return cls(*children)\n",
    "\n",
    "    def mu(self):\n",
    "        return jnp.where(\n",
    "            jnp.allclose(self.Lam, 0), self.eta, jnp.linalg.solve(self.Lam, self.eta)\n",
    "        )\n",
    "    \n",
    "    def sigma(self):\n",
    "        return jnp.linalg.inv(self.Lam)\n",
    "\n",
    "    def zero_like(self):\n",
    "        return Gaussian(jnp.zeros_like(self.eta), jnp.zeros_like(self.Lam))\n",
    "\n",
    "    def __repr__(self) -> str:\n",
    "        return f\"Gaussian(eta={self.eta}, lam={self.Lam})\"\n",
    "\n",
    "    def __mul__(self, other):\n",
    "        return Gaussian(self.eta + other.eta, self.Lam + other.Lam)\n",
    "\n",
    "    def __truediv__(self, other):\n",
    "        return Gaussian(self.eta - other.eta, self.Lam - other.Lam)\n",
    "\n",
    "    def copy(self):\n",
    "        return Gaussian(self.eta.copy(), self.Lam.copy())\n",
    "\n",
    "\n",
    "@register_pytree_node_class\n",
    "class Variable:\n",
    "    var_id: int\n",
    "    belief: Gaussian\n",
    "    msgs: Gaussian\n",
    "    adj_factor_idx: jnp.array\n",
    "\n",
    "    def __init__(self, var_id, belief, msgs, adj_factor_idx):\n",
    "        self.var_id = var_id\n",
    "        self.belief = belief\n",
    "        self.msgs = msgs\n",
    "        self.adj_factor_idx = adj_factor_idx\n",
    "\n",
    "    def tree_flatten(self):\n",
    "        return (self.var_id, self.belief, self.msgs, self.adj_factor_idx), None\n",
    "\n",
    "    @classmethod\n",
    "    def tree_unflatten(cls, aux_data, children):\n",
    "        return cls(*children)\n",
    "\n",
    "\n",
    "@register_pytree_node_class\n",
    "class Factor:\n",
    "    factor_id: jnp.array\n",
    "    z: jnp.ndarray\n",
    "    z_Lam: jnp.ndarray\n",
    "    threshold: jnp.ndarray\n",
    "    potential: Gaussian\n",
    "    adj_var_id: jnp.array\n",
    "    adj_var_idx: jnp.array\n",
    "\n",
    "    def __init__(\n",
    "        self, factor_id, z, z_Lam, threshold, potential, adj_var_id, adj_var_idx\n",
    "    ):\n",
    "        self.factor_id = factor_id\n",
    "        self.z = z\n",
    "        self.z_Lam = z_Lam\n",
    "        self.threshold = threshold\n",
    "        self.potential = potential\n",
    "        self.adj_var_id = adj_var_id\n",
    "        self.adj_var_idx = adj_var_idx\n",
    "\n",
    "    def tree_flatten(self):\n",
    "        return (\n",
    "            self.factor_id,\n",
    "            self.z,\n",
    "            self.z_Lam,\n",
    "            self.threshold,\n",
    "            self.potential,\n",
    "            self.adj_var_id,\n",
    "            self.adj_var_idx,\n",
    "        ), None\n",
    "\n",
    "    @classmethod\n",
    "    def tree_unflatten(cls, aux_data, children):\n",
    "        return cls(*children)\n",
    "\n",
    "\n",
    "@partial(jax.jit, static_argnames=[\"i\", \"j\"])\n",
    "def marginalize(gaussians: Gaussian, i, j): # Equ. (46), (47); Compute msg to i:j Variables from connected factors\n",
    "    eta = gaussians.eta\n",
    "    Lam = gaussians.Lam\n",
    "    k = eta.size\n",
    "    idx = jnp.arange(0, k)\n",
    "    aa = idx[i:j] # index from i to j-1\n",
    "    bb = jnp.concat([idx[:i], idx[j:]]) # rest\n",
    "    aa_eta = eta[aa]\n",
    "    bb_eta = eta[bb]\n",
    "    aa_Lam = Lam[aa[:, None], aa]\n",
    "    ab_Lam = Lam[aa[:, None], bb]\n",
    "    bb_Lam = Lam[bb][:, bb]\n",
    "    if bb_Lam.size == 0:\n",
    "        return Gaussian(aa_eta, aa_Lam)\n",
    "    # print(\"How large? \", bb_Lam.shape)\n",
    "\n",
    "    bb_Cov = jnp.linalg.inv(bb_Lam)\n",
    "    eta = aa_eta - ab_Lam @ bb_Cov @ bb_eta\n",
    "    Lam = aa_Lam - ab_Lam @ bb_Cov @ ab_Lam.T\n",
    "    return Gaussian(eta, Lam)\n",
    "\n",
    "\n",
    "def tree_stack(tree, axis=0, use_np=True):\n",
    "    if use_np:\n",
    "        return jax.tree.map(lambda *v: jnp.array(np.stack(v, axis=axis)), *tree)\n",
    "    return jax.tree.map(lambda *v: jnp.stack(v, axis=axis), *tree)\n",
    "\n",
    "\n",
    "def h_fn(x):\n",
    "    return x\n",
    "\n",
    "\n",
    "def h2_fn(xs):\n",
    "    \"\"\"\n",
    "    xs: shape (2, D), where:\n",
    "        - xs[0] is x1\n",
    "        - xs[1] is x2\n",
    "    \"\"\"\n",
    "    x1 = xs[0]\n",
    "    x2 = xs[1]\n",
    "    return x2 - x1\n",
    "\n",
    "\n",
    "# @jax.jit\n",
    "def update_belief(var: Variable, ftov_msgs): # Calculate Eq. (7)\n",
    "    belief = var.belief.zero_like()\n",
    "    for i in range(ftov_msgs.eta.shape[0]):\n",
    "        belief = belief * Gaussian(ftov_msgs.eta[i], ftov_msgs.Lam[i])\n",
    "\n",
    "\n",
    "    return belief\n",
    "\n",
    "\"\"\"\n",
    "# @jax.jit\n",
    "def update_belief(varis: Variable, ftov_msgs):\n",
    "    belief = varis.belief.zero_like()\n",
    "\n",
    "    mask = (varis.adj_factor_idx >= 0)[..., None]\n",
    "\n",
    "    # Debug: print mask\n",
    "    jax.debug.print(\"mask = {}\", mask)\n",
    "\n",
    "    varis.msgs.eta = varis.msgs.eta * mask\n",
    "    varis.msgs.Lam = varis.msgs.Lam * mask[..., None]\n",
    "\n",
    "    # Debug: print masked eta\n",
    "    jax.debug.print(\"masked msgs.eta = {}\", varis.msgs.eta)\n",
    "\n",
    "    for i in range(ftov_msgs.eta.shape[0]):\n",
    "        msg = Gaussian(ftov_msgs.eta[i], ftov_msgs.Lam[i])\n",
    "        belief = belief * msg\n",
    "\n",
    "    return belief\n",
    "\"\"\"\n",
    "\n",
    "\n",
    "# @jax.jit\n",
    "def compute_vtof_msgs(var: Variable, ftov_msgs): # Eq.(19); do for each variable (x_m)\n",
    "    vtof_msgs = []\n",
    "    for i, idx in enumerate(var.adj_factor_idx): # for each f_si connected to x_m...\n",
    "        msg = var.belief / Gaussian(ftov_msgs.eta[i], ftov_msgs.Lam[i]) # Eq.(19) LHS subscript of SUM\n",
    "        eta = jnp.where(idx < 0, msg.zero_like().eta, msg.eta) # Those not connected should not affect the calculation (idx < 0)\n",
    "        Lam = jnp.where(idx < 0, msg.zero_like().Lam, msg.Lam) # The reason to not using \"if\" (while it's per-element) is to optimize better\n",
    "        vtof_msgs.append(Gaussian(eta, Lam)) # append (x_m -> f_si)\n",
    "    return tree_stack(vtof_msgs, use_np=False) # [(x_m -> f_s1), (x_m -> f_s2), ... ] # The length is Ni_v\n",
    "\n",
    "\n",
    "@partial(jax.jit, static_argnames=[\"h_fn\"])\n",
    "def factor_energy(factor, xs, h_fn):\n",
    "    h = h_fn(xs)\n",
    "    z = factor.z\n",
    "    z_Lam = factor.z_Lam\n",
    "    r = z - h\n",
    "    return 0.5 * r @ z_Lam @ r.T\n",
    "\n",
    "\n",
    "\n",
    "# @partial(jax.jit, static_argnames=[\"h_fn\", \"w\"])\n",
    "def factor_update(factor, xs, h_fn, w):\n",
    "    h = h_fn(xs)\n",
    "    J = jax.jacrev(h_fn)(xs).reshape(h.size, xs.size) # Jacobian auto-diff (J_s)\n",
    "    z = factor.z # I think this is a vector\n",
    "    z_Lam = factor.z_Lam\n",
    "    r = z - h.reshape(-1) # TODO: reshape can be problematic\n",
    "    s = w(r.T @ z_Lam @ r, factor.threshold) # Scale to consider Robust Loss\n",
    "    Lam = s * J.T @ z_Lam @ J # Eq. (36)\n",
    "    eta = s * J.T @ z_Lam @ (J @ xs.reshape(-1) + r) # TODO: reshape can be problematic; Eq. (36); xs should be a vector\n",
    "    return Gaussian(eta, Lam) # Factor; represented w.r.t. neighboring variables xs\n",
    "\n",
    "\n",
    "# @jax.jit\n",
    "def compute_ftov_msg(factor, vtof_msgs): # Ch 3.5 Message Passing at a Factor Node\n",
    "    N_adj, dim = vtof_msgs.eta.shape # #Ni_v * 3 (#Varis is vmapped)\n",
    "    pot = factor.potential.copy() # log(f_s), but for only a specific variable a factor is connected to.\n",
    "    i = 0\n",
    "    for n in range(N_adj): # Add all! (Produce all)\n",
    "        j = i + dim\n",
    "        pot.eta = pot.eta.at[i:j].add(vtof_msgs.eta[n])\n",
    "        pot.Lam = pot.Lam.at[i:j, i:j].add(vtof_msgs.Lam[n])\n",
    "        i = j\n",
    "\n",
    "\n",
    "    ftov_msgs = []\n",
    "    i = 0\n",
    "    for n in range(N_adj):\n",
    "        j = i + dim\n",
    "        pot_m_1 = pot.copy()\n",
    "        pot_m_1.eta = pot_m_1.eta.at[i:j].add(-vtof_msgs.eta[n]) # Subtract direction of going out! (42)\n",
    "        pot_m_1.Lam = pot_m_1.Lam.at[i:j, i:j].add(-vtof_msgs.Lam[n]) # (43)\n",
    "        msg = marginalize(pot_m_1, i, j) # (46), (47)\n",
    "        ftov_msgs.append(msg)\n",
    "        i = j\n",
    "    return tree_stack(ftov_msgs, use_np=False)\n",
    "\n",
    "\n",
    "@jax.jit\n",
    "def update_variable(varis): # Update belief with receiving msgs and calculate msg to factors; varis.msgs are up-to-date and varis.belief are not\n",
    "    varis.belief = jax.vmap(update_belief)(varis, varis.msgs) # Eq. (7); varis.msgs is receiving msgs (ftov)\n",
    "    vtof_msgs = jax.vmap(compute_vtof_msgs)(varis, varis.msgs) # Variable -> Factor Msg; Eq. (19)\n",
    "    linpoints = jax.vmap(lambda x: x.mu())(varis.belief) # Current avg of belief! Belief is posterior\n",
    "\n",
    "    return varis, vtof_msgs, linpoints # vtof msgs: # Var * # Var-direction (factor, Ni_v) msgs\n",
    "\n",
    "\n",
    "@partial(jax.jit, static_argnames=[\"f\", \"w\"])\n",
    "def update_factor(facs, varis, vtof_msgs, linpoints, f, w): # f is factor function, w is robustifier\n",
    "    vtof_msgs_reordered = jax.tree_util.tree_map( # Variable to factor messages to specific (variable, factor; or variable-direction) pair\n",
    "        lambda x: x[facs.adj_var_id, facs.adj_var_idx], vtof_msgs # id: Variable id (one end), idx: direction (another end)\n",
    "    )\n",
    "    linpoints_reordered = jax.tree_util.tree_map(\n",
    "        lambda x: x[facs.adj_var_id], linpoints # Reorder linpoints by adj_var_id: variables' mean for factors' one ends\n",
    "    )\n",
    "    \n",
    "    facs.potential = jax.vmap(factor_update, in_axes=(0, 0, None, None))( # Calculate each factor potential (f_s(x, x_1, ..., x_M) of Eq. (15))\n",
    "        facs, linpoints_reordered, f, w # Each factor contribution of variable-direction pair (factor: variable-direction pair)\n",
    "    ) # 1 or 2-dimensional!! (gradient / prior factor or smoothness factor)\n",
    "    ftov_msgs = jax.vmap(compute_ftov_msg)(facs, vtof_msgs_reordered) # ftov calculation by Eq. (15), with potential f_s, and msg vtof\n",
    "    varis.msgs.eta = varis.msgs.eta.at[facs.adj_var_id, facs.adj_var_idx].set( # Setting varis' receiving messages\n",
    "        ftov_msgs.eta\n",
    "    )\n",
    "    varis.msgs.Lam = varis.msgs.Lam.at[facs.adj_var_id, facs.adj_var_idx].set(\n",
    "        ftov_msgs.Lam\n",
    "    )\n",
    "\n",
    "    mask = (varis.adj_factor_idx >= 0)[..., None]\n",
    "    varis.msgs.eta = varis.msgs.eta * mask\n",
    "    varis.msgs.Lam = varis.msgs.Lam * mask[..., None]\n",
    "\n",
    "    return facs, varis\n",
    "\n",
    "\n",
    "@jax.jit\n",
    "def huber(e, t):\n",
    "    x = jnp.sqrt(e)\n",
    "    return jnp.where(x <= t, 1.0, t / x)\n",
    "\n",
    "\n",
    "@jax.jit\n",
    "def l2(e, _):\n",
    "    return 1.0"
   ]
  },
  {
   "cell_type": "code",
   "execution_count": 2,
   "id": "a2a57ebc-53ad-40b0-8544-c72c1e5c4f34",
   "metadata": {},
   "outputs": [],
   "source": [
    "def build_pose_slam_graph(N, prior_meas, between_meas, noise_std, Ni_v=15, D=2):\n",
    "    \"\"\"\n",
    "    Build a 2D pose-SLAM factor graph with:\n",
    "    - N variable nodes (each 2D position)\n",
    "    - Prior measurements (with strong precision)\n",
    "    - Between measurements (with moderate precision from noise_std)\n",
    "    \n",
    "    Parameters:\n",
    "    - N: number of variables\n",
    "    - prior_meas: list of (i, z) where z is the prior measurement at node i\n",
    "    - between_meas: list of (i, j, z) where z is relative measurement from i to j\n",
    "    - noise_std: standard deviation for between measurements (list or array of length D)\n",
    "    - Ni_v: number of factor connections per variable (default 15)\n",
    "    - D: dimension of each variable (default 2)\n",
    "    \n",
    "    Returns:\n",
    "    - varis: Variable object\n",
    "    - prior_facs: Factor object for priors\n",
    "    - between_facs: Factor object for between factors\n",
    "    \"\"\"\n",
    "\n",
    "    # === Step 1: Initialize Variable nodes ===\n",
    "    var_ids = jnp.arange(N, dtype=jnp.int32)\n",
    "    belief = Gaussian(jnp.zeros((N, D)), jnp.tile(jnp.eye(D), (N, 1, 1)))  # initial mean 0, covariance I\n",
    "    msgs = Gaussian(jnp.zeros((N, Ni_v, D)), jnp.zeros((N, Ni_v, D, D)))  # messages (eta, Lambda) to each factor port\n",
    "    adj_factor_idx = -jnp.ones((N, Ni_v), dtype=jnp.int32)  # -1 indicates no connected factor at this port\n",
    "\n",
    "    varis = Variable(var_ids, belief, msgs, adj_factor_idx)\n",
    "\n",
    "    # === Step 2: Build Prior Factors (strong precision for anchoring the graph) ===\n",
    "    prior_factor_id = []\n",
    "    prior_z = []\n",
    "    prior_z_Lam = []\n",
    "    prior_threshold = []\n",
    "    prior_adj_var_id = []\n",
    "    prior_adj_var_idx = []\n",
    "\n",
    "    fac_counter = 0  # global factor ID counter\n",
    "\n",
    "    for (i, z) in prior_meas:\n",
    "        prior_factor_id.append(fac_counter)\n",
    "        prior_z.append(jnp.array(z))\n",
    "\n",
    "        # Very strong prior: small noise variance -> large precision\n",
    "        strong_prior_std = 1e-7\n",
    "        prior_z_Lam.append(jnp.eye(D) / strong_prior_std)  # shape (D, D)\n",
    "\n",
    "        prior_threshold.append(1.0)\n",
    "        prior_adj_var_id.append([i])     # only connected to variable i\n",
    "        prior_adj_var_idx.append([0])     # use port 0 for prior\n",
    "\n",
    "        varis.adj_factor_idx = varis.adj_factor_idx.at[i, 0].set(fac_counter)\n",
    "        fac_counter += 1\n",
    "\n",
    "    prior_facs = Factor(\n",
    "        factor_id=jnp.array(prior_factor_id),\n",
    "        z=jnp.stack(prior_z),\n",
    "        z_Lam=jnp.stack(prior_z_Lam),\n",
    "        threshold=jnp.array(prior_threshold),\n",
    "        potential=None,\n",
    "        adj_var_id=jnp.array(prior_adj_var_id),\n",
    "        adj_var_idx=jnp.array(prior_adj_var_idx),\n",
    "    )\n",
    "\n",
    "    # === Step 3: Build Between Factors (relative pose measurements) ===\n",
    "    between_factor_id = []\n",
    "    between_z = []\n",
    "    between_z_Lam = []\n",
    "    between_threshold = []\n",
    "    between_adj_var_id = []\n",
    "    between_adj_var_idx = []\n",
    "\n",
    "    for (i, j, z) in between_meas:\n",
    "        between_factor_id.append(fac_counter)\n",
    "        between_z.append(jnp.array(z))\n",
    "\n",
    "        # Between-factor noise: use provided noise_std to compute precision\n",
    "        between_z_Lam.append(jnp.diag(1.0 / (jnp.array(noise_std) )))  # shape (D, D)\n",
    "\n",
    "        between_threshold.append(1.0)\n",
    "\n",
    "        # Assign first empty port >=1 to variable i and j\n",
    "        port_i = int(jnp.argmax(varis.adj_factor_idx[i, 1:] == -1)) + 1\n",
    "        port_j = int(jnp.argmax(varis.adj_factor_idx[j, 1:] == -1)) + 1\n",
    "        varis.adj_factor_idx = varis.adj_factor_idx.at[i, port_i].set(fac_counter)\n",
    "        varis.adj_factor_idx = varis.adj_factor_idx.at[j, port_j].set(fac_counter)\n",
    "\n",
    "        between_adj_var_id.append([i, j])\n",
    "        between_adj_var_idx.append([port_i, port_j])\n",
    "        fac_counter += 1\n",
    "\n",
    "    between_facs = Factor(\n",
    "        factor_id=jnp.array(between_factor_id),\n",
    "        z=jnp.stack(between_z),\n",
    "        z_Lam=jnp.stack(between_z_Lam),\n",
    "        threshold=jnp.array(between_threshold),\n",
    "        potential=None,\n",
    "        adj_var_id=jnp.array(between_adj_var_id),\n",
    "        adj_var_idx=jnp.array(between_adj_var_idx),\n",
    "    )\n",
    "\n",
    "    return varis, prior_facs, between_facs\n"
   ]
  },
  {
   "cell_type": "code",
   "execution_count": 3,
   "id": "e2ac9f7c-3d8b-4dba-a1a6-3da7daea4998",
   "metadata": {},
   "outputs": [],
   "source": [
    "def generate_loopy_pose_slam_data(N=50, seed=0, odom_noise_std=0.5):\n",
    "    np.random.seed(seed)\n",
    "    positions = np.random.rand(N, 2) * 100  # True Location\n",
    "\n",
    "    tri = Delaunay(positions)\n",
    "    edges = set()\n",
    "    for triangle in tri.simplices:\n",
    "        for i in range(3):\n",
    "            a, b = triangle[i], triangle[(i + 1) % 3]\n",
    "            edges.add(tuple(sorted((a, b))))\n",
    "    edges = list(edges)\n",
    "\n",
    "    prior_meas = [(0, positions[0].tolist())]  # fix anchor node\n",
    "\n",
    "    between_meas = []\n",
    "    for (i, j) in edges:\n",
    "        rel = positions[j] - positions[i]\n",
    "        noise = np.random.randn(2) * odom_noise_std\n",
    "        rel_noisy = (rel + noise).tolist()\n",
    "        between_meas.append((i, j, rel_noisy))\n",
    "\n",
    "    return positions, prior_meas, between_meas, edges\n"
   ]
  },
  {
   "cell_type": "code",
   "execution_count": 4,
   "id": "2fc918d5-761f-4059-9d1c-8bae9410c5de",
   "metadata": {},
   "outputs": [],
   "source": [
    "def batch_solve(positions, prior_meas, between_meas, edges, noise_std=1):\n",
    "    N, D = positions.shape\n",
    "    dim = N * D\n",
    "    Lambda = np.zeros((dim, dim))\n",
    "    eta = np.zeros(dim)\n",
    "\n",
    "    # set prior measurement\n",
    "    prior_Lam = np.eye(D) * 1e7\n",
    "    for (i, z) in prior_meas:\n",
    "        idx = slice(i * D, (i + 1) * D)\n",
    "        Lambda[idx, idx] += prior_Lam\n",
    "        eta[idx] += prior_Lam @ np.array(z)\n",
    "\n",
    "    # set between measurement\n",
    "    between_Lam = np.eye(D) / (noise_std)\n",
    "    for (i, j, z) in between_meas:\n",
    "        idx_i = slice(i * D, (i + 1) * D)\n",
    "        idx_j = slice(j * D, (j + 1) * D)\n",
    "        J_i = -np.eye(D)\n",
    "        J_j = np.eye(D)\n",
    "\n",
    "        H_ii = J_i.T @ between_Lam @ J_i\n",
    "        H_ij = J_i.T @ between_Lam @ J_j\n",
    "        H_jj = J_j.T @ between_Lam @ J_j\n",
    "        b_i = J_i.T @ between_Lam @ z\n",
    "        b_j = J_j.T @ between_Lam @ z\n",
    "\n",
    "        Lambda[idx_i, idx_i] += H_ii\n",
    "        Lambda[idx_i, idx_j] += H_ij\n",
    "        Lambda[idx_j, idx_i] += H_ij.T\n",
    "        Lambda[idx_j, idx_j] += H_jj\n",
    "        eta[idx_i] += b_i\n",
    "        eta[idx_j] += b_j\n",
    "\n",
    "    x_opt = np.linalg.solve(Lambda, eta)\n",
    "    return x_opt.reshape(N, D)\n"
   ]
  },
  {
   "cell_type": "code",
   "execution_count": 5,
   "id": "614557ab-78a7-4984-9387-1bb916ef8a8b",
   "metadata": {},
   "outputs": [],
   "source": [
    "def gbp_solve(varis, prior_facs, between_facs, num_iters=50, visualize=False):\n",
    "    energy_log = []\n",
    "    \n",
    "    for i in range(num_iters):\n",
    "        # Step 1: Variable update\n",
    "        varis, vtof_msgs, linpoints = update_variable(varis)\n",
    "\n",
    "        # Step 2: Factor update\n",
    "        prior_facs, varis = update_factor(prior_facs, varis, vtof_msgs, linpoints, h_fn, l2)\n",
    "        between_facs, varis = update_factor(between_facs, varis, vtof_msgs, linpoints, h2_fn, l2)\n",
    "\n",
    "\n",
    "        if visualize:\n",
    "            # Step 3: Energy computation\n",
    "            prior_energy = jnp.sum(jax.vmap(factor_energy, in_axes=(0, 0, None))(\n",
    "                prior_facs, linpoints[prior_facs.adj_var_id[:, 0]], h_fn\n",
    "            ))\n",
    "    \n",
    "            between_energy = jnp.sum(jax.vmap(factor_energy, in_axes=(0, 0, None))(\n",
    "                between_facs, linpoints[between_facs.adj_var_id], h2_fn\n",
    "            ))\n",
    "    \n",
    "            energy = prior_energy + between_energy\n",
    "            energy_log.append(energy)\n",
    "        \n",
    "\n",
    "    # Step 4: Keep linpoints\n",
    "    linpoints = jax.vmap(lambda x: x.mu())(varis.belief)  \n",
    "        \n",
    "    return varis, prior_facs, between_facs, np.array(energy_log), linpoints\n"
   ]
  },
  {
   "cell_type": "code",
   "execution_count": 8,
   "id": "9178ad60-bf63-4c11-b7de-40411c2dc978",
   "metadata": {},
   "outputs": [
    {
     "name": "stdout",
     "output_type": "stream",
     "text": [
      "var_id: (200,)\n",
      "belief.eta: (200, 2)\n",
      "belief.Lam: (200, 2, 2)\n",
      "msgs.eta: (200, 15, 2)\n",
      "msgs.Lam: (200, 15, 2, 2)\n",
      "adj_factor_idx: (200, 15)\n"
     ]
    }
   ],
   "source": [
    "positions, prior_meas, between_meas, edges = generate_loopy_pose_slam_data(\n",
    "    N=200, seed=42, odom_noise_std=20\n",
    ")\n",
    "\n",
    "varis, prior_facs, between_facs = build_pose_slam_graph(\n",
    "    N=len(positions),\n",
    "    prior_meas=prior_meas,\n",
    "    between_meas=between_meas,\n",
    "    noise_std=[1, 1]\n",
    ")\n",
    "\n",
    "\n",
    "cpu_device = jax.devices(\"cpu\")[0]\n",
    "varis= jax.device_put(varis, cpu_device)\n",
    "prior_facs = jax.device_put(prior_facs, cpu_device)\n",
    "between_facs = jax.device_put(between_facs, cpu_device)\n",
    "\n",
    "\n",
    "print(\"var_id:\", varis.var_id.shape)            # should be (N,)\n",
    "print(\"belief.eta:\", varis.belief.eta.shape)    # should be (N, D)\n",
    "print(\"belief.Lam:\", varis.belief.Lam.shape)    # should be (N, D, D)\n",
    "print(\"msgs.eta:\", varis.msgs.eta.shape)        # should be (N, Ni_v, D)\n",
    "print(\"msgs.Lam:\", varis.msgs.Lam.shape)        # should be (N, Ni_v, D, D)\n",
    "print(\"adj_factor_idx:\", varis.adj_factor_idx.shape)  # should be (N, Ni_v)\n"
   ]
  },
  {
   "cell_type": "code",
   "execution_count": 11,
   "id": "bc582836-a939-4d25-ac72-bd9e52799315",
   "metadata": {},
   "outputs": [
    {
     "data": {
      "application/vnd.plotly.v1+json": {
       "config": {
        "plotlyServerURL": "https://plot.ly"
       },
       "data": [
        {
         "hoverinfo": "skip",
         "line": {
          "color": "lightgray",
          "width": 1
         },
         "mode": "lines",
         "showlegend": false,
         "type": "scatter",
         "x": [
          72.96061783380641,
          65.76128923003434
         ],
         "y": [
          63.75574713552131,
          56.830860333547164
         ]
        },
        {
         "hoverinfo": "skip",
         "line": {
          "color": "lightgray",
          "width": 1
         },
         "mode": "lines",
         "showlegend": false,
         "type": "scatter",
         "x": [
          94.29097039125192,
          98.56504541106007
         ],
         "y": [
          32.320293202075526,
          24.20552715115004
         ]
        },
        {
         "hoverinfo": "skip",
         "line": {
          "color": "lightgray",
          "width": 1
         },
         "mode": "lines",
         "showlegend": false,
         "type": "scatter",
         "x": [
          88.72127425763266,
          94.14648087765252
         ],
         "y": [
          47.22149251619493,
          38.610263780077425
         ]
        },
        {
         "hoverinfo": "skip",
         "line": {
          "color": "lightgray",
          "width": 1
         },
         "mode": "lines",
         "showlegend": false,
         "type": "scatter",
         "x": [
          7.455064367977082,
          2.535074341545751
         ],
         "y": [
          98.68869366005173,
          96.26484146779251
         ]
        },
        {
         "hoverinfo": "skip",
         "line": {
          "color": "lightgray",
          "width": 1
         },
         "mode": "lines",
         "showlegend": false,
         "type": "scatter",
         "x": [
          15.601864044243651,
          10.077800137742665
         ],
         "y": [
          15.599452033620265,
          1.8221825651549728
         ]
        },
        {
         "hoverinfo": "skip",
         "line": {
          "color": "lightgray",
          "width": 1
         },
         "mode": "lines",
         "showlegend": false,
         "type": "scatter",
         "x": [
          86.31034258755935,
          89.25589984899777
         ],
         "y": [
          62.329812682755794,
          53.93422419156507
         ]
        },
        {
         "hoverinfo": "skip",
         "line": {
          "color": "lightgray",
          "width": 1
         },
         "mode": "lines",
         "showlegend": false,
         "type": "scatter",
         "x": [
          93.9498941564189,
          96.36199770892529
         ],
         "y": [
          89.48273504276489,
          85.300945546736
         ]
        },
        {
         "hoverinfo": "skip",
         "line": {
          "color": "lightgray",
          "width": 1
         },
         "mode": "lines",
         "showlegend": false,
         "type": "scatter",
         "x": [
          19.52429877980445,
          11.816482762165625
         ],
         "y": [
          72.24521152615053,
          69.67371653641507
         ]
        },
        {
         "hoverinfo": "skip",
         "line": {
          "color": "lightgray",
          "width": 1
         },
         "mode": "lines",
         "showlegend": false,
         "type": "scatter",
         "x": [
          83.24426408004217,
          90.82658859666537
         ],
         "y": [
          21.233911067827616,
          23.95618906669724
         ]
        },
        {
         "hoverinfo": "skip",
         "line": {
          "color": "lightgray",
          "width": 1
         },
         "mode": "lines",
         "showlegend": false,
         "type": "scatter",
         "x": [
          35.84657285442726,
          34.10663510502585
         ],
         "y": [
          11.586905952512971,
          11.347352124058908
         ]
        },
        {
         "hoverinfo": "skip",
         "line": {
          "color": "lightgray",
          "width": 1
         },
         "mode": "lines",
         "showlegend": false,
         "type": "scatter",
         "x": [
          95.48652806631941,
          94.02302414249576
         ],
         "y": [
          73.78969166957685,
          57.5474177875879
         ]
        },
        {
         "hoverinfo": "skip",
         "line": {
          "color": "lightgray",
          "width": 1
         },
         "mode": "lines",
         "showlegend": false,
         "type": "scatter",
         "x": [
          65.19612595026005,
          71.2179221347536
         ],
         "y": [
          22.42693094605598,
          23.724908749680008
         ]
        },
        {
         "hoverinfo": "skip",
         "line": {
          "color": "lightgray",
          "width": 1
         },
         "mode": "lines",
         "showlegend": false,
         "type": "scatter",
         "x": [
          60.642905965958995,
          43.89714207056361
         ],
         "y": [
          0.9197051616629648,
          7.845638134226595
         ]
        },
        {
         "hoverinfo": "skip",
         "line": {
          "color": "lightgray",
          "width": 1
         },
         "mode": "lines",
         "showlegend": false,
         "type": "scatter",
         "x": [
          43.89714207056361,
          40.89529444142699
         ],
         "y": [
          7.845638134226595,
          17.329432007084577
         ]
        },
        {
         "hoverinfo": "skip",
         "line": {
          "color": "lightgray",
          "width": 1
         },
         "mode": "lines",
         "showlegend": false,
         "type": "scatter",
         "x": [
          82.26005606596583,
          81.44684825889358
         ],
         "y": [
          36.019064141126286,
          28.185477477339994
         ]
        },
        {
         "hoverinfo": "skip",
         "line": {
          "color": "lightgray",
          "width": 1
         },
         "mode": "lines",
         "showlegend": false,
         "type": "scatter",
         "x": [
          82.26005606596583,
          85.84127518430118
         ],
         "y": [
          36.019064141126286,
          42.89940273750184
         ]
        },
        {
         "hoverinfo": "skip",
         "line": {
          "color": "lightgray",
          "width": 1
         },
         "mode": "lines",
         "showlegend": false,
         "type": "scatter",
         "x": [
          60.11150117432088,
          54.87337893665861
         ],
         "y": [
          70.80725777960456,
          69.18951976926932
         ]
        },
        {
         "hoverinfo": "skip",
         "line": {
          "color": "lightgray",
          "width": 1
         },
         "mode": "lines",
         "showlegend": false,
         "type": "scatter",
         "x": [
          37.46126146264712,
          38.816992620652194
         ],
         "y": [
          62.58599157142364,
          64.32882184423532
         ]
        },
        {
         "hoverinfo": "skip",
         "line": {
          "color": "lightgray",
          "width": 1
         },
         "mode": "lines",
         "showlegend": false,
         "type": "scatter",
         "x": [
          28.9751452913768,
          31.800347497186387
         ],
         "y": [
          16.122128725400444,
          11.005192452767677
         ]
        },
        {
         "hoverinfo": "skip",
         "line": {
          "color": "lightgray",
          "width": 1
         },
         "mode": "lines",
         "showlegend": false,
         "type": "scatter",
         "x": [
          92.96976523425731,
          96.36199770892529
         ],
         "y": [
          80.8120379564417,
          85.300945546736
         ]
        },
        {
         "hoverinfo": "skip",
         "line": {
          "color": "lightgray",
          "width": 1
         },
         "mode": "lines",
         "showlegend": false,
         "type": "scatter",
         "x": [
          63.34037565104234,
          72.59556788702393
         ],
         "y": [
          87.14605901877177,
          89.71102599525771
         ]
        },
        {
         "hoverinfo": "skip",
         "line": {
          "color": "lightgray",
          "width": 1
         },
         "mode": "lines",
         "showlegend": false,
         "type": "scatter",
         "x": [
          96.24472949421113,
          98.56504541106007
         ],
         "y": [
          25.178229582536417,
          24.20552715115004
         ]
        },
        {
         "hoverinfo": "skip",
         "line": {
          "color": "lightgray",
          "width": 1
         },
         "mode": "lines",
         "showlegend": false,
         "type": "scatter",
         "x": [
          32.539969815926774,
          38.816992620652194
         ],
         "y": [
          74.64914051180241,
          64.32882184423532
         ]
        },
        {
         "hoverinfo": "skip",
         "line": {
          "color": "lightgray",
          "width": 1
         },
         "mode": "lines",
         "showlegend": false,
         "type": "scatter",
         "x": [
          5.147875124998935,
          7.118864846022898
         ],
         "y": [
          27.864646423661142,
          31.89756302937613
         ]
        },
        {
         "hoverinfo": "skip",
         "line": {
          "color": "lightgray",
          "width": 1
         },
         "mode": "lines",
         "showlegend": false,
         "type": "scatter",
         "x": [
          79.82951789667752,
          75.08710677914974
         ],
         "y": [
          64.99639307777652,
          75.45428740846823
         ]
        },
        {
         "hoverinfo": "skip",
         "line": {
          "color": "lightgray",
          "width": 1
         },
         "mode": "lines",
         "showlegend": false,
         "type": "scatter",
         "x": [
          83.24426408004217,
          90.7566473926093
         ],
         "y": [
          21.233911067827616,
          24.929222914887493
         ]
        },
        {
         "hoverinfo": "skip",
         "line": {
          "color": "lightgray",
          "width": 1
         },
         "mode": "lines",
         "showlegend": false,
         "type": "scatter",
         "x": [
          60.75448519014384,
          64.54722959071678
         ],
         "y": [
          17.052412368729154,
          17.711067940704893
         ]
        },
        {
         "hoverinfo": "skip",
         "line": {
          "color": "lightgray",
          "width": 1
         },
         "mode": "lines",
         "showlegend": false,
         "type": "scatter",
         "x": [
          76.99935530986109,
          79.51861947687037
         ],
         "y": [
          21.582102749684317,
          27.083225126207424
         ]
        },
        {
         "hoverinfo": "skip",
         "line": {
          "color": "lightgray",
          "width": 1
         },
         "mode": "lines",
         "showlegend": false,
         "type": "scatter",
         "x": [
          33.90297910487007,
          49.16158751168324
         ],
         "y": [
          34.92095746126609,
          47.34717707805657
         ]
        },
        {
         "hoverinfo": "skip",
         "line": {
          "color": "lightgray",
          "width": 1
         },
         "mode": "lines",
         "showlegend": false,
         "type": "scatter",
         "x": [
          36.77831327192532,
          32.539969815926774
         ],
         "y": [
          63.23058305935795,
          74.64914051180241
         ]
        },
        {
         "hoverinfo": "skip",
         "line": {
          "color": "lightgray",
          "width": 1
         },
         "mode": "lines",
         "showlegend": false,
         "type": "scatter",
         "x": [
          79.51861947687037,
          66.01973767177313
         ],
         "y": [
          27.083225126207424,
          27.993389694594285
         ]
        },
        {
         "hoverinfo": "skip",
         "line": {
          "color": "lightgray",
          "width": 1
         },
         "mode": "lines",
         "showlegend": false,
         "type": "scatter",
         "x": [
          68.42330265121569,
          57.69038846263591
         ],
         "y": [
          44.01524937396013,
          49.25176938188639
         ]
        },
        {
         "hoverinfo": "skip",
         "line": {
          "color": "lightgray",
          "width": 1
         },
         "mode": "lines",
         "showlegend": false,
         "type": "scatter",
         "x": [
          69.7015740995268,
          79.82951789667752
         ],
         "y": [
          70.24840839871092,
          64.99639307777652
         ]
        },
        {
         "hoverinfo": "skip",
         "line": {
          "color": "lightgray",
          "width": 1
         },
         "mode": "lines",
         "showlegend": false,
         "type": "scatter",
         "x": [
          29.214464853521815,
          26.520236768172545
         ],
         "y": [
          36.63618432936917,
          24.398964337908357
         ]
        },
        {
         "hoverinfo": "skip",
         "line": {
          "color": "lightgray",
          "width": 1
         },
         "mode": "lines",
         "showlegend": false,
         "type": "scatter",
         "x": [
          15.601864044243651,
          22.879816549162246
         ],
         "y": [
          15.599452033620265,
          7.697990982879299
         ]
        },
        {
         "hoverinfo": "skip",
         "line": {
          "color": "lightgray",
          "width": 1
         },
         "mode": "lines",
         "showlegend": false,
         "type": "scatter",
         "x": [
          86.31034258755935,
          83.59801205122058
         ],
         "y": [
          62.329812682755794,
          69.59742060936979
         ]
        },
        {
         "hoverinfo": "skip",
         "line": {
          "color": "lightgray",
          "width": 1
         },
         "mode": "lines",
         "showlegend": false,
         "type": "scatter",
         "x": [
          52.27328293819941,
          49.16158751168324
         ],
         "y": [
          42.75410183585496,
          47.34717707805657
         ]
        },
        {
         "hoverinfo": "skip",
         "line": {
          "color": "lightgray",
          "width": 1
         },
         "mode": "lines",
         "showlegend": false,
         "type": "scatter",
         "x": [
          38.8677289689482,
          35.94911512197552
         ],
         "y": [
          27.134903177389592,
          29.359184426449335
         ]
        },
        {
         "hoverinfo": "skip",
         "line": {
          "color": "lightgray",
          "width": 1
         },
         "mode": "lines",
         "showlegend": false,
         "type": "scatter",
         "x": [
          46.55980181324602,
          54.06351216101065
         ],
         "y": [
          54.26446347075766,
          63.742990149820656
         ]
        },
        {
         "hoverinfo": "skip",
         "line": {
          "color": "lightgray",
          "width": 1
         },
         "mode": "lines",
         "showlegend": false,
         "type": "scatter",
         "x": [
          90.7566473926093,
          89.00053418175663
         ],
         "y": [
          24.929222914887493,
          33.79951568515358
         ]
        },
        {
         "hoverinfo": "skip",
         "line": {
          "color": "lightgray",
          "width": 1
         },
         "mode": "lines",
         "showlegend": false,
         "type": "scatter",
         "x": [
          28.484049437746762,
          28.07723624408558
         ],
         "y": [
          3.6886947354532795,
          2.431596643145384
         ]
        },
        {
         "hoverinfo": "skip",
         "line": {
          "color": "lightgray",
          "width": 1
         },
         "mode": "lines",
         "showlegend": false,
         "type": "scatter",
         "x": [
          60.11150117432088,
          64.96328990472146
         ],
         "y": [
          70.80725777960456,
          84.9223410494178
         ]
        },
        {
         "hoverinfo": "skip",
         "line": {
          "color": "lightgray",
          "width": 1
         },
         "mode": "lines",
         "showlegend": false,
         "type": "scatter",
         "x": [
          96.36199770892529,
          96.11905638239142
         ],
         "y": [
          85.300945546736,
          90.53506419560637
         ]
        },
        {
         "hoverinfo": "skip",
         "line": {
          "color": "lightgray",
          "width": 1
         },
         "mode": "lines",
         "showlegend": false,
         "type": "scatter",
         "x": [
          76.07850486168974,
          81.72222002012158
         ],
         "y": [
          56.127719756949624,
          55.52008115994623
         ]
        },
        {
         "hoverinfo": "skip",
         "line": {
          "color": "lightgray",
          "width": 1
         },
         "mode": "lines",
         "showlegend": false,
         "type": "scatter",
         "x": [
          67.75643618422824,
          63.50936508676438
         ],
         "y": [
          1.6587828927856152,
          4.530400977204452
         ]
        },
        {
         "hoverinfo": "skip",
         "line": {
          "color": "lightgray",
          "width": 1
         },
         "mode": "lines",
         "showlegend": false,
         "type": "scatter",
         "x": [
          0.6952130531190703,
          5.16817211686077
         ],
         "y": [
          51.07473025775657,
          53.1354631568148
         ]
        },
        {
         "hoverinfo": "skip",
         "line": {
          "color": "lightgray",
          "width": 1
         },
         "mode": "lines",
         "showlegend": false,
         "type": "scatter",
         "x": [
          70.68573438476172,
          69.7015740995268
         ],
         "y": [
          72.90071680409874,
          70.24840839871092
         ]
        },
        {
         "hoverinfo": "skip",
         "line": {
          "color": "lightgray",
          "width": 1
         },
         "mode": "lines",
         "showlegend": false,
         "type": "scatter",
         "x": [
          93.6154774160781,
          95.48652806631941
         ],
         "y": [
          69.6029796674973,
          73.78969166957685
         ]
        },
        {
         "hoverinfo": "skip",
         "line": {
          "color": "lightgray",
          "width": 1
         },
         "mode": "lines",
         "showlegend": false,
         "type": "scatter",
         "x": [
          98.56504541106007,
          93.67299887367345
         ],
         "y": [
          24.20552715115004,
          13.752094414599325
         ]
        },
        {
         "hoverinfo": "skip",
         "line": {
          "color": "lightgray",
          "width": 1
         },
         "mode": "lines",
         "showlegend": false,
         "type": "scatter",
         "x": [
          3.4388521115218396,
          0.5522117123602399
         ],
         "y": [
          90.9320402078782,
          81.54614284548342
         ]
        },
        {
         "hoverinfo": "skip",
         "line": {
          "color": "lightgray",
          "width": 1
         },
         "mode": "lines",
         "showlegend": false,
         "type": "scatter",
         "x": [
          43.194501864211574,
          49.72485058923854
         ],
         "y": [
          29.122914019804192,
          30.087830981676966
         ]
        },
        {
         "hoverinfo": "skip",
         "line": {
          "color": "lightgray",
          "width": 1
         },
         "mode": "lines",
         "showlegend": false,
         "type": "scatter",
         "x": [
          15.601864044243651,
          19.579113478929642
         ],
         "y": [
          15.599452033620265,
          6.9361300875165455
         ]
        },
        {
         "hoverinfo": "skip",
         "line": {
          "color": "lightgray",
          "width": 1
         },
         "mode": "lines",
         "showlegend": false,
         "type": "scatter",
         "x": [
          59.24145688620425,
          62.28904758190003
         ],
         "y": [
          4.645041271999773,
          8.5347464993768
         ]
        },
        {
         "hoverinfo": "skip",
         "line": {
          "color": "lightgray",
          "width": 1
         },
         "mode": "lines",
         "showlegend": false,
         "type": "scatter",
         "x": [
          11.98653673336828,
          7.118864846022898
         ],
         "y": [
          33.7615171403628,
          31.89756302937613
         ]
        },
        {
         "hoverinfo": "skip",
         "line": {
          "color": "lightgray",
          "width": 1
         },
         "mode": "lines",
         "showlegend": false,
         "type": "scatter",
         "x": [
          31.800347497186387,
          34.10663510502585
         ],
         "y": [
          11.005192452767677,
          11.347352124058908
         ]
        },
        {
         "hoverinfo": "skip",
         "line": {
          "color": "lightgray",
          "width": 1
         },
         "mode": "lines",
         "showlegend": false,
         "type": "scatter",
         "x": [
          72.59556788702393,
          70.19668772577033
         ],
         "y": [
          89.71102599525771,
          79.57926694361011
         ]
        },
        {
         "hoverinfo": "skip",
         "line": {
          "color": "lightgray",
          "width": 1
         },
         "mode": "lines",
         "showlegend": false,
         "type": "scatter",
         "x": [
          93.67299887367345,
          84.48753109694546
         ],
         "y": [
          13.752094414599325,
          2.3271935735825866
         ]
        },
        {
         "hoverinfo": "skip",
         "line": {
          "color": "lightgray",
          "width": 1
         },
         "mode": "lines",
         "showlegend": false,
         "type": "scatter",
         "x": [
          60.642905965958995,
          28.07723624408558
         ],
         "y": [
          0.9197051616629648,
          2.431596643145384
         ]
        },
        {
         "hoverinfo": "skip",
         "line": {
          "color": "lightgray",
          "width": 1
         },
         "mode": "lines",
         "showlegend": false,
         "type": "scatter",
         "x": [
          81.80147659224932,
          86.70723185801037
         ],
         "y": [
          86.07305832563435,
          91.32405525564712
         ]
        },
        {
         "hoverinfo": "skip",
         "line": {
          "color": "lightgray",
          "width": 1
         },
         "mode": "lines",
         "showlegend": false,
         "type": "scatter",
         "x": [
          12.203823484477883,
          14.48948720912231
         ],
         "y": [
          49.51769101112702,
          48.9452760277563
         ]
        },
        {
         "hoverinfo": "skip",
         "line": {
          "color": "lightgray",
          "width": 1
         },
         "mode": "lines",
         "showlegend": false,
         "type": "scatter",
         "x": [
          15.601864044243651,
          2.541912674409519
         ],
         "y": [
          15.599452033620265,
          10.789142699330444
         ]
        },
        {
         "hoverinfo": "skip",
         "line": {
          "color": "lightgray",
          "width": 1
         },
         "mode": "lines",
         "showlegend": false,
         "type": "scatter",
         "x": [
          26.520236768172545,
          15.643704267108605
         ],
         "y": [
          24.398964337908357,
          25.024289816459532
         ]
        },
        {
         "hoverinfo": "skip",
         "line": {
          "color": "lightgray",
          "width": 1
         },
         "mode": "lines",
         "showlegend": false,
         "type": "scatter",
         "x": [
          92.46936182785628,
          86.70723185801037
         ],
         "y": [
          87.7339353380981,
          91.32405525564712
         ]
        },
        {
         "hoverinfo": "skip",
         "line": {
          "color": "lightgray",
          "width": 1
         },
         "mode": "lines",
         "showlegend": false,
         "type": "scatter",
         "x": [
          36.3629602379294,
          34.08035402530179
         ],
         "y": [
          97.17820827209607,
          93.07573256035647
         ]
        },
        {
         "hoverinfo": "skip",
         "line": {
          "color": "lightgray",
          "width": 1
         },
         "mode": "lines",
         "showlegend": false,
         "type": "scatter",
         "x": [
          90.7566473926093,
          85.11366715168569
         ],
         "y": [
          24.929222914887493,
          31.692200515627768
         ]
        },
        {
         "hoverinfo": "skip",
         "line": {
          "color": "lightgray",
          "width": 1
         },
         "mode": "lines",
         "showlegend": false,
         "type": "scatter",
         "x": [
          29.214464853521815,
          29.444889206958567
         ],
         "y": [
          36.63618432936917,
          38.50977286019253
         ]
        },
        {
         "hoverinfo": "skip",
         "line": {
          "color": "lightgray",
          "width": 1
         },
         "mode": "lines",
         "showlegend": false,
         "type": "scatter",
         "x": [
          96.56320330745594,
          96.95846277645586
         ],
         "y": [
          80.83973481164611,
          77.51328233611146
         ]
        },
        {
         "hoverinfo": "skip",
         "line": {
          "color": "lightgray",
          "width": 1
         },
         "mode": "lines",
         "showlegend": false,
         "type": "scatter",
         "x": [
          16.94927466860925,
          12.706051265188478
         ],
         "y": [
          55.68012624583501,
          52.224326005480435
         ]
        },
        {
         "hoverinfo": "skip",
         "line": {
          "color": "lightgray",
          "width": 1
         },
         "mode": "lines",
         "showlegend": false,
         "type": "scatter",
         "x": [
          41.7411003148779,
          32.07800649717358
         ],
         "y": [
          22.210781047073024,
          18.651851039985424
         ]
        },
        {
         "hoverinfo": "skip",
         "line": {
          "color": "lightgray",
          "width": 1
         },
         "mode": "lines",
         "showlegend": false,
         "type": "scatter",
         "x": [
          43.194501864211574,
          38.8677289689482
         ],
         "y": [
          29.122914019804192,
          27.134903177389592
         ]
        },
        {
         "hoverinfo": "skip",
         "line": {
          "color": "lightgray",
          "width": 1
         },
         "mode": "lines",
         "showlegend": false,
         "type": "scatter",
         "x": [
          5.147875124998935,
          15.643704267108605
         ],
         "y": [
          27.864646423661142,
          25.024289816459532
         ]
        },
        {
         "hoverinfo": "skip",
         "line": {
          "color": "lightgray",
          "width": 1
         },
         "mode": "lines",
         "showlegend": false,
         "type": "scatter",
         "x": [
          43.194501864211574,
          52.27328293819941
         ],
         "y": [
          29.122914019804192,
          42.75410183585496
         ]
        },
        {
         "hoverinfo": "skip",
         "line": {
          "color": "lightgray",
          "width": 1
         },
         "mode": "lines",
         "showlegend": false,
         "type": "scatter",
         "x": [
          86.70723185801037,
          72.60913337226616
         ],
         "y": [
          91.32405525564712,
          97.58520794625346
         ]
        },
        {
         "hoverinfo": "skip",
         "line": {
          "color": "lightgray",
          "width": 1
         },
         "mode": "lines",
         "showlegend": false,
         "type": "scatter",
         "x": [
          76.07850486168974,
          79.48113035416485
         ],
         "y": [
          56.127719756949624,
          50.26370931051921
         ]
        },
        {
         "hoverinfo": "skip",
         "line": {
          "color": "lightgray",
          "width": 1
         },
         "mode": "lines",
         "showlegend": false,
         "type": "scatter",
         "x": [
          77.22447692966574,
          65.8693631618945
         ],
         "y": [
          19.87156815341724,
          16.29344270814297
         ]
        },
        {
         "hoverinfo": "skip",
         "line": {
          "color": "lightgray",
          "width": 1
         },
         "mode": "lines",
         "showlegend": false,
         "type": "scatter",
         "x": [
          80.36720768991145,
          93.67299887367345
         ],
         "y": [
          18.657005888603585,
          13.752094414599325
         ]
        },
        {
         "hoverinfo": "skip",
         "line": {
          "color": "lightgray",
          "width": 1
         },
         "mode": "lines",
         "showlegend": false,
         "type": "scatter",
         "x": [
          51.2093058299281,
          47.41738290873252
         ],
         "y": [
          22.649577519793795,
          9.783416065100148
         ]
        },
        {
         "hoverinfo": "skip",
         "line": {
          "color": "lightgray",
          "width": 1
         },
         "mode": "lines",
         "showlegend": false,
         "type": "scatter",
         "x": [
          39.85047343973734,
          45.825289049151664
         ],
         "y": [
          61.585009805221645,
          54.56167893159349
         ]
        },
        {
         "hoverinfo": "skip",
         "line": {
          "color": "lightgray",
          "width": 1
         },
         "mode": "lines",
         "showlegend": false,
         "type": "scatter",
         "x": [
          68.42330265121569,
          69.09377381024659
         ],
         "y": [
          44.01524937396013,
          38.67353463005374
         ]
        },
        {
         "hoverinfo": "skip",
         "line": {
          "color": "lightgray",
          "width": 1
         },
         "mode": "lines",
         "showlegend": false,
         "type": "scatter",
         "x": [
          22.879816549162246,
          28.9751452913768
         ],
         "y": [
          7.697990982879299,
          16.122128725400444
         ]
        },
        {
         "hoverinfo": "skip",
         "line": {
          "color": "lightgray",
          "width": 1
         },
         "mode": "lines",
         "showlegend": false,
         "type": "scatter",
         "x": [
          72.59556788702393,
          72.60913337226616
         ],
         "y": [
          89.71102599525771,
          97.58520794625346
         ]
        },
        {
         "hoverinfo": "skip",
         "line": {
          "color": "lightgray",
          "width": 1
         },
         "mode": "lines",
         "showlegend": false,
         "type": "scatter",
         "x": [
          9.367476782809248,
          17.320186991001517
         ],
         "y": [
          36.77158030594335,
          43.385164923797305
         ]
        },
        {
         "hoverinfo": "skip",
         "line": {
          "color": "lightgray",
          "width": 1
         },
         "mode": "lines",
         "showlegend": false,
         "type": "scatter",
         "x": [
          89.25589984899777,
          94.02302414249576
         ],
         "y": [
          53.93422419156507,
          57.5474177875879
         ]
        },
        {
         "hoverinfo": "skip",
         "line": {
          "color": "lightgray",
          "width": 1
         },
         "mode": "lines",
         "showlegend": false,
         "type": "scatter",
         "x": [
          86.31034258755935,
          79.82951789667752
         ],
         "y": [
          62.329812682755794,
          64.99639307777652
         ]
        },
        {
         "hoverinfo": "skip",
         "line": {
          "color": "lightgray",
          "width": 1
         },
         "mode": "lines",
         "showlegend": false,
         "type": "scatter",
         "x": [
          0.5522117123602399,
          9.44429607559284
         ],
         "y": [
          81.54614284548342,
          68.30067734163569
         ]
        },
        {
         "hoverinfo": "skip",
         "line": {
          "color": "lightgray",
          "width": 1
         },
         "mode": "lines",
         "showlegend": false,
         "type": "scatter",
         "x": [
          49.72485058923854,
          51.630034830119534
         ],
         "y": [
          30.087830981676966,
          32.2956472941246
         ]
        },
        {
         "hoverinfo": "skip",
         "line": {
          "color": "lightgray",
          "width": 1
         },
         "mode": "lines",
         "showlegend": false,
         "type": "scatter",
         "x": [
          19.967378215835975,
          28.093450968738075
         ],
         "y": [
          51.42344384136116,
          54.26960831582485
         ]
        },
        {
         "hoverinfo": "skip",
         "line": {
          "color": "lightgray",
          "width": 1
         },
         "mode": "lines",
         "showlegend": false,
         "type": "scatter",
         "x": [
          83.24426408004217,
          79.51861947687037
         ],
         "y": [
          21.233911067827616,
          27.083225126207424
         ]
        },
        {
         "hoverinfo": "skip",
         "line": {
          "color": "lightgray",
          "width": 1
         },
         "mode": "lines",
         "showlegend": false,
         "type": "scatter",
         "x": [
          9.310276780589922,
          16.162871409461378
         ],
         "y": [
          89.72157579533267,
          89.85541885270793
         ]
        },
        {
         "hoverinfo": "skip",
         "line": {
          "color": "lightgray",
          "width": 1
         },
         "mode": "lines",
         "showlegend": false,
         "type": "scatter",
         "x": [
          14.092422497476264,
          19.52429877980445
         ],
         "y": [
          80.21969807540397,
          72.24521152615053
         ]
        },
        {
         "hoverinfo": "skip",
         "line": {
          "color": "lightgray",
          "width": 1
         },
         "mode": "lines",
         "showlegend": false,
         "type": "scatter",
         "x": [
          92.96976523425731,
          92.46936182785628
         ],
         "y": [
          80.8120379564417,
          87.7339353380981
         ]
        },
        {
         "hoverinfo": "skip",
         "line": {
          "color": "lightgray",
          "width": 1
         },
         "mode": "lines",
         "showlegend": false,
         "type": "scatter",
         "x": [
          0.6952130531190703,
          0.5061583846218687
         ],
         "y": [
          51.07473025775657,
          16.080805141749867
         ]
        },
        {
         "hoverinfo": "skip",
         "line": {
          "color": "lightgray",
          "width": 1
         },
         "mode": "lines",
         "showlegend": false,
         "type": "scatter",
         "x": [
          22.793516254194166,
          17.320186991001517
         ],
         "y": [
          42.71077886262563,
          43.385164923797305
         ]
        },
        {
         "hoverinfo": "skip",
         "line": {
          "color": "lightgray",
          "width": 1
         },
         "mode": "lines",
         "showlegend": false,
         "type": "scatter",
         "x": [
          65.19612595026005,
          64.54722959071678
         ],
         "y": [
          22.42693094605598,
          17.711067940704893
         ]
        },
        {
         "hoverinfo": "skip",
         "line": {
          "color": "lightgray",
          "width": 1
         },
         "mode": "lines",
         "showlegend": false,
         "type": "scatter",
         "x": [
          54.87337893665861,
          54.06351216101065
         ],
         "y": [
          69.18951976926932,
          63.742990149820656
         ]
        },
        {
         "hoverinfo": "skip",
         "line": {
          "color": "lightgray",
          "width": 1
         },
         "mode": "lines",
         "showlegend": false,
         "type": "scatter",
         "x": [
          54.87337893665861,
          54.92266647061205
         ],
         "y": [
          69.18951976926932,
          71.45959227000624
         ]
        },
        {
         "hoverinfo": "skip",
         "line": {
          "color": "lightgray",
          "width": 1
         },
         "mode": "lines",
         "showlegend": false,
         "type": "scatter",
         "x": [
          32.539969815926774,
          35.597267865126156
         ],
         "y": [
          74.64914051180241,
          75.78461104643691
         ]
        },
        {
         "hoverinfo": "skip",
         "line": {
          "color": "lightgray",
          "width": 1
         },
         "mode": "lines",
         "showlegend": false,
         "type": "scatter",
         "x": [
          94.04585843529144,
          61.500722669916975
         ],
         "y": [
          95.39285770025873,
          99.00538501042632
         ]
        },
        {
         "hoverinfo": "skip",
         "line": {
          "color": "lightgray",
          "width": 1
         },
         "mode": "lines",
         "showlegend": false,
         "type": "scatter",
         "x": [
          96.56320330745594,
          92.96976523425731
         ],
         "y": [
          80.83973481164611,
          80.8120379564417
         ]
        },
        {
         "hoverinfo": "skip",
         "line": {
          "color": "lightgray",
          "width": 1
         },
         "mode": "lines",
         "showlegend": false,
         "type": "scatter",
         "x": [
          11.98653673336828,
          15.643704267108605
         ],
         "y": [
          33.7615171403628,
          25.024289816459532
         ]
        },
        {
         "hoverinfo": "skip",
         "line": {
          "color": "lightgray",
          "width": 1
         },
         "mode": "lines",
         "showlegend": false,
         "type": "scatter",
         "x": [
          31.435598107632668,
          49.16158751168324
         ],
         "y": [
          50.85706911647028,
          47.34717707805657
         ]
        },
        {
         "hoverinfo": "skip",
         "line": {
          "color": "lightgray",
          "width": 1
         },
         "mode": "lines",
         "showlegend": false,
         "type": "scatter",
         "x": [
          54.92266647061205,
          50.31362585800877
         ],
         "y": [
          71.45959227000624,
          85.64898411883223
         ]
        },
        {
         "hoverinfo": "skip",
         "line": {
          "color": "lightgray",
          "width": 1
         },
         "mode": "lines",
         "showlegend": false,
         "type": "scatter",
         "x": [
          64.96328990472146,
          70.19668772577033
         ],
         "y": [
          84.9223410494178,
          79.57926694361011
         ]
        },
        {
         "hoverinfo": "skip",
         "line": {
          "color": "lightgray",
          "width": 1
         },
         "mode": "lines",
         "showlegend": false,
         "type": "scatter",
         "x": [
          67.21355474058785,
          69.7015740995268
         ],
         "y": [
          76.16196153287176,
          70.24840839871092
         ]
        },
        {
         "hoverinfo": "skip",
         "line": {
          "color": "lightgray",
          "width": 1
         },
         "mode": "lines",
         "showlegend": false,
         "type": "scatter",
         "x": [
          76.07850486168974,
          65.76128923003434
         ],
         "y": [
          56.127719756949624,
          56.830860333547164
         ]
        },
        {
         "hoverinfo": "skip",
         "line": {
          "color": "lightgray",
          "width": 1
         },
         "mode": "lines",
         "showlegend": false,
         "type": "scatter",
         "x": [
          19.967378215835975,
          17.320186991001517
         ],
         "y": [
          51.42344384136116,
          43.385164923797305
         ]
        },
        {
         "hoverinfo": "skip",
         "line": {
          "color": "lightgray",
          "width": 1
         },
         "mode": "lines",
         "showlegend": false,
         "type": "scatter",
         "x": [
          38.8677289689482,
          41.7411003148779
         ],
         "y": [
          27.134903177389592,
          22.210781047073024
         ]
        },
        {
         "hoverinfo": "skip",
         "line": {
          "color": "lightgray",
          "width": 1
         },
         "mode": "lines",
         "showlegend": false,
         "type": "scatter",
         "x": [
          51.2093058299281,
          41.96000624277899
         ],
         "y": [
          22.649577519793795,
          24.773098950115745
         ]
        },
        {
         "hoverinfo": "skip",
         "line": {
          "color": "lightgray",
          "width": 1
         },
         "mode": "lines",
         "showlegend": false,
         "type": "scatter",
         "x": [
          38.8677289689482,
          32.07800649717358
         ],
         "y": [
          27.134903177389592,
          18.651851039985424
         ]
        },
        {
         "hoverinfo": "skip",
         "line": {
          "color": "lightgray",
          "width": 1
         },
         "mode": "lines",
         "showlegend": false,
         "type": "scatter",
         "x": [
          92.46936182785628,
          88.70864242651173
         ],
         "y": [
          87.7339353380981,
          77.98755458576238
         ]
        },
        {
         "hoverinfo": "skip",
         "line": {
          "color": "lightgray",
          "width": 1
         },
         "mode": "lines",
         "showlegend": false,
         "type": "scatter",
         "x": [
          8.84925020519195,
          15.643704267108605
         ],
         "y": [
          19.59828624191452,
          25.024289816459532
         ]
        },
        {
         "hoverinfo": "skip",
         "line": {
          "color": "lightgray",
          "width": 1
         },
         "mode": "lines",
         "showlegend": false,
         "type": "scatter",
         "x": [
          45.606998421703594,
          41.038292303562976
         ],
         "y": [
          78.51759613930136,
          75.55511385430486
         ]
        },
        {
         "hoverinfo": "skip",
         "line": {
          "color": "lightgray",
          "width": 1
         },
         "mode": "lines",
         "showlegend": false,
         "type": "scatter",
         "x": [
          52.27328293819941,
          51.13423988609378
         ],
         "y": [
          42.75410183585496,
          50.15162946871996
         ]
        },
        {
         "hoverinfo": "skip",
         "line": {
          "color": "lightgray",
          "width": 1
         },
         "mode": "lines",
         "showlegend": false,
         "type": "scatter",
         "x": [
          81.80147659224932,
          80.93611554785136
         ],
         "y": [
          86.07305832563435,
          81.01133946791808
         ]
        },
        {
         "hoverinfo": "skip",
         "line": {
          "color": "lightgray",
          "width": 1
         },
         "mode": "lines",
         "showlegend": false,
         "type": "scatter",
         "x": [
          29.214464853521815,
          33.90297910487007
         ],
         "y": [
          36.63618432936917,
          34.92095746126609
         ]
        },
        {
         "hoverinfo": "skip",
         "line": {
          "color": "lightgray",
          "width": 1
         },
         "mode": "lines",
         "showlegend": false,
         "type": "scatter",
         "x": [
          43.194501864211574,
          41.96000624277899
         ],
         "y": [
          29.122914019804192,
          24.773098950115745
         ]
        },
        {
         "hoverinfo": "skip",
         "line": {
          "color": "lightgray",
          "width": 1
         },
         "mode": "lines",
         "showlegend": false,
         "type": "scatter",
         "x": [
          0.5061583846218687,
          3.050024993904943
         ],
         "y": [
          16.080805141749867,
          3.7348188749214417
         ]
        },
        {
         "hoverinfo": "skip",
         "line": {
          "color": "lightgray",
          "width": 1
         },
         "mode": "lines",
         "showlegend": false,
         "type": "scatter",
         "x": [
          73.1993941811405,
          72.96061783380641
         ],
         "y": [
          59.86584841970366,
          63.75574713552131
         ]
        },
        {
         "hoverinfo": "skip",
         "line": {
          "color": "lightgray",
          "width": 1
         },
         "mode": "lines",
         "showlegend": false,
         "type": "scatter",
         "x": [
          69.7015740995268,
          75.08710677914974
         ],
         "y": [
          70.24840839871092,
          75.45428740846823
         ]
        },
        {
         "hoverinfo": "skip",
         "line": {
          "color": "lightgray",
          "width": 1
         },
         "mode": "lines",
         "showlegend": false,
         "type": "scatter",
         "x": [
          57.69038846263591,
          51.13423988609378
         ],
         "y": [
          49.25176938188639,
          50.15162946871996
         ]
        },
        {
         "hoverinfo": "skip",
         "line": {
          "color": "lightgray",
          "width": 1
         },
         "mode": "lines",
         "showlegend": false,
         "type": "scatter",
         "x": [
          31.171107608941096,
          37.46126146264712
         ],
         "y": [
          52.00680211778108,
          62.58599157142364
         ]
        },
        {
         "hoverinfo": "skip",
         "line": {
          "color": "lightgray",
          "width": 1
         },
         "mode": "lines",
         "showlegend": false,
         "type": "scatter",
         "x": [
          30.42422429595377,
          31.435598107632668
         ],
         "y": [
          52.475643163223786,
          50.85706911647028
         ]
        },
        {
         "hoverinfo": "skip",
         "line": {
          "color": "lightgray",
          "width": 1
         },
         "mode": "lines",
         "showlegend": false,
         "type": "scatter",
         "x": [
          15.601864044243651,
          18.182496720710063
         ],
         "y": [
          15.599452033620265,
          18.34045098534338
         ]
        },
        {
         "hoverinfo": "skip",
         "line": {
          "color": "lightgray",
          "width": 1
         },
         "mode": "lines",
         "showlegend": false,
         "type": "scatter",
         "x": [
          39.85047343973734,
          38.816992620652194
         ],
         "y": [
          61.585009805221645,
          64.32882184423532
         ]
        },
        {
         "hoverinfo": "skip",
         "line": {
          "color": "lightgray",
          "width": 1
         },
         "mode": "lines",
         "showlegend": false,
         "type": "scatter",
         "x": [
          32.07800649717358,
          34.10663510502585
         ],
         "y": [
          18.651851039985424,
          11.347352124058908
         ]
        },
        {
         "hoverinfo": "skip",
         "line": {
          "color": "lightgray",
          "width": 1
         },
         "mode": "lines",
         "showlegend": false,
         "type": "scatter",
         "x": [
          50.31362585800877,
          62.8942846779884
         ],
         "y": [
          85.64898411883223,
          87.74720135270529
         ]
        },
        {
         "hoverinfo": "skip",
         "line": {
          "color": "lightgray",
          "width": 1
         },
         "mode": "lines",
         "showlegend": false,
         "type": "scatter",
         "x": [
          98.56504541106007,
          99.05051420006733
         ],
         "y": [
          24.20552715115004,
          41.26176769114265
         ]
        },
        {
         "hoverinfo": "skip",
         "line": {
          "color": "lightgray",
          "width": 1
         },
         "mode": "lines",
         "showlegend": false,
         "type": "scatter",
         "x": [
          3.142918568673425,
          2.6511310541621813
         ],
         "y": [
          63.64104112637804,
          58.57755812734633
         ]
        },
        {
         "hoverinfo": "skip",
         "line": {
          "color": "lightgray",
          "width": 1
         },
         "mode": "lines",
         "showlegend": false,
         "type": "scatter",
         "x": [
          25.87799816000169,
          23.763754399239968
         ],
         "y": [
          66.2522284353982,
          72.82163486118596
         ]
        },
        {
         "hoverinfo": "skip",
         "line": {
          "color": "lightgray",
          "width": 1
         },
         "mode": "lines",
         "showlegend": false,
         "type": "scatter",
         "x": [
          77.22447692966574,
          80.36720768991145
         ],
         "y": [
          19.87156815341724,
          18.657005888603585
         ]
        },
        {
         "hoverinfo": "skip",
         "line": {
          "color": "lightgray",
          "width": 1
         },
         "mode": "lines",
         "showlegend": false,
         "type": "scatter",
         "x": [
          92.96976523425731,
          88.70864242651173
         ],
         "y": [
          80.8120379564417,
          77.98755458576238
         ]
        },
        {
         "hoverinfo": "skip",
         "line": {
          "color": "lightgray",
          "width": 1
         },
         "mode": "lines",
         "showlegend": false,
         "type": "scatter",
         "x": [
          45.606998421703594,
          54.92266647061205
         ],
         "y": [
          78.51759613930136,
          71.45959227000624
         ]
        },
        {
         "hoverinfo": "skip",
         "line": {
          "color": "lightgray",
          "width": 1
         },
         "mode": "lines",
         "showlegend": false,
         "type": "scatter",
         "x": [
          59.24145688620425,
          60.642905965958995
         ],
         "y": [
          4.645041271999773,
          0.9197051616629648
         ]
        },
        {
         "hoverinfo": "skip",
         "line": {
          "color": "lightgray",
          "width": 1
         },
         "mode": "lines",
         "showlegend": false,
         "type": "scatter",
         "x": [
          41.7411003148779,
          51.2093058299281
         ],
         "y": [
          22.210781047073024,
          22.649577519793795
         ]
        },
        {
         "hoverinfo": "skip",
         "line": {
          "color": "lightgray",
          "width": 1
         },
         "mode": "lines",
         "showlegend": false,
         "type": "scatter",
         "x": [
          72.96061783380641,
          79.82951789667752
         ],
         "y": [
          63.75574713552131,
          64.99639307777652
         ]
        },
        {
         "hoverinfo": "skip",
         "line": {
          "color": "lightgray",
          "width": 1
         },
         "mode": "lines",
         "showlegend": false,
         "type": "scatter",
         "x": [
          22.879816549162246,
          19.579113478929642
         ],
         "y": [
          7.697990982879299,
          6.9361300875165455
         ]
        },
        {
         "hoverinfo": "skip",
         "line": {
          "color": "lightgray",
          "width": 1
         },
         "mode": "lines",
         "showlegend": false,
         "type": "scatter",
         "x": [
          61.500722669916975,
          72.60913337226616
         ],
         "y": [
          99.00538501042632,
          97.58520794625346
         ]
        },
        {
         "hoverinfo": "skip",
         "line": {
          "color": "lightgray",
          "width": 1
         },
         "mode": "lines",
         "showlegend": false,
         "type": "scatter",
         "x": [
          30.46137691733707,
          28.484049437746762
         ],
         "y": [
          9.767211400638388,
          3.6886947354532795
         ]
        },
        {
         "hoverinfo": "skip",
         "line": {
          "color": "lightgray",
          "width": 1
         },
         "mode": "lines",
         "showlegend": false,
         "type": "scatter",
         "x": [
          90.04180571633304,
          85.54605840110072
         ],
         "y": [
          63.31014572732679,
          70.36578593800236
         ]
        },
        {
         "hoverinfo": "skip",
         "line": {
          "color": "lightgray",
          "width": 1
         },
         "mode": "lines",
         "showlegend": false,
         "type": "scatter",
         "x": [
          45.606998421703594,
          37.201808579278314
         ],
         "y": [
          78.51759613930136,
          77.64129607419969
         ]
        },
        {
         "hoverinfo": "skip",
         "line": {
          "color": "lightgray",
          "width": 1
         },
         "mode": "lines",
         "showlegend": false,
         "type": "scatter",
         "x": [
          60.75448519014384,
          52.965057835600646
         ],
         "y": [
          17.052412368729154,
          24.18522909004517
         ]
        },
        {
         "hoverinfo": "skip",
         "line": {
          "color": "lightgray",
          "width": 1
         },
         "mode": "lines",
         "showlegend": false,
         "type": "scatter",
         "x": [
          14.48948720912231,
          17.320186991001517
         ],
         "y": [
          48.9452760277563,
          43.385164923797305
         ]
        },
        {
         "hoverinfo": "skip",
         "line": {
          "color": "lightgray",
          "width": 1
         },
         "mode": "lines",
         "showlegend": false,
         "type": "scatter",
         "x": [
          81.80147659224932,
          72.59556788702393
         ],
         "y": [
          86.07305832563435,
          89.71102599525771
         ]
        },
        {
         "hoverinfo": "skip",
         "line": {
          "color": "lightgray",
          "width": 1
         },
         "mode": "lines",
         "showlegend": false,
         "type": "scatter",
         "x": [
          68.42330265121569,
          60.956433397989684
         ],
         "y": [
          44.01524937396013,
          50.26790232288615
         ]
        },
        {
         "hoverinfo": "skip",
         "line": {
          "color": "lightgray",
          "width": 1
         },
         "mode": "lines",
         "showlegend": false,
         "type": "scatter",
         "x": [
          94.14648087765252,
          85.84127518430118
         ],
         "y": [
          38.610263780077425,
          42.89940273750184
         ]
        },
        {
         "hoverinfo": "skip",
         "line": {
          "color": "lightgray",
          "width": 1
         },
         "mode": "lines",
         "showlegend": false,
         "type": "scatter",
         "x": [
          37.454011884736246,
          36.3629602379294
         ],
         "y": [
          95.07143064099162,
          97.17820827209607
         ]
        },
        {
         "hoverinfo": "skip",
         "line": {
          "color": "lightgray",
          "width": 1
         },
         "mode": "lines",
         "showlegend": false,
         "type": "scatter",
         "x": [
          86.31034258755935,
          89.20465551771133
         ],
         "y": [
          62.329812682755794,
          63.11386259972629
         ]
        },
        {
         "hoverinfo": "skip",
         "line": {
          "color": "lightgray",
          "width": 1
         },
         "mode": "lines",
         "showlegend": false,
         "type": "scatter",
         "x": [
          42.81841483173143,
          61.500722669916975
         ],
         "y": [
          96.66548190436696,
          99.00538501042632
         ]
        },
        {
         "hoverinfo": "skip",
         "line": {
          "color": "lightgray",
          "width": 1
         },
         "mode": "lines",
         "showlegend": false,
         "type": "scatter",
         "x": [
          2.0584494295802447,
          2.535074341545751
         ],
         "y": [
          96.99098521619943,
          96.26484146779251
         ]
        },
        {
         "hoverinfo": "skip",
         "line": {
          "color": "lightgray",
          "width": 1
         },
         "mode": "lines",
         "showlegend": false,
         "type": "scatter",
         "x": [
          18.182496720710063,
          28.203457257130648
         ],
         "y": [
          18.34045098534338,
          17.743954377972283
         ]
        },
        {
         "hoverinfo": "skip",
         "line": {
          "color": "lightgray",
          "width": 1
         },
         "mode": "lines",
         "showlegend": false,
         "type": "scatter",
         "x": [
          75.06147516408583,
          75.08710677914974
         ],
         "y": [
          80.6834739267264,
          75.45428740846823
         ]
        },
        {
         "hoverinfo": "skip",
         "line": {
          "color": "lightgray",
          "width": 1
         },
         "mode": "lines",
         "showlegend": false,
         "type": "scatter",
         "x": [
          61.18528947223795,
          64.20316461542878
         ],
         "y": [
          13.949386065204184,
          8.413996499504883
         ]
        },
        {
         "hoverinfo": "skip",
         "line": {
          "color": "lightgray",
          "width": 1
         },
         "mode": "lines",
         "showlegend": false,
         "type": "scatter",
         "x": [
          83.24426408004217,
          76.99935530986109
         ],
         "y": [
          21.233911067827616,
          21.582102749684317
         ]
        },
        {
         "hoverinfo": "skip",
         "line": {
          "color": "lightgray",
          "width": 1
         },
         "mode": "lines",
         "showlegend": false,
         "type": "scatter",
         "x": [
          12.203823484477883,
          5.16817211686077
         ],
         "y": [
          49.51769101112702,
          53.1354631568148
         ]
        },
        {
         "hoverinfo": "skip",
         "line": {
          "color": "lightgray",
          "width": 1
         },
         "mode": "lines",
         "showlegend": false,
         "type": "scatter",
         "x": [
          25.87799816000169,
          25.79416277151556
         ],
         "y": [
          66.2522284353982,
          65.99840460341791
         ]
        },
        {
         "hoverinfo": "skip",
         "line": {
          "color": "lightgray",
          "width": 1
         },
         "mode": "lines",
         "showlegend": false,
         "type": "scatter",
         "x": [
          72.96061783380641,
          69.7015740995268
         ],
         "y": [
          63.75574713552131,
          70.24840839871092
         ]
        },
        {
         "hoverinfo": "skip",
         "line": {
          "color": "lightgray",
          "width": 1
         },
         "mode": "lines",
         "showlegend": false,
         "type": "scatter",
         "x": [
          54.67102793432797,
          57.0061170089365
         ],
         "y": [
          18.485445552552704,
          9.717649377076853
         ]
        },
        {
         "hoverinfo": "skip",
         "line": {
          "color": "lightgray",
          "width": 1
         },
         "mode": "lines",
         "showlegend": false,
         "type": "scatter",
         "x": [
          60.11150117432088,
          54.92266647061205
         ],
         "y": [
          70.80725777960456,
          71.45959227000624
         ]
        },
        {
         "hoverinfo": "skip",
         "line": {
          "color": "lightgray",
          "width": 1
         },
         "mode": "lines",
         "showlegend": false,
         "type": "scatter",
         "x": [
          67.21355474058785,
          64.96328990472146
         ],
         "y": [
          76.16196153287176,
          84.9223410494178
         ]
        },
        {
         "hoverinfo": "skip",
         "line": {
          "color": "lightgray",
          "width": 1
         },
         "mode": "lines",
         "showlegend": false,
         "type": "scatter",
         "x": [
          64.51727904094498,
          65.8693631618945
         ],
         "y": [
          17.436642900499145,
          16.29344270814297
         ]
        },
        {
         "hoverinfo": "skip",
         "line": {
          "color": "lightgray",
          "width": 1
         },
         "mode": "lines",
         "showlegend": false,
         "type": "scatter",
         "x": [
          30.42422429595377,
          28.093450968738075
         ],
         "y": [
          52.475643163223786,
          54.26960831582485
         ]
        },
        {
         "hoverinfo": "skip",
         "line": {
          "color": "lightgray",
          "width": 1
         },
         "mode": "lines",
         "showlegend": false,
         "type": "scatter",
         "x": [
          71.2179221347536,
          79.51861947687037
         ],
         "y": [
          23.724908749680008,
          27.083225126207424
         ]
        },
        {
         "hoverinfo": "skip",
         "line": {
          "color": "lightgray",
          "width": 1
         },
         "mode": "lines",
         "showlegend": false,
         "type": "scatter",
         "x": [
          89.25589984899777,
          89.20465551771133
         ],
         "y": [
          53.93422419156507,
          63.11386259972629
         ]
        },
        {
         "hoverinfo": "skip",
         "line": {
          "color": "lightgray",
          "width": 1
         },
         "mode": "lines",
         "showlegend": false,
         "type": "scatter",
         "x": [
          23.763754399239968,
          16.162871409461378
         ],
         "y": [
          72.82163486118596,
          89.85541885270793
         ]
        },
        {
         "hoverinfo": "skip",
         "line": {
          "color": "lightgray",
          "width": 1
         },
         "mode": "lines",
         "showlegend": false,
         "type": "scatter",
         "x": [
          2.541912674409519,
          4.600264202175275
         ],
         "y": [
          10.789142699330444,
          4.072880231897013
         ]
        },
        {
         "hoverinfo": "skip",
         "line": {
          "color": "lightgray",
          "width": 1
         },
         "mode": "lines",
         "showlegend": false,
         "type": "scatter",
         "x": [
          51.87906217433661,
          38.816992620652194
         ],
         "y": [
          70.30189588951778,
          64.32882184423532
         ]
        },
        {
         "hoverinfo": "skip",
         "line": {
          "color": "lightgray",
          "width": 1
         },
         "mode": "lines",
         "showlegend": false,
         "type": "scatter",
         "x": [
          77.12703466859458,
          65.8693631618945
         ],
         "y": [
          7.4044651734090365,
          16.29344270814297
         ]
        },
        {
         "hoverinfo": "skip",
         "line": {
          "color": "lightgray",
          "width": 1
         },
         "mode": "lines",
         "showlegend": false,
         "type": "scatter",
         "x": [
          93.9498941564189,
          96.11905638239142
         ],
         "y": [
          89.48273504276489,
          90.53506419560637
         ]
        },
        {
         "hoverinfo": "skip",
         "line": {
          "color": "lightgray",
          "width": 1
         },
         "mode": "lines",
         "showlegend": false,
         "type": "scatter",
         "x": [
          2.541912674409519,
          10.077800137742665
         ],
         "y": [
          10.789142699330444,
          1.8221825651549728
         ]
        },
        {
         "hoverinfo": "skip",
         "line": {
          "color": "lightgray",
          "width": 1
         },
         "mode": "lines",
         "showlegend": false,
         "type": "scatter",
         "x": [
          14.092422497476264,
          23.763754399239968
         ],
         "y": [
          80.21969807540397,
          72.82163486118596
         ]
        },
        {
         "hoverinfo": "skip",
         "line": {
          "color": "lightgray",
          "width": 1
         },
         "mode": "lines",
         "showlegend": false,
         "type": "scatter",
         "x": [
          14.008401523652402,
          12.706051265188478
         ],
         "y": [
          51.832965236373674,
          52.224326005480435
         ]
        },
        {
         "hoverinfo": "skip",
         "line": {
          "color": "lightgray",
          "width": 1
         },
         "mode": "lines",
         "showlegend": false,
         "type": "scatter",
         "x": [
          26.520236768172545,
          35.94911512197552
         ],
         "y": [
          24.398964337908357,
          29.359184426449335
         ]
        },
        {
         "hoverinfo": "skip",
         "line": {
          "color": "lightgray",
          "width": 1
         },
         "mode": "lines",
         "showlegend": false,
         "type": "scatter",
         "x": [
          59.78999788110851,
          50.31362585800877
         ],
         "y": [
          92.18742350231169,
          85.64898411883223
         ]
        },
        {
         "hoverinfo": "skip",
         "line": {
          "color": "lightgray",
          "width": 1
         },
         "mode": "lines",
         "showlegend": false,
         "type": "scatter",
         "x": [
          3.142918568673425,
          7.056874740042984
         ],
         "y": [
          63.64104112637804,
          64.24192782063156
         ]
        },
        {
         "hoverinfo": "skip",
         "line": {
          "color": "lightgray",
          "width": 1
         },
         "mode": "lines",
         "showlegend": false,
         "type": "scatter",
         "x": [
          1.5456616528867428,
          2.535074341545751
         ],
         "y": [
          92.83185625877253,
          96.26484146779251
         ]
        },
        {
         "hoverinfo": "skip",
         "line": {
          "color": "lightgray",
          "width": 1
         },
         "mode": "lines",
         "showlegend": false,
         "type": "scatter",
         "x": [
          3.142918568673425,
          9.44429607559284
         ],
         "y": [
          63.64104112637804,
          68.30067734163569
         ]
        },
        {
         "hoverinfo": "skip",
         "line": {
          "color": "lightgray",
          "width": 1
         },
         "mode": "lines",
         "showlegend": false,
         "type": "scatter",
         "x": [
          73.1993941811405,
          76.07850486168974
         ],
         "y": [
          59.86584841970366,
          56.127719756949624
         ]
        },
        {
         "hoverinfo": "skip",
         "line": {
          "color": "lightgray",
          "width": 1
         },
         "mode": "lines",
         "showlegend": false,
         "type": "scatter",
         "x": [
          88.72127425763266,
          79.48113035416485
         ],
         "y": [
          47.22149251619493,
          50.26370931051921
         ]
        },
        {
         "hoverinfo": "skip",
         "line": {
          "color": "lightgray",
          "width": 1
         },
         "mode": "lines",
         "showlegend": false,
         "type": "scatter",
         "x": [
          3.050024993904943,
          4.600264202175275
         ],
         "y": [
          3.7348188749214417,
          4.072880231897013
         ]
        },
        {
         "hoverinfo": "skip",
         "line": {
          "color": "lightgray",
          "width": 1
         },
         "mode": "lines",
         "showlegend": false,
         "type": "scatter",
         "x": [
          16.94927466860925,
          14.008401523652402
         ],
         "y": [
          55.68012624583501,
          51.832965236373674
         ]
        },
        {
         "hoverinfo": "skip",
         "line": {
          "color": "lightgray",
          "width": 1
         },
         "mode": "lines",
         "showlegend": false,
         "type": "scatter",
         "x": [
          35.84657285442726,
          40.89529444142699
         ],
         "y": [
          11.586905952512971,
          17.329432007084577
         ]
        },
        {
         "hoverinfo": "skip",
         "line": {
          "color": "lightgray",
          "width": 1
         },
         "mode": "lines",
         "showlegend": false,
         "type": "scatter",
         "x": [
          51.13423988609378,
          55.43540525114007
         ],
         "y": [
          50.15162946871996,
          61.17207462343522
         ]
        },
        {
         "hoverinfo": "skip",
         "line": {
          "color": "lightgray",
          "width": 1
         },
         "mode": "lines",
         "showlegend": false,
         "type": "scatter",
         "x": [
          81.72222002012158,
          79.82951789667752
         ],
         "y": [
          55.52008115994623,
          64.99639307777652
         ]
        },
        {
         "hoverinfo": "skip",
         "line": {
          "color": "lightgray",
          "width": 1
         },
         "mode": "lines",
         "showlegend": false,
         "type": "scatter",
         "x": [
          3.050024993904943,
          10.077800137742665
         ],
         "y": [
          3.7348188749214417,
          1.8221825651549728
         ]
        },
        {
         "hoverinfo": "skip",
         "line": {
          "color": "lightgray",
          "width": 1
         },
         "mode": "lines",
         "showlegend": false,
         "type": "scatter",
         "x": [
          89.20465551771133,
          94.02302414249576
         ],
         "y": [
          63.11386259972629,
          57.5474177875879
         ]
        },
        {
         "hoverinfo": "skip",
         "line": {
          "color": "lightgray",
          "width": 1
         },
         "mode": "lines",
         "showlegend": false,
         "type": "scatter",
         "x": [
          94.29097039125192,
          97.30105547524455
         ],
         "y": [
          32.320293202075526,
          39.30977246667604
         ]
        },
        {
         "hoverinfo": "skip",
         "line": {
          "color": "lightgray",
          "width": 1
         },
         "mode": "lines",
         "showlegend": false,
         "type": "scatter",
         "x": [
          15.643704267108605,
          7.118864846022898
         ],
         "y": [
          25.024289816459532,
          31.89756302937613
         ]
        },
        {
         "hoverinfo": "skip",
         "line": {
          "color": "lightgray",
          "width": 1
         },
         "mode": "lines",
         "showlegend": false,
         "type": "scatter",
         "x": [
          0.6952130531190703,
          2.6511310541621813
         ],
         "y": [
          51.07473025775657,
          58.57755812734633
         ]
        },
        {
         "hoverinfo": "skip",
         "line": {
          "color": "lightgray",
          "width": 1
         },
         "mode": "lines",
         "showlegend": false,
         "type": "scatter",
         "x": [
          69.09377381024659,
          79.51861947687037
         ],
         "y": [
          38.67353463005374,
          27.083225126207424
         ]
        },
        {
         "hoverinfo": "skip",
         "line": {
          "color": "lightgray",
          "width": 1
         },
         "mode": "lines",
         "showlegend": false,
         "type": "scatter",
         "x": [
          41.038292303562976,
          37.201808579278314
         ],
         "y": [
          75.55511385430486,
          77.64129607419969
         ]
        },
        {
         "hoverinfo": "skip",
         "line": {
          "color": "lightgray",
          "width": 1
         },
         "mode": "lines",
         "showlegend": false,
         "type": "scatter",
         "x": [
          70.19668772577033,
          75.08710677914974
         ],
         "y": [
          79.57926694361011,
          75.45428740846823
         ]
        },
        {
         "hoverinfo": "skip",
         "line": {
          "color": "lightgray",
          "width": 1
         },
         "mode": "lines",
         "showlegend": false,
         "type": "scatter",
         "x": [
          6.505159298527952,
          2.535074341545751
         ],
         "y": [
          94.88855372533332,
          96.26484146779251
         ]
        },
        {
         "hoverinfo": "skip",
         "line": {
          "color": "lightgray",
          "width": 1
         },
         "mode": "lines",
         "showlegend": false,
         "type": "scatter",
         "x": [
          71.2179221347536,
          65.8693631618945
         ],
         "y": [
          23.724908749680008,
          16.29344270814297
         ]
        },
        {
         "hoverinfo": "skip",
         "line": {
          "color": "lightgray",
          "width": 1
         },
         "mode": "lines",
         "showlegend": false,
         "type": "scatter",
         "x": [
          9.02897700544083,
          16.162871409461378
         ],
         "y": [
          83.5302495589238,
          89.85541885270793
         ]
        },
        {
         "hoverinfo": "skip",
         "line": {
          "color": "lightgray",
          "width": 1
         },
         "mode": "lines",
         "showlegend": false,
         "type": "scatter",
         "x": [
          63.34037565104234,
          50.31362585800877
         ],
         "y": [
          87.14605901877177,
          85.64898411883223
         ]
        },
        {
         "hoverinfo": "skip",
         "line": {
          "color": "lightgray",
          "width": 1
         },
         "mode": "lines",
         "showlegend": false,
         "type": "scatter",
         "x": [
          4.522728891053807,
          0.5061583846218687
         ],
         "y": [
          32.53303307632643,
          16.080805141749867
         ]
        },
        {
         "hoverinfo": "skip",
         "line": {
          "color": "lightgray",
          "width": 1
         },
         "mode": "lines",
         "showlegend": false,
         "type": "scatter",
         "x": [
          72.59556788702393,
          75.06147516408583
         ],
         "y": [
          89.71102599525771,
          80.6834739267264
         ]
        },
        {
         "hoverinfo": "skip",
         "line": {
          "color": "lightgray",
          "width": 1
         },
         "mode": "lines",
         "showlegend": false,
         "type": "scatter",
         "x": [
          90.82658859666537,
          93.67299887367345
         ],
         "y": [
          23.95618906669724,
          13.752094414599325
         ]
        },
        {
         "hoverinfo": "skip",
         "line": {
          "color": "lightgray",
          "width": 1
         },
         "mode": "lines",
         "showlegend": false,
         "type": "scatter",
         "x": [
          59.78999788110851,
          72.60913337226616
         ],
         "y": [
          92.18742350231169,
          97.58520794625346
         ]
        },
        {
         "hoverinfo": "skip",
         "line": {
          "color": "lightgray",
          "width": 1
         },
         "mode": "lines",
         "showlegend": false,
         "type": "scatter",
         "x": [
          6.505159298527952,
          3.4388521115218396
         ],
         "y": [
          94.88855372533332,
          90.9320402078782
         ]
        },
        {
         "hoverinfo": "skip",
         "line": {
          "color": "lightgray",
          "width": 1
         },
         "mode": "lines",
         "showlegend": false,
         "type": "scatter",
         "x": [
          14.092422497476264,
          16.162871409461378
         ],
         "y": [
          80.21969807540397,
          89.85541885270793
         ]
        },
        {
         "hoverinfo": "skip",
         "line": {
          "color": "lightgray",
          "width": 1
         },
         "mode": "lines",
         "showlegend": false,
         "type": "scatter",
         "x": [
          67.75643618422824,
          60.642905965958995
         ],
         "y": [
          1.6587828927856152,
          0.9197051616629648
         ]
        },
        {
         "hoverinfo": "skip",
         "line": {
          "color": "lightgray",
          "width": 1
         },
         "mode": "lines",
         "showlegend": false,
         "type": "scatter",
         "x": [
          60.642905965958995,
          63.50936508676438
         ],
         "y": [
          0.9197051616629648,
          4.530400977204452
         ]
        },
        {
         "hoverinfo": "skip",
         "line": {
          "color": "lightgray",
          "width": 1
         },
         "mode": "lines",
         "showlegend": false,
         "type": "scatter",
         "x": [
          81.72222002012158,
          79.48113035416485
         ],
         "y": [
          55.52008115994623,
          50.26370931051921
         ]
        },
        {
         "hoverinfo": "skip",
         "line": {
          "color": "lightgray",
          "width": 1
         },
         "mode": "lines",
         "showlegend": false,
         "type": "scatter",
         "x": [
          12.203823484477883,
          14.008401523652402
         ],
         "y": [
          49.51769101112702,
          51.832965236373674
         ]
        },
        {
         "hoverinfo": "skip",
         "line": {
          "color": "lightgray",
          "width": 1
         },
         "mode": "lines",
         "showlegend": false,
         "type": "scatter",
         "x": [
          82.87375091519293,
          89.00053418175663
         ],
         "y": [
          35.67533266935893,
          33.79951568515358
         ]
        },
        {
         "hoverinfo": "skip",
         "line": {
          "color": "lightgray",
          "width": 1
         },
         "mode": "lines",
         "showlegend": false,
         "type": "scatter",
         "x": [
          51.2093058299281,
          52.965057835600646
         ],
         "y": [
          22.649577519793795,
          24.18522909004517
         ]
        },
        {
         "hoverinfo": "skip",
         "line": {
          "color": "lightgray",
          "width": 1
         },
         "mode": "lines",
         "showlegend": false,
         "type": "scatter",
         "x": [
          65.19612595026005,
          66.01973767177313
         ],
         "y": [
          22.42693094605598,
          27.993389694594285
         ]
        },
        {
         "hoverinfo": "skip",
         "line": {
          "color": "lightgray",
          "width": 1
         },
         "mode": "lines",
         "showlegend": false,
         "type": "scatter",
         "x": [
          9.44429607559284,
          11.816482762165625
         ],
         "y": [
          68.30067734163569,
          69.67371653641507
         ]
        },
        {
         "hoverinfo": "skip",
         "line": {
          "color": "lightgray",
          "width": 1
         },
         "mode": "lines",
         "showlegend": false,
         "type": "scatter",
         "x": [
          30.42422429595377,
          19.967378215835975
         ],
         "y": [
          52.475643163223786,
          51.42344384136116
         ]
        },
        {
         "hoverinfo": "skip",
         "line": {
          "color": "lightgray",
          "width": 1
         },
         "mode": "lines",
         "showlegend": false,
         "type": "scatter",
         "x": [
          88.72127425763266,
          99.05051420006733
         ],
         "y": [
          47.22149251619493,
          41.26176769114265
         ]
        },
        {
         "hoverinfo": "skip",
         "line": {
          "color": "lightgray",
          "width": 1
         },
         "mode": "lines",
         "showlegend": false,
         "type": "scatter",
         "x": [
          31.171107608941096,
          39.85047343973734
         ],
         "y": [
          52.00680211778108,
          61.585009805221645
         ]
        },
        {
         "hoverinfo": "skip",
         "line": {
          "color": "lightgray",
          "width": 1
         },
         "mode": "lines",
         "showlegend": false,
         "type": "scatter",
         "x": [
          2.541912674409519,
          1.4393488629755868
         ],
         "y": [
          10.789142699330444,
          11.607264050691624
         ]
        },
        {
         "hoverinfo": "skip",
         "line": {
          "color": "lightgray",
          "width": 1
         },
         "mode": "lines",
         "showlegend": false,
         "type": "scatter",
         "x": [
          3.4388521115218396,
          9.310276780589922
         ],
         "y": [
          90.9320402078782,
          89.72157579533267
         ]
        },
        {
         "hoverinfo": "skip",
         "line": {
          "color": "lightgray",
          "width": 1
         },
         "mode": "lines",
         "showlegend": false,
         "type": "scatter",
         "x": [
          91.48643902204485,
          94.14648087765252
         ],
         "y": [
          37.01587002554444,
          38.610263780077425
         ]
        },
        {
         "hoverinfo": "skip",
         "line": {
          "color": "lightgray",
          "width": 1
         },
         "mode": "lines",
         "showlegend": false,
         "type": "scatter",
         "x": [
          36.77831327192532,
          28.65412521282844
         ],
         "y": [
          63.23058305935795,
          59.08332605690107
         ]
        },
        {
         "hoverinfo": "skip",
         "line": {
          "color": "lightgray",
          "width": 1
         },
         "mode": "lines",
         "showlegend": false,
         "type": "scatter",
         "x": [
          96.95846277645586,
          92.96976523425731
         ],
         "y": [
          77.51328233611146,
          80.8120379564417
         ]
        },
        {
         "hoverinfo": "skip",
         "line": {
          "color": "lightgray",
          "width": 1
         },
         "mode": "lines",
         "showlegend": false,
         "type": "scatter",
         "x": [
          65.76128923003434,
          55.43540525114007
         ],
         "y": [
          56.830860333547164,
          61.17207462343522
         ]
        },
        {
         "hoverinfo": "skip",
         "line": {
          "color": "lightgray",
          "width": 1
         },
         "mode": "lines",
         "showlegend": false,
         "type": "scatter",
         "x": [
          28.65412521282844,
          37.46126146264712
         ],
         "y": [
          59.08332605690107,
          62.58599157142364
         ]
        },
        {
         "hoverinfo": "skip",
         "line": {
          "color": "lightgray",
          "width": 1
         },
         "mode": "lines",
         "showlegend": false,
         "type": "scatter",
         "x": [
          82.87375091519293,
          85.11366715168569
         ],
         "y": [
          35.67533266935893,
          31.692200515627768
         ]
        },
        {
         "hoverinfo": "skip",
         "line": {
          "color": "lightgray",
          "width": 1
         },
         "mode": "lines",
         "showlegend": false,
         "type": "scatter",
         "x": [
          3.050024993904943,
          1.4393488629755868
         ],
         "y": [
          3.7348188749214417,
          11.607264050691624
         ]
        },
        {
         "hoverinfo": "skip",
         "line": {
          "color": "lightgray",
          "width": 1
         },
         "mode": "lines",
         "showlegend": false,
         "type": "scatter",
         "x": [
          11.98653673336828,
          9.367476782809248
         ],
         "y": [
          33.7615171403628,
          36.77158030594335
         ]
        },
        {
         "hoverinfo": "skip",
         "line": {
          "color": "lightgray",
          "width": 1
         },
         "mode": "lines",
         "showlegend": false,
         "type": "scatter",
         "x": [
          37.454011884736246,
          50.31362585800877
         ],
         "y": [
          95.07143064099162,
          85.64898411883223
         ]
        },
        {
         "hoverinfo": "skip",
         "line": {
          "color": "lightgray",
          "width": 1
         },
         "mode": "lines",
         "showlegend": false,
         "type": "scatter",
         "x": [
          4.077514155476392,
          12.706051265188478
         ],
         "y": [
          59.08929431882418,
          52.224326005480435
         ]
        },
        {
         "hoverinfo": "skip",
         "line": {
          "color": "lightgray",
          "width": 1
         },
         "mode": "lines",
         "showlegend": false,
         "type": "scatter",
         "x": [
          5.8083612168199465,
          9.02897700544083
         ],
         "y": [
          86.61761457749351,
          83.5302495589238
         ]
        },
        {
         "hoverinfo": "skip",
         "line": {
          "color": "lightgray",
          "width": 1
         },
         "mode": "lines",
         "showlegend": false,
         "type": "scatter",
         "x": [
          6.505159298527952,
          16.162871409461378
         ],
         "y": [
          94.88855372533332,
          89.85541885270793
         ]
        },
        {
         "hoverinfo": "skip",
         "line": {
          "color": "lightgray",
          "width": 1
         },
         "mode": "lines",
         "showlegend": false,
         "type": "scatter",
         "x": [
          28.9751452913768,
          32.07800649717358
         ],
         "y": [
          16.122128725400444,
          18.651851039985424
         ]
        },
        {
         "hoverinfo": "skip",
         "line": {
          "color": "lightgray",
          "width": 1
         },
         "mode": "lines",
         "showlegend": false,
         "type": "scatter",
         "x": [
          28.093450968738075,
          16.94927466860925
         ],
         "y": [
          54.26960831582485,
          55.68012624583501
         ]
        },
        {
         "hoverinfo": "skip",
         "line": {
          "color": "lightgray",
          "width": 1
         },
         "mode": "lines",
         "showlegend": false,
         "type": "scatter",
         "x": [
          77.0967179954561,
          69.09377381024659
         ],
         "y": [
          49.379559636439076,
          38.67353463005374
         ]
        },
        {
         "hoverinfo": "skip",
         "line": {
          "color": "lightgray",
          "width": 1
         },
         "mode": "lines",
         "showlegend": false,
         "type": "scatter",
         "x": [
          88.70864242651173,
          80.93611554785136
         ],
         "y": [
          77.98755458576238,
          81.01133946791808
         ]
        },
        {
         "hoverinfo": "skip",
         "line": {
          "color": "lightgray",
          "width": 1
         },
         "mode": "lines",
         "showlegend": false,
         "type": "scatter",
         "x": [
          60.11150117432088,
          55.43540525114007
         ],
         "y": [
          70.80725777960456,
          61.17207462343522
         ]
        },
        {
         "hoverinfo": "skip",
         "line": {
          "color": "lightgray",
          "width": 1
         },
         "mode": "lines",
         "showlegend": false,
         "type": "scatter",
         "x": [
          71.2179221347536,
          76.99935530986109
         ],
         "y": [
          23.724908749680008,
          21.582102749684317
         ]
        },
        {
         "hoverinfo": "skip",
         "line": {
          "color": "lightgray",
          "width": 1
         },
         "mode": "lines",
         "showlegend": false,
         "type": "scatter",
         "x": [
          30.46137691733707,
          31.800347497186387
         ],
         "y": [
          9.767211400638388,
          11.005192452767677
         ]
        },
        {
         "hoverinfo": "skip",
         "line": {
          "color": "lightgray",
          "width": 1
         },
         "mode": "lines",
         "showlegend": false,
         "type": "scatter",
         "x": [
          96.95846277645586,
          99.05051420006733
         ],
         "y": [
          77.51328233611146,
          41.26176769114265
         ]
        },
        {
         "hoverinfo": "skip",
         "line": {
          "color": "lightgray",
          "width": 1
         },
         "mode": "lines",
         "showlegend": false,
         "type": "scatter",
         "x": [
          76.07850486168974,
          79.82951789667752
         ],
         "y": [
          56.127719756949624,
          64.99639307777652
         ]
        },
        {
         "hoverinfo": "skip",
         "line": {
          "color": "lightgray",
          "width": 1
         },
         "mode": "lines",
         "showlegend": false,
         "type": "scatter",
         "x": [
          69.09377381024659,
          51.630034830119534
         ],
         "y": [
          38.67353463005374,
          32.2956472941246
         ]
        },
        {
         "hoverinfo": "skip",
         "line": {
          "color": "lightgray",
          "width": 1
         },
         "mode": "lines",
         "showlegend": false,
         "type": "scatter",
         "x": [
          77.0967179954561,
          79.48113035416485
         ],
         "y": [
          49.379559636439076,
          50.26370931051921
         ]
        },
        {
         "hoverinfo": "skip",
         "line": {
          "color": "lightgray",
          "width": 1
         },
         "mode": "lines",
         "showlegend": false,
         "type": "scatter",
         "x": [
          88.70864242651173,
          95.48652806631941
         ],
         "y": [
          77.98755458576238,
          73.78969166957685
         ]
        },
        {
         "hoverinfo": "skip",
         "line": {
          "color": "lightgray",
          "width": 1
         },
         "mode": "lines",
         "showlegend": false,
         "type": "scatter",
         "x": [
          54.06351216101065,
          55.43540525114007
         ],
         "y": [
          63.742990149820656,
          61.17207462343522
         ]
        },
        {
         "hoverinfo": "skip",
         "line": {
          "color": "lightgray",
          "width": 1
         },
         "mode": "lines",
         "showlegend": false,
         "type": "scatter",
         "x": [
          54.06351216101065,
          39.85047343973734
         ],
         "y": [
          63.742990149820656,
          61.585009805221645
         ]
        },
        {
         "hoverinfo": "skip",
         "line": {
          "color": "lightgray",
          "width": 1
         },
         "mode": "lines",
         "showlegend": false,
         "type": "scatter",
         "x": [
          80.74401551640625,
          81.80147659224932
         ],
         "y": [
          89.60912999234932,
          86.07305832563435
         ]
        },
        {
         "hoverinfo": "skip",
         "line": {
          "color": "lightgray",
          "width": 1
         },
         "mode": "lines",
         "showlegend": false,
         "type": "scatter",
         "x": [
          36.3629602379294,
          61.500722669916975
         ],
         "y": [
          97.17820827209607,
          99.00538501042632
         ]
        },
        {
         "hoverinfo": "skip",
         "line": {
          "color": "lightgray",
          "width": 1
         },
         "mode": "lines",
         "showlegend": false,
         "type": "scatter",
         "x": [
          87.73730719279554,
          85.54605840110072
         ],
         "y": [
          74.07686177542044,
          70.36578593800236
         ]
        },
        {
         "hoverinfo": "skip",
         "line": {
          "color": "lightgray",
          "width": 1
         },
         "mode": "lines",
         "showlegend": false,
         "type": "scatter",
         "x": [
          54.06351216101065,
          45.825289049151664
         ],
         "y": [
          63.742990149820656,
          54.56167893159349
         ]
        },
        {
         "hoverinfo": "skip",
         "line": {
          "color": "lightgray",
          "width": 1
         },
         "mode": "lines",
         "showlegend": false,
         "type": "scatter",
         "x": [
          37.5582952639944,
          43.89714207056361
         ],
         "y": [
          9.3981939840869,
          7.845638134226595
         ]
        },
        {
         "hoverinfo": "skip",
         "line": {
          "color": "lightgray",
          "width": 1
         },
         "mode": "lines",
         "showlegend": false,
         "type": "scatter",
         "x": [
          80.36720768991145,
          76.99935530986109
         ],
         "y": [
          18.657005888603585,
          21.582102749684317
         ]
        },
        {
         "hoverinfo": "skip",
         "line": {
          "color": "lightgray",
          "width": 1
         },
         "mode": "lines",
         "showlegend": false,
         "type": "scatter",
         "x": [
          97.30105547524455,
          94.14648087765252
         ],
         "y": [
          39.30977246667604,
          38.610263780077425
         ]
        },
        {
         "hoverinfo": "skip",
         "line": {
          "color": "lightgray",
          "width": 1
         },
         "mode": "lines",
         "showlegend": false,
         "type": "scatter",
         "x": [
          14.092422497476264,
          9.02897700544083
         ],
         "y": [
          80.21969807540397,
          83.5302495589238
         ]
        },
        {
         "hoverinfo": "skip",
         "line": {
          "color": "lightgray",
          "width": 1
         },
         "mode": "lines",
         "showlegend": false,
         "type": "scatter",
         "x": [
          82.87375091519293,
          91.48643902204485
         ],
         "y": [
          35.67533266935893,
          37.01587002554444
         ]
        },
        {
         "hoverinfo": "skip",
         "line": {
          "color": "lightgray",
          "width": 1
         },
         "mode": "lines",
         "showlegend": false,
         "type": "scatter",
         "x": [
          60.75448519014384,
          54.67102793432797
         ],
         "y": [
          17.052412368729154,
          18.485445552552704
         ]
        },
        {
         "hoverinfo": "skip",
         "line": {
          "color": "lightgray",
          "width": 1
         },
         "mode": "lines",
         "showlegend": false,
         "type": "scatter",
         "x": [
          31.171107608941096,
          28.65412521282844
         ],
         "y": [
          52.00680211778108,
          59.08332605690107
         ]
        },
        {
         "hoverinfo": "skip",
         "line": {
          "color": "lightgray",
          "width": 1
         },
         "mode": "lines",
         "showlegend": false,
         "type": "scatter",
         "x": [
          90.7566473926093,
          81.44684825889358
         ],
         "y": [
          24.929222914887493,
          28.185477477339994
         ]
        },
        {
         "hoverinfo": "skip",
         "line": {
          "color": "lightgray",
          "width": 1
         },
         "mode": "lines",
         "showlegend": false,
         "type": "scatter",
         "x": [
          4.600264202175275,
          10.077800137742665
         ],
         "y": [
          4.072880231897013,
          1.8221825651549728
         ]
        },
        {
         "hoverinfo": "skip",
         "line": {
          "color": "lightgray",
          "width": 1
         },
         "mode": "lines",
         "showlegend": false,
         "type": "scatter",
         "x": [
          19.967378215835975,
          16.94927466860925
         ],
         "y": [
          51.42344384136116,
          55.68012624583501
         ]
        },
        {
         "hoverinfo": "skip",
         "line": {
          "color": "lightgray",
          "width": 1
         },
         "mode": "lines",
         "showlegend": false,
         "type": "scatter",
         "x": [
          32.539969815926774,
          34.08035402530179
         ],
         "y": [
          74.64914051180241,
          93.07573256035647
         ]
        },
        {
         "hoverinfo": "skip",
         "line": {
          "color": "lightgray",
          "width": 1
         },
         "mode": "lines",
         "showlegend": false,
         "type": "scatter",
         "x": [
          49.16158751168324,
          45.825289049151664
         ],
         "y": [
          47.34717707805657,
          54.56167893159349
         ]
        },
        {
         "hoverinfo": "skip",
         "line": {
          "color": "lightgray",
          "width": 1
         },
         "mode": "lines",
         "showlegend": false,
         "type": "scatter",
         "x": [
          77.0967179954561,
          65.76128923003434
         ],
         "y": [
          49.379559636439076,
          56.830860333547164
         ]
        },
        {
         "hoverinfo": "skip",
         "line": {
          "color": "lightgray",
          "width": 1
         },
         "mode": "lines",
         "showlegend": false,
         "type": "scatter",
         "x": [
          57.0061170089365,
          62.28904758190003
         ],
         "y": [
          9.717649377076853,
          8.5347464993768
         ]
        },
        {
         "hoverinfo": "skip",
         "line": {
          "color": "lightgray",
          "width": 1
         },
         "mode": "lines",
         "showlegend": false,
         "type": "scatter",
         "x": [
          93.9498941564189,
          86.70723185801037
         ],
         "y": [
          89.48273504276489,
          91.32405525564712
         ]
        },
        {
         "hoverinfo": "skip",
         "line": {
          "color": "lightgray",
          "width": 1
         },
         "mode": "lines",
         "showlegend": false,
         "type": "scatter",
         "x": [
          11.959424593830171,
          9.44429607559284
         ],
         "y": [
          71.3244787222995,
          68.30067734163569
         ]
        },
        {
         "hoverinfo": "skip",
         "line": {
          "color": "lightgray",
          "width": 1
         },
         "mode": "lines",
         "showlegend": false,
         "type": "scatter",
         "x": [
          51.87906217433661,
          54.06351216101065
         ],
         "y": [
          70.30189588951778,
          63.742990149820656
         ]
        },
        {
         "hoverinfo": "skip",
         "line": {
          "color": "lightgray",
          "width": 1
         },
         "mode": "lines",
         "showlegend": false,
         "type": "scatter",
         "x": [
          2.0584494295802447,
          1.5456616528867428
         ],
         "y": [
          96.99098521619943,
          92.83185625877253
         ]
        },
        {
         "hoverinfo": "skip",
         "line": {
          "color": "lightgray",
          "width": 1
         },
         "mode": "lines",
         "showlegend": false,
         "type": "scatter",
         "x": [
          25.79416277151556,
          16.94927466860925
         ],
         "y": [
          65.99840460341791,
          55.68012624583501
         ]
        },
        {
         "hoverinfo": "skip",
         "line": {
          "color": "lightgray",
          "width": 1
         },
         "mode": "lines",
         "showlegend": false,
         "type": "scatter",
         "x": [
          51.87906217433661,
          54.92266647061205
         ],
         "y": [
          70.30189588951778,
          71.45959227000624
         ]
        },
        {
         "hoverinfo": "skip",
         "line": {
          "color": "lightgray",
          "width": 1
         },
         "mode": "lines",
         "showlegend": false,
         "type": "scatter",
         "x": [
          88.72127425763266,
          89.25589984899777
         ],
         "y": [
          47.22149251619493,
          53.93422419156507
         ]
        },
        {
         "hoverinfo": "skip",
         "line": {
          "color": "lightgray",
          "width": 1
         },
         "mode": "lines",
         "showlegend": false,
         "type": "scatter",
         "x": [
          18.182496720710063,
          15.643704267108605
         ],
         "y": [
          18.34045098534338,
          25.024289816459532
         ]
        },
        {
         "hoverinfo": "skip",
         "line": {
          "color": "lightgray",
          "width": 1
         },
         "mode": "lines",
         "showlegend": false,
         "type": "scatter",
         "x": [
          5.8083612168199465,
          0.5522117123602399
         ],
         "y": [
          86.61761457749351,
          81.54614284548342
         ]
        },
        {
         "hoverinfo": "skip",
         "line": {
          "color": "lightgray",
          "width": 1
         },
         "mode": "lines",
         "showlegend": false,
         "type": "scatter",
         "x": [
          35.597267865126156,
          37.201808579278314
         ],
         "y": [
          75.78461104643691,
          77.64129607419969
         ]
        },
        {
         "hoverinfo": "skip",
         "line": {
          "color": "lightgray",
          "width": 1
         },
         "mode": "lines",
         "showlegend": false,
         "type": "scatter",
         "x": [
          22.879816549162246,
          28.07723624408558
         ],
         "y": [
          7.697990982879299,
          2.431596643145384
         ]
        },
        {
         "hoverinfo": "skip",
         "line": {
          "color": "lightgray",
          "width": 1
         },
         "mode": "lines",
         "showlegend": false,
         "type": "scatter",
         "x": [
          80.74401551640625,
          72.60913337226616
         ],
         "y": [
          89.60912999234932,
          97.58520794625346
         ]
        },
        {
         "hoverinfo": "skip",
         "line": {
          "color": "lightgray",
          "width": 1
         },
         "mode": "lines",
         "showlegend": false,
         "type": "scatter",
         "x": [
          81.80147659224932,
          75.06147516408583
         ],
         "y": [
          86.07305832563435,
          80.6834739267264
         ]
        },
        {
         "hoverinfo": "skip",
         "line": {
          "color": "lightgray",
          "width": 1
         },
         "mode": "lines",
         "showlegend": false,
         "type": "scatter",
         "x": [
          51.13423988609378,
          46.55980181324602
         ],
         "y": [
          50.15162946871996,
          54.26446347075766
         ]
        },
        {
         "hoverinfo": "skip",
         "line": {
          "color": "lightgray",
          "width": 1
         },
         "mode": "lines",
         "showlegend": false,
         "type": "scatter",
         "x": [
          54.67102793432797,
          51.2093058299281
         ],
         "y": [
          18.485445552552704,
          22.649577519793795
         ]
        },
        {
         "hoverinfo": "skip",
         "line": {
          "color": "lightgray",
          "width": 1
         },
         "mode": "lines",
         "showlegend": false,
         "type": "scatter",
         "x": [
          8.84925020519195,
          5.147875124998935
         ],
         "y": [
          19.59828624191452,
          27.864646423661142
         ]
        },
        {
         "hoverinfo": "skip",
         "line": {
          "color": "lightgray",
          "width": 1
         },
         "mode": "lines",
         "showlegend": false,
         "type": "scatter",
         "x": [
          96.24472949421113,
          93.67299887367345
         ],
         "y": [
          25.178229582536417,
          13.752094414599325
         ]
        },
        {
         "hoverinfo": "skip",
         "line": {
          "color": "lightgray",
          "width": 1
         },
         "mode": "lines",
         "showlegend": false,
         "type": "scatter",
         "x": [
          37.454011884736246,
          45.606998421703594
         ],
         "y": [
          95.07143064099162,
          78.51759613930136
         ]
        },
        {
         "hoverinfo": "skip",
         "line": {
          "color": "lightgray",
          "width": 1
         },
         "mode": "lines",
         "showlegend": false,
         "type": "scatter",
         "x": [
          88.72127425763266,
          85.84127518430118
         ],
         "y": [
          47.22149251619493,
          42.89940273750184
         ]
        },
        {
         "hoverinfo": "skip",
         "line": {
          "color": "lightgray",
          "width": 1
         },
         "mode": "lines",
         "showlegend": false,
         "type": "scatter",
         "x": [
          93.6154774160781,
          94.02302414249576
         ],
         "y": [
          69.6029796674973,
          57.5474177875879
         ]
        },
        {
         "hoverinfo": "skip",
         "line": {
          "color": "lightgray",
          "width": 1
         },
         "mode": "lines",
         "showlegend": false,
         "type": "scatter",
         "x": [
          64.96328990472146,
          50.31362585800877
         ],
         "y": [
          84.9223410494178,
          85.64898411883223
         ]
        },
        {
         "hoverinfo": "skip",
         "line": {
          "color": "lightgray",
          "width": 1
         },
         "mode": "lines",
         "showlegend": false,
         "type": "scatter",
         "x": [
          91.48643902204485,
          89.00053418175663
         ],
         "y": [
          37.01587002554444,
          33.79951568515358
         ]
        },
        {
         "hoverinfo": "skip",
         "line": {
          "color": "lightgray",
          "width": 1
         },
         "mode": "lines",
         "showlegend": false,
         "type": "scatter",
         "x": [
          43.194501864211574,
          33.90297910487007
         ],
         "y": [
          29.122914019804192,
          34.92095746126609
         ]
        },
        {
         "hoverinfo": "skip",
         "line": {
          "color": "lightgray",
          "width": 1
         },
         "mode": "lines",
         "showlegend": false,
         "type": "scatter",
         "x": [
          14.092422497476264,
          11.959424593830171
         ],
         "y": [
          80.21969807540397,
          71.3244787222995
         ]
        },
        {
         "hoverinfo": "skip",
         "line": {
          "color": "lightgray",
          "width": 1
         },
         "mode": "lines",
         "showlegend": false,
         "type": "scatter",
         "x": [
          60.956433397989684,
          63.35297107608947
         ],
         "y": [
          50.26790232288615,
          53.57746840747585
         ]
        },
        {
         "hoverinfo": "skip",
         "line": {
          "color": "lightgray",
          "width": 1
         },
         "mode": "lines",
         "showlegend": false,
         "type": "scatter",
         "x": [
          31.09823217156622,
          26.520236768172545
         ],
         "y": [
          32.518332202674706,
          24.398964337908357
         ]
        },
        {
         "hoverinfo": "skip",
         "line": {
          "color": "lightgray",
          "width": 1
         },
         "mode": "lines",
         "showlegend": false,
         "type": "scatter",
         "x": [
          59.78999788110851,
          42.81841483173143
         ],
         "y": [
          92.18742350231169,
          96.66548190436696
         ]
        },
        {
         "hoverinfo": "skip",
         "line": {
          "color": "lightgray",
          "width": 1
         },
         "mode": "lines",
         "showlegend": false,
         "type": "scatter",
         "x": [
          31.435598107632668,
          22.793516254194166
         ],
         "y": [
          50.85706911647028,
          42.71077886262563
         ]
        },
        {
         "hoverinfo": "skip",
         "line": {
          "color": "lightgray",
          "width": 1
         },
         "mode": "lines",
         "showlegend": false,
         "type": "scatter",
         "x": [
          37.201808579278314,
          34.08035402530179
         ],
         "y": [
          77.64129607419969,
          93.07573256035647
         ]
        },
        {
         "hoverinfo": "skip",
         "line": {
          "color": "lightgray",
          "width": 1
         },
         "mode": "lines",
         "showlegend": false,
         "type": "scatter",
         "x": [
          12.203823484477883,
          9.367476782809248
         ],
         "y": [
          49.51769101112702,
          36.77158030594335
         ]
        },
        {
         "hoverinfo": "skip",
         "line": {
          "color": "lightgray",
          "width": 1
         },
         "mode": "lines",
         "showlegend": false,
         "type": "scatter",
         "x": [
          46.55980181324602,
          55.43540525114007
         ],
         "y": [
          54.26446347075766,
          61.17207462343522
         ]
        },
        {
         "hoverinfo": "skip",
         "line": {
          "color": "lightgray",
          "width": 1
         },
         "mode": "lines",
         "showlegend": false,
         "type": "scatter",
         "x": [
          10.147154286603211,
          16.94927466860925
         ],
         "y": [
          66.35017691080559,
          55.68012624583501
         ]
        },
        {
         "hoverinfo": "skip",
         "line": {
          "color": "lightgray",
          "width": 1
         },
         "mode": "lines",
         "showlegend": false,
         "type": "scatter",
         "x": [
          32.07800649717358,
          40.89529444142699
         ],
         "y": [
          18.651851039985424,
          17.329432007084577
         ]
        },
        {
         "hoverinfo": "skip",
         "line": {
          "color": "lightgray",
          "width": 1
         },
         "mode": "lines",
         "showlegend": false,
         "type": "scatter",
         "x": [
          4.522728891053807,
          7.118864846022898
         ],
         "y": [
          32.53303307632643,
          31.89756302937613
         ]
        },
        {
         "hoverinfo": "skip",
         "line": {
          "color": "lightgray",
          "width": 1
         },
         "mode": "lines",
         "showlegend": false,
         "type": "scatter",
         "x": [
          64.51727904094498,
          64.54722959071678
         ],
         "y": [
          17.436642900499145,
          17.711067940704893
         ]
        },
        {
         "hoverinfo": "skip",
         "line": {
          "color": "lightgray",
          "width": 1
         },
         "mode": "lines",
         "showlegend": false,
         "type": "scatter",
         "x": [
          46.55980181324602,
          45.825289049151664
         ],
         "y": [
          54.26446347075766,
          54.56167893159349
         ]
        },
        {
         "hoverinfo": "skip",
         "line": {
          "color": "lightgray",
          "width": 1
         },
         "mode": "lines",
         "showlegend": false,
         "type": "scatter",
         "x": [
          94.29097039125192,
          96.24472949421113
         ],
         "y": [
          32.320293202075526,
          25.178229582536417
         ]
        },
        {
         "hoverinfo": "skip",
         "line": {
          "color": "lightgray",
          "width": 1
         },
         "mode": "lines",
         "showlegend": false,
         "type": "scatter",
         "x": [
          0.5522117123602399,
          0.6952130531190703
         ],
         "y": [
          81.54614284548342,
          51.07473025775657
         ]
        },
        {
         "hoverinfo": "skip",
         "line": {
          "color": "lightgray",
          "width": 1
         },
         "mode": "lines",
         "showlegend": false,
         "type": "scatter",
         "x": [
          18.182496720710063,
          8.84925020519195
         ],
         "y": [
          18.34045098534338,
          19.59828624191452
         ]
        },
        {
         "hoverinfo": "skip",
         "line": {
          "color": "lightgray",
          "width": 1
         },
         "mode": "lines",
         "showlegend": false,
         "type": "scatter",
         "x": [
          6.505159298527952,
          9.310276780589922
         ],
         "y": [
          94.88855372533332,
          89.72157579533267
         ]
        },
        {
         "hoverinfo": "skip",
         "line": {
          "color": "lightgray",
          "width": 1
         },
         "mode": "lines",
         "showlegend": false,
         "type": "scatter",
         "x": [
          4.077514155476392,
          5.16817211686077
         ],
         "y": [
          59.08929431882418,
          53.1354631568148
         ]
        },
        {
         "hoverinfo": "skip",
         "line": {
          "color": "lightgray",
          "width": 1
         },
         "mode": "lines",
         "showlegend": false,
         "type": "scatter",
         "x": [
          96.95846277645586,
          95.48652806631941
         ],
         "y": [
          77.51328233611146,
          73.78969166957685
         ]
        },
        {
         "hoverinfo": "skip",
         "line": {
          "color": "lightgray",
          "width": 1
         },
         "mode": "lines",
         "showlegend": false,
         "type": "scatter",
         "x": [
          96.24472949421113,
          90.82658859666537
         ],
         "y": [
          25.178229582536417,
          23.95618906669724
         ]
        },
        {
         "hoverinfo": "skip",
         "line": {
          "color": "lightgray",
          "width": 1
         },
         "mode": "lines",
         "showlegend": false,
         "type": "scatter",
         "x": [
          51.87906217433661,
          54.87337893665861
         ],
         "y": [
          70.30189588951778,
          69.18951976926932
         ]
        },
        {
         "hoverinfo": "skip",
         "line": {
          "color": "lightgray",
          "width": 1
         },
         "mode": "lines",
         "showlegend": false,
         "type": "scatter",
         "x": [
          0.5522117123602399,
          9.02897700544083
         ],
         "y": [
          81.54614284548342,
          83.5302495589238
         ]
        },
        {
         "hoverinfo": "skip",
         "line": {
          "color": "lightgray",
          "width": 1
         },
         "mode": "lines",
         "showlegend": false,
         "type": "scatter",
         "x": [
          94.04585843529144,
          72.60913337226616
         ],
         "y": [
          95.39285770025873,
          97.58520794625346
         ]
        },
        {
         "hoverinfo": "skip",
         "line": {
          "color": "lightgray",
          "width": 1
         },
         "mode": "lines",
         "showlegend": false,
         "type": "scatter",
         "x": [
          32.539969815926774,
          37.201808579278314
         ],
         "y": [
          74.64914051180241,
          77.64129607419969
         ]
        },
        {
         "hoverinfo": "skip",
         "line": {
          "color": "lightgray",
          "width": 1
         },
         "mode": "lines",
         "showlegend": false,
         "type": "scatter",
         "x": [
          3.142918568673425,
          4.077514155476392
         ],
         "y": [
          63.64104112637804,
          59.08929431882418
         ]
        },
        {
         "hoverinfo": "skip",
         "line": {
          "color": "lightgray",
          "width": 1
         },
         "mode": "lines",
         "showlegend": false,
         "type": "scatter",
         "x": [
          87.73730719279554,
          80.93611554785136
         ],
         "y": [
          74.07686177542044,
          81.01133946791808
         ]
        },
        {
         "hoverinfo": "skip",
         "line": {
          "color": "lightgray",
          "width": 1
         },
         "mode": "lines",
         "showlegend": false,
         "type": "scatter",
         "x": [
          94.29097039125192,
          94.14648087765252
         ],
         "y": [
          32.320293202075526,
          38.610263780077425
         ]
        },
        {
         "hoverinfo": "skip",
         "line": {
          "color": "lightgray",
          "width": 1
         },
         "mode": "lines",
         "showlegend": false,
         "type": "scatter",
         "x": [
          87.73730719279554,
          95.48652806631941
         ],
         "y": [
          74.07686177542044,
          73.78969166957685
         ]
        },
        {
         "hoverinfo": "skip",
         "line": {
          "color": "lightgray",
          "width": 1
         },
         "mode": "lines",
         "showlegend": false,
         "type": "scatter",
         "x": [
          22.879816549162246,
          28.484049437746762
         ],
         "y": [
          7.697990982879299,
          3.6886947354532795
         ]
        },
        {
         "hoverinfo": "skip",
         "line": {
          "color": "lightgray",
          "width": 1
         },
         "mode": "lines",
         "showlegend": false,
         "type": "scatter",
         "x": [
          35.84657285442726,
          32.07800649717358
         ],
         "y": [
          11.586905952512971,
          18.651851039985424
         ]
        },
        {
         "hoverinfo": "skip",
         "line": {
          "color": "lightgray",
          "width": 1
         },
         "mode": "lines",
         "showlegend": false,
         "type": "scatter",
         "x": [
          52.965057835600646,
          51.630034830119534
         ],
         "y": [
          24.18522909004517,
          32.2956472941246
         ]
        },
        {
         "hoverinfo": "skip",
         "line": {
          "color": "lightgray",
          "width": 1
         },
         "mode": "lines",
         "showlegend": false,
         "type": "scatter",
         "x": [
          43.89714207056361,
          47.41738290873252
         ],
         "y": [
          7.845638134226595,
          9.783416065100148
         ]
        },
        {
         "hoverinfo": "skip",
         "line": {
          "color": "lightgray",
          "width": 1
         },
         "mode": "lines",
         "showlegend": false,
         "type": "scatter",
         "x": [
          19.967378215835975,
          14.48948720912231
         ],
         "y": [
          51.42344384136116,
          48.9452760277563
         ]
        },
        {
         "hoverinfo": "skip",
         "line": {
          "color": "lightgray",
          "width": 1
         },
         "mode": "lines",
         "showlegend": false,
         "type": "scatter",
         "x": [
          83.24426408004217,
          81.44684825889358
         ],
         "y": [
          21.233911067827616,
          28.185477477339994
         ]
        },
        {
         "hoverinfo": "skip",
         "line": {
          "color": "lightgray",
          "width": 1
         },
         "mode": "lines",
         "showlegend": false,
         "type": "scatter",
         "x": [
          0.5522117123602399,
          3.142918568673425
         ],
         "y": [
          81.54614284548342,
          63.64104112637804
         ]
        },
        {
         "hoverinfo": "skip",
         "line": {
          "color": "lightgray",
          "width": 1
         },
         "mode": "lines",
         "showlegend": false,
         "type": "scatter",
         "x": [
          11.959424593830171,
          19.52429877980445
         ],
         "y": [
          71.3244787222995,
          72.24521152615053
         ]
        },
        {
         "hoverinfo": "skip",
         "line": {
          "color": "lightgray",
          "width": 1
         },
         "mode": "lines",
         "showlegend": false,
         "type": "scatter",
         "x": [
          54.67102793432797,
          52.965057835600646
         ],
         "y": [
          18.485445552552704,
          24.18522909004517
         ]
        },
        {
         "hoverinfo": "skip",
         "line": {
          "color": "lightgray",
          "width": 1
         },
         "mode": "lines",
         "showlegend": false,
         "type": "scatter",
         "x": [
          16.94927466860925,
          7.056874740042984
         ],
         "y": [
          55.68012624583501,
          64.24192782063156
         ]
        },
        {
         "hoverinfo": "skip",
         "line": {
          "color": "lightgray",
          "width": 1
         },
         "mode": "lines",
         "showlegend": false,
         "type": "scatter",
         "x": [
          73.1993941811405,
          65.76128923003434
         ],
         "y": [
          59.86584841970366,
          56.830860333547164
         ]
        },
        {
         "hoverinfo": "skip",
         "line": {
          "color": "lightgray",
          "width": 1
         },
         "mode": "lines",
         "showlegend": false,
         "type": "scatter",
         "x": [
          59.24145688620425,
          57.0061170089365
         ],
         "y": [
          4.645041271999773,
          9.717649377076853
         ]
        },
        {
         "hoverinfo": "skip",
         "line": {
          "color": "lightgray",
          "width": 1
         },
         "mode": "lines",
         "showlegend": false,
         "type": "scatter",
         "x": [
          88.72127425763266,
          94.02302414249576
         ],
         "y": [
          47.22149251619493,
          57.5474177875879
         ]
        },
        {
         "hoverinfo": "skip",
         "line": {
          "color": "lightgray",
          "width": 1
         },
         "mode": "lines",
         "showlegend": false,
         "type": "scatter",
         "x": [
          63.34037565104234,
          64.96328990472146
         ],
         "y": [
          87.14605901877177,
          84.9223410494178
         ]
        },
        {
         "hoverinfo": "skip",
         "line": {
          "color": "lightgray",
          "width": 1
         },
         "mode": "lines",
         "showlegend": false,
         "type": "scatter",
         "x": [
          14.48948720912231,
          14.008401523652402
         ],
         "y": [
          48.9452760277563,
          51.832965236373674
         ]
        },
        {
         "hoverinfo": "skip",
         "line": {
          "color": "lightgray",
          "width": 1
         },
         "mode": "lines",
         "showlegend": false,
         "type": "scatter",
         "x": [
          36.77831327192532,
          25.79416277151556
         ],
         "y": [
          63.23058305935795,
          65.99840460341791
         ]
        },
        {
         "hoverinfo": "skip",
         "line": {
          "color": "lightgray",
          "width": 1
         },
         "mode": "lines",
         "showlegend": false,
         "type": "scatter",
         "x": [
          61.18528947223795,
          60.75448519014384
         ],
         "y": [
          13.949386065204184,
          17.052412368729154
         ]
        },
        {
         "hoverinfo": "skip",
         "line": {
          "color": "lightgray",
          "width": 1
         },
         "mode": "lines",
         "showlegend": false,
         "type": "scatter",
         "x": [
          36.3629602379294,
          16.162871409461378
         ],
         "y": [
          97.17820827209607,
          89.85541885270793
         ]
        },
        {
         "hoverinfo": "skip",
         "line": {
          "color": "lightgray",
          "width": 1
         },
         "mode": "lines",
         "showlegend": false,
         "type": "scatter",
         "x": [
          25.79416277151556,
          10.147154286603211
         ],
         "y": [
          65.99840460341791,
          66.35017691080559
         ]
        },
        {
         "hoverinfo": "skip",
         "line": {
          "color": "lightgray",
          "width": 1
         },
         "mode": "lines",
         "showlegend": false,
         "type": "scatter",
         "x": [
          61.18528947223795,
          54.67102793432797
         ],
         "y": [
          13.949386065204184,
          18.485445552552704
         ]
        },
        {
         "hoverinfo": "skip",
         "line": {
          "color": "lightgray",
          "width": 1
         },
         "mode": "lines",
         "showlegend": false,
         "type": "scatter",
         "x": [
          73.50710438038858,
          75.08710677914974
         ],
         "y": [
          80.34809303848486,
          75.45428740846823
         ]
        },
        {
         "hoverinfo": "skip",
         "line": {
          "color": "lightgray",
          "width": 1
         },
         "mode": "lines",
         "showlegend": false,
         "type": "scatter",
         "x": [
          87.73730719279554,
          83.59801205122058
         ],
         "y": [
          74.07686177542044,
          69.59742060936979
         ]
        },
        {
         "hoverinfo": "skip",
         "line": {
          "color": "lightgray",
          "width": 1
         },
         "mode": "lines",
         "showlegend": false,
         "type": "scatter",
         "x": [
          28.9751452913768,
          28.203457257130648
         ],
         "y": [
          16.122128725400444,
          17.743954377972283
         ]
        },
        {
         "hoverinfo": "skip",
         "line": {
          "color": "lightgray",
          "width": 1
         },
         "mode": "lines",
         "showlegend": false,
         "type": "scatter",
         "x": [
          32.07800649717358,
          26.520236768172545
         ],
         "y": [
          18.651851039985424,
          24.398964337908357
         ]
        },
        {
         "hoverinfo": "skip",
         "line": {
          "color": "lightgray",
          "width": 1
         },
         "mode": "lines",
         "showlegend": false,
         "type": "scatter",
         "x": [
          77.0967179954561,
          85.84127518430118
         ],
         "y": [
          49.379559636439076,
          42.89940273750184
         ]
        },
        {
         "hoverinfo": "skip",
         "line": {
          "color": "lightgray",
          "width": 1
         },
         "mode": "lines",
         "showlegend": false,
         "type": "scatter",
         "x": [
          5.8083612168199465,
          3.4388521115218396
         ],
         "y": [
          86.61761457749351,
          90.9320402078782
         ]
        },
        {
         "hoverinfo": "skip",
         "line": {
          "color": "lightgray",
          "width": 1
         },
         "mode": "lines",
         "showlegend": false,
         "type": "scatter",
         "x": [
          37.454011884736246,
          42.81841483173143
         ],
         "y": [
          95.07143064099162,
          96.66548190436696
         ]
        },
        {
         "hoverinfo": "skip",
         "line": {
          "color": "lightgray",
          "width": 1
         },
         "mode": "lines",
         "showlegend": false,
         "type": "scatter",
         "x": [
          42.81841483173143,
          50.31362585800877
         ],
         "y": [
          96.66548190436696,
          85.64898411883223
         ]
        },
        {
         "hoverinfo": "skip",
         "line": {
          "color": "lightgray",
          "width": 1
         },
         "mode": "lines",
         "showlegend": false,
         "type": "scatter",
         "x": [
          86.31034258755935,
          85.54605840110072
         ],
         "y": [
          62.329812682755794,
          70.36578593800236
         ]
        },
        {
         "hoverinfo": "skip",
         "line": {
          "color": "lightgray",
          "width": 1
         },
         "mode": "lines",
         "showlegend": false,
         "type": "scatter",
         "x": [
          10.147154286603211,
          19.52429877980445
         ],
         "y": [
          66.35017691080559,
          72.24521152615053
         ]
        },
        {
         "hoverinfo": "skip",
         "line": {
          "color": "lightgray",
          "width": 1
         },
         "mode": "lines",
         "showlegend": false,
         "type": "scatter",
         "x": [
          19.967378215835975,
          22.793516254194166
         ],
         "y": [
          51.42344384136116,
          42.71077886262563
         ]
        },
        {
         "hoverinfo": "skip",
         "line": {
          "color": "lightgray",
          "width": 1
         },
         "mode": "lines",
         "showlegend": false,
         "type": "scatter",
         "x": [
          26.520236768172545,
          28.203457257130648
         ],
         "y": [
          24.398964337908357,
          17.743954377972283
         ]
        },
        {
         "hoverinfo": "skip",
         "line": {
          "color": "lightgray",
          "width": 1
         },
         "mode": "lines",
         "showlegend": false,
         "type": "scatter",
         "x": [
          0.5522117123602399,
          11.959424593830171
         ],
         "y": [
          81.54614284548342,
          71.3244787222995
         ]
        },
        {
         "hoverinfo": "skip",
         "line": {
          "color": "lightgray",
          "width": 1
         },
         "mode": "lines",
         "showlegend": false,
         "type": "scatter",
         "x": [
          40.89529444142699,
          47.41738290873252
         ],
         "y": [
          17.329432007084577,
          9.783416065100148
         ]
        },
        {
         "hoverinfo": "skip",
         "line": {
          "color": "lightgray",
          "width": 1
         },
         "mode": "lines",
         "showlegend": false,
         "type": "scatter",
         "x": [
          79.48113035416485,
          85.84127518430118
         ],
         "y": [
          50.26370931051921,
          42.89940273750184
         ]
        },
        {
         "hoverinfo": "skip",
         "line": {
          "color": "lightgray",
          "width": 1
         },
         "mode": "lines",
         "showlegend": false,
         "type": "scatter",
         "x": [
          57.69038846263591,
          55.43540525114007
         ],
         "y": [
          49.25176938188639,
          61.17207462343522
         ]
        },
        {
         "hoverinfo": "skip",
         "line": {
          "color": "lightgray",
          "width": 1
         },
         "mode": "lines",
         "showlegend": false,
         "type": "scatter",
         "x": [
          7.455064367977082,
          61.500722669916975
         ],
         "y": [
          98.68869366005173,
          99.00538501042632
         ]
        },
        {
         "hoverinfo": "skip",
         "line": {
          "color": "lightgray",
          "width": 1
         },
         "mode": "lines",
         "showlegend": false,
         "type": "scatter",
         "x": [
          12.706051265188478,
          5.16817211686077
         ],
         "y": [
          52.224326005480435,
          53.1354631568148
         ]
        },
        {
         "hoverinfo": "skip",
         "line": {
          "color": "lightgray",
          "width": 1
         },
         "mode": "lines",
         "showlegend": false,
         "type": "scatter",
         "x": [
          11.98653673336828,
          17.320186991001517
         ],
         "y": [
          33.7615171403628,
          43.385164923797305
         ]
        },
        {
         "hoverinfo": "skip",
         "line": {
          "color": "lightgray",
          "width": 1
         },
         "mode": "lines",
         "showlegend": false,
         "type": "scatter",
         "x": [
          77.12703466859458,
          64.20316461542878
         ],
         "y": [
          7.4044651734090365,
          8.413996499504883
         ]
        },
        {
         "hoverinfo": "skip",
         "line": {
          "color": "lightgray",
          "width": 1
         },
         "mode": "lines",
         "showlegend": false,
         "type": "scatter",
         "x": [
          59.24145688620425,
          57.8280140996174
         ],
         "y": [
          4.645041271999773,
          3.5942273796742086
         ]
        },
        {
         "hoverinfo": "skip",
         "line": {
          "color": "lightgray",
          "width": 1
         },
         "mode": "lines",
         "showlegend": false,
         "type": "scatter",
         "x": [
          51.2093058299281,
          40.89529444142699
         ],
         "y": [
          22.649577519793795,
          17.329432007084577
         ]
        },
        {
         "hoverinfo": "skip",
         "line": {
          "color": "lightgray",
          "width": 1
         },
         "mode": "lines",
         "showlegend": false,
         "type": "scatter",
         "x": [
          64.96328990472146,
          54.92266647061205
         ],
         "y": [
          84.9223410494178,
          71.45959227000624
         ]
        },
        {
         "hoverinfo": "skip",
         "line": {
          "color": "lightgray",
          "width": 1
         },
         "mode": "lines",
         "showlegend": false,
         "type": "scatter",
         "x": [
          83.24426408004217,
          80.36720768991145
         ],
         "y": [
          21.233911067827616,
          18.657005888603585
         ]
        },
        {
         "hoverinfo": "skip",
         "line": {
          "color": "lightgray",
          "width": 1
         },
         "mode": "lines",
         "showlegend": false,
         "type": "scatter",
         "x": [
          18.182496720710063,
          26.520236768172545
         ],
         "y": [
          18.34045098534338,
          24.398964337908357
         ]
        },
        {
         "hoverinfo": "skip",
         "line": {
          "color": "lightgray",
          "width": 1
         },
         "mode": "lines",
         "showlegend": false,
         "type": "scatter",
         "x": [
          22.793516254194166,
          11.98653673336828
         ],
         "y": [
          42.71077886262563,
          33.7615171403628
         ]
        },
        {
         "hoverinfo": "skip",
         "line": {
          "color": "lightgray",
          "width": 1
         },
         "mode": "lines",
         "showlegend": false,
         "type": "scatter",
         "x": [
          31.09823217156622,
          33.90297910487007
         ],
         "y": [
          32.518332202674706,
          34.92095746126609
         ]
        },
        {
         "hoverinfo": "skip",
         "line": {
          "color": "lightgray",
          "width": 1
         },
         "mode": "lines",
         "showlegend": false,
         "type": "scatter",
         "x": [
          9.367476782809248,
          7.118864846022898
         ],
         "y": [
          36.77158030594335,
          31.89756302937613
         ]
        },
        {
         "hoverinfo": "skip",
         "line": {
          "color": "lightgray",
          "width": 1
         },
         "mode": "lines",
         "showlegend": false,
         "type": "scatter",
         "x": [
          65.76128923003434,
          69.7015740995268
         ],
         "y": [
          56.830860333547164,
          70.24840839871092
         ]
        },
        {
         "hoverinfo": "skip",
         "line": {
          "color": "lightgray",
          "width": 1
         },
         "mode": "lines",
         "showlegend": false,
         "type": "scatter",
         "x": [
          82.26005606596583,
          79.51861947687037
         ],
         "y": [
          36.019064141126286,
          27.083225126207424
         ]
        },
        {
         "hoverinfo": "skip",
         "line": {
          "color": "lightgray",
          "width": 1
         },
         "mode": "lines",
         "showlegend": false,
         "type": "scatter",
         "x": [
          32.07800649717358,
          35.94911512197552
         ],
         "y": [
          18.651851039985424,
          29.359184426449335
         ]
        },
        {
         "hoverinfo": "skip",
         "line": {
          "color": "lightgray",
          "width": 1
         },
         "mode": "lines",
         "showlegend": false,
         "type": "scatter",
         "x": [
          0.5061583846218687,
          1.4393488629755868
         ],
         "y": [
          16.080805141749867,
          11.607264050691624
         ]
        },
        {
         "hoverinfo": "skip",
         "line": {
          "color": "lightgray",
          "width": 1
         },
         "mode": "lines",
         "showlegend": false,
         "type": "scatter",
         "x": [
          0.6952130531190703,
          9.367476782809248
         ],
         "y": [
          51.07473025775657,
          36.77158030594335
         ]
        },
        {
         "hoverinfo": "skip",
         "line": {
          "color": "lightgray",
          "width": 1
         },
         "mode": "lines",
         "showlegend": false,
         "type": "scatter",
         "x": [
          2.0584494295802447,
          7.455064367977082
         ],
         "y": [
          96.99098521619943,
          98.68869366005173
         ]
        },
        {
         "hoverinfo": "skip",
         "line": {
          "color": "lightgray",
          "width": 1
         },
         "mode": "lines",
         "showlegend": false,
         "type": "scatter",
         "x": [
          33.08980248526492,
          43.89714207056361
         ],
         "y": [
          6.355835028602364,
          7.845638134226595
         ]
        },
        {
         "hoverinfo": "skip",
         "line": {
          "color": "lightgray",
          "width": 1
         },
         "mode": "lines",
         "showlegend": false,
         "type": "scatter",
         "x": [
          61.18528947223795,
          62.28904758190003
         ],
         "y": [
          13.949386065204184,
          8.5347464993768
         ]
        },
        {
         "hoverinfo": "skip",
         "line": {
          "color": "lightgray",
          "width": 1
         },
         "mode": "lines",
         "showlegend": false,
         "type": "scatter",
         "x": [
          93.6154774160781,
          87.73730719279554
         ],
         "y": [
          69.6029796674973,
          74.07686177542044
         ]
        },
        {
         "hoverinfo": "skip",
         "line": {
          "color": "lightgray",
          "width": 1
         },
         "mode": "lines",
         "showlegend": false,
         "type": "scatter",
         "x": [
          83.59801205122058,
          85.54605840110072
         ],
         "y": [
          69.59742060936979,
          70.36578593800236
         ]
        },
        {
         "hoverinfo": "skip",
         "line": {
          "color": "lightgray",
          "width": 1
         },
         "mode": "lines",
         "showlegend": false,
         "type": "scatter",
         "x": [
          62.28904758190003,
          63.50936508676438
         ],
         "y": [
          8.5347464993768,
          4.530400977204452
         ]
        },
        {
         "hoverinfo": "skip",
         "line": {
          "color": "lightgray",
          "width": 1
         },
         "mode": "lines",
         "showlegend": false,
         "type": "scatter",
         "x": [
          72.59556788702393,
          64.96328990472146
         ],
         "y": [
          89.71102599525771,
          84.9223410494178
         ]
        },
        {
         "hoverinfo": "skip",
         "line": {
          "color": "lightgray",
          "width": 1
         },
         "mode": "lines",
         "showlegend": false,
         "type": "scatter",
         "x": [
          70.68573438476172,
          70.19668772577033
         ],
         "y": [
          72.90071680409874,
          79.57926694361011
         ]
        },
        {
         "hoverinfo": "skip",
         "line": {
          "color": "lightgray",
          "width": 1
         },
         "mode": "lines",
         "showlegend": false,
         "type": "scatter",
         "x": [
          94.29097039125192,
          89.00053418175663
         ],
         "y": [
          32.320293202075526,
          33.79951568515358
         ]
        },
        {
         "hoverinfo": "skip",
         "line": {
          "color": "lightgray",
          "width": 1
         },
         "mode": "lines",
         "showlegend": false,
         "type": "scatter",
         "x": [
          67.75643618422824,
          84.48753109694546
         ],
         "y": [
          1.6587828927856152,
          2.3271935735825866
         ]
        },
        {
         "hoverinfo": "skip",
         "line": {
          "color": "lightgray",
          "width": 1
         },
         "mode": "lines",
         "showlegend": false,
         "type": "scatter",
         "x": [
          2.541912674409519,
          0.5061583846218687
         ],
         "y": [
          10.789142699330444,
          16.080805141749867
         ]
        },
        {
         "hoverinfo": "skip",
         "line": {
          "color": "lightgray",
          "width": 1
         },
         "mode": "lines",
         "showlegend": false,
         "type": "scatter",
         "x": [
          85.11366715168569,
          81.44684825889358
         ],
         "y": [
          31.692200515627768,
          28.185477477339994
         ]
        },
        {
         "hoverinfo": "skip",
         "line": {
          "color": "lightgray",
          "width": 1
         },
         "mode": "lines",
         "showlegend": false,
         "type": "scatter",
         "x": [
          54.67102793432797,
          47.41738290873252
         ],
         "y": [
          18.485445552552704,
          9.783416065100148
         ]
        },
        {
         "hoverinfo": "skip",
         "line": {
          "color": "lightgray",
          "width": 1
         },
         "mode": "lines",
         "showlegend": false,
         "type": "scatter",
         "x": [
          28.07723624408558,
          10.077800137742665
         ],
         "y": [
          2.431596643145384,
          1.8221825651549728
         ]
        },
        {
         "hoverinfo": "skip",
         "line": {
          "color": "lightgray",
          "width": 1
         },
         "mode": "lines",
         "showlegend": false,
         "type": "scatter",
         "x": [
          93.9498941564189,
          94.04585843529144
         ],
         "y": [
          89.48273504276489,
          95.39285770025873
         ]
        },
        {
         "hoverinfo": "skip",
         "line": {
          "color": "lightgray",
          "width": 1
         },
         "mode": "lines",
         "showlegend": false,
         "type": "scatter",
         "x": [
          51.630034830119534,
          66.01973767177313
         ],
         "y": [
          32.2956472941246,
          27.993389694594285
         ]
        },
        {
         "hoverinfo": "skip",
         "line": {
          "color": "lightgray",
          "width": 1
         },
         "mode": "lines",
         "showlegend": false,
         "type": "scatter",
         "x": [
          39.85047343973734,
          37.46126146264712
         ],
         "y": [
          61.585009805221645,
          62.58599157142364
         ]
        },
        {
         "hoverinfo": "skip",
         "line": {
          "color": "lightgray",
          "width": 1
         },
         "mode": "lines",
         "showlegend": false,
         "type": "scatter",
         "x": [
          68.42330265121569,
          63.35297107608947
         ],
         "y": [
          44.01524937396013,
          53.57746840747585
         ]
        },
        {
         "hoverinfo": "skip",
         "line": {
          "color": "lightgray",
          "width": 1
         },
         "mode": "lines",
         "showlegend": false,
         "type": "scatter",
         "x": [
          34.10663510502585,
          37.5582952639944
         ],
         "y": [
          11.347352124058908,
          9.3981939840869
         ]
        },
        {
         "hoverinfo": "skip",
         "line": {
          "color": "lightgray",
          "width": 1
         },
         "mode": "lines",
         "showlegend": false,
         "type": "scatter",
         "x": [
          31.171107608941096,
          31.435598107632668
         ],
         "y": [
          52.00680211778108,
          50.85706911647028
         ]
        },
        {
         "hoverinfo": "skip",
         "line": {
          "color": "lightgray",
          "width": 1
         },
         "mode": "lines",
         "showlegend": false,
         "type": "scatter",
         "x": [
          64.20316461542878,
          63.50936508676438
         ],
         "y": [
          8.413996499504883,
          4.530400977204452
         ]
        },
        {
         "hoverinfo": "skip",
         "line": {
          "color": "lightgray",
          "width": 1
         },
         "mode": "lines",
         "showlegend": false,
         "type": "scatter",
         "x": [
          15.601864044243651,
          8.84925020519195
         ],
         "y": [
          15.599452033620265,
          19.59828624191452
         ]
        },
        {
         "hoverinfo": "skip",
         "line": {
          "color": "lightgray",
          "width": 1
         },
         "mode": "lines",
         "showlegend": false,
         "type": "scatter",
         "x": [
          12.203823484477883,
          0.6952130531190703
         ],
         "y": [
          49.51769101112702,
          51.07473025775657
         ]
        },
        {
         "hoverinfo": "skip",
         "line": {
          "color": "lightgray",
          "width": 1
         },
         "mode": "lines",
         "showlegend": false,
         "type": "scatter",
         "x": [
          43.194501864211574,
          51.630034830119534
         ],
         "y": [
          29.122914019804192,
          32.2956472941246
         ]
        },
        {
         "hoverinfo": "skip",
         "line": {
          "color": "lightgray",
          "width": 1
         },
         "mode": "lines",
         "showlegend": false,
         "type": "scatter",
         "x": [
          92.46936182785628,
          96.36199770892529
         ],
         "y": [
          87.7339353380981,
          85.300945546736
         ]
        },
        {
         "hoverinfo": "skip",
         "line": {
          "color": "lightgray",
          "width": 1
         },
         "mode": "lines",
         "showlegend": false,
         "type": "scatter",
         "x": [
          52.27328293819941,
          51.630034830119534
         ],
         "y": [
          42.75410183585496,
          32.2956472941246
         ]
        },
        {
         "hoverinfo": "skip",
         "line": {
          "color": "lightgray",
          "width": 1
         },
         "mode": "lines",
         "showlegend": false,
         "type": "scatter",
         "x": [
          80.74401551640625,
          86.70723185801037
         ],
         "y": [
          89.60912999234932,
          91.32405525564712
         ]
        },
        {
         "hoverinfo": "skip",
         "line": {
          "color": "lightgray",
          "width": 1
         },
         "mode": "lines",
         "showlegend": false,
         "type": "scatter",
         "x": [
          33.08980248526492,
          37.5582952639944
         ],
         "y": [
          6.355835028602364,
          9.3981939840869
         ]
        },
        {
         "hoverinfo": "skip",
         "line": {
          "color": "lightgray",
          "width": 1
         },
         "mode": "lines",
         "showlegend": false,
         "type": "scatter",
         "x": [
          96.95846277645586,
          96.36199770892529
         ],
         "y": [
          77.51328233611146,
          85.300945546736
         ]
        },
        {
         "hoverinfo": "skip",
         "line": {
          "color": "lightgray",
          "width": 1
         },
         "mode": "lines",
         "showlegend": false,
         "type": "scatter",
         "x": [
          16.94927466860925,
          28.65412521282844
         ],
         "y": [
          55.68012624583501,
          59.08332605690107
         ]
        },
        {
         "hoverinfo": "skip",
         "line": {
          "color": "lightgray",
          "width": 1
         },
         "mode": "lines",
         "showlegend": false,
         "type": "scatter",
         "x": [
          80.93611554785136,
          83.59801205122058
         ],
         "y": [
          81.01133946791808,
          69.59742060936979
         ]
        },
        {
         "hoverinfo": "skip",
         "line": {
          "color": "lightgray",
          "width": 1
         },
         "mode": "lines",
         "showlegend": false,
         "type": "scatter",
         "x": [
          8.84925020519195,
          2.541912674409519
         ],
         "y": [
          19.59828624191452,
          10.789142699330444
         ]
        },
        {
         "hoverinfo": "skip",
         "line": {
          "color": "lightgray",
          "width": 1
         },
         "mode": "lines",
         "showlegend": false,
         "type": "scatter",
         "x": [
          31.171107608941096,
          45.825289049151664
         ],
         "y": [
          52.00680211778108,
          54.56167893159349
         ]
        },
        {
         "hoverinfo": "skip",
         "line": {
          "color": "lightgray",
          "width": 1
         },
         "mode": "lines",
         "showlegend": false,
         "type": "scatter",
         "x": [
          3.142918568673425,
          0.6952130531190703
         ],
         "y": [
          63.64104112637804,
          51.07473025775657
         ]
        },
        {
         "hoverinfo": "skip",
         "line": {
          "color": "lightgray",
          "width": 1
         },
         "mode": "lines",
         "showlegend": false,
         "type": "scatter",
         "x": [
          31.435598107632668,
          45.825289049151664
         ],
         "y": [
          50.85706911647028,
          54.56167893159349
         ]
        },
        {
         "hoverinfo": "skip",
         "line": {
          "color": "lightgray",
          "width": 1
         },
         "mode": "lines",
         "showlegend": false,
         "type": "scatter",
         "x": [
          83.59801205122058,
          75.08710677914974
         ],
         "y": [
          69.59742060936979,
          75.45428740846823
         ]
        },
        {
         "hoverinfo": "skip",
         "line": {
          "color": "lightgray",
          "width": 1
         },
         "mode": "lines",
         "showlegend": false,
         "type": "scatter",
         "x": [
          60.75448519014384,
          65.19612595026005
         ],
         "y": [
          17.052412368729154,
          22.42693094605598
         ]
        },
        {
         "hoverinfo": "skip",
         "line": {
          "color": "lightgray",
          "width": 1
         },
         "mode": "lines",
         "showlegend": false,
         "type": "scatter",
         "x": [
          5.16817211686077,
          2.6511310541621813
         ],
         "y": [
          53.1354631568148,
          58.57755812734633
         ]
        },
        {
         "hoverinfo": "skip",
         "line": {
          "color": "lightgray",
          "width": 1
         },
         "mode": "lines",
         "showlegend": false,
         "type": "scatter",
         "x": [
          3.4388521115218396,
          1.5456616528867428
         ],
         "y": [
          90.9320402078782,
          92.83185625877253
         ]
        },
        {
         "hoverinfo": "skip",
         "line": {
          "color": "lightgray",
          "width": 1
         },
         "mode": "lines",
         "showlegend": false,
         "type": "scatter",
         "x": [
          52.965057835600646,
          65.19612595026005
         ],
         "y": [
          24.18522909004517,
          22.42693094605598
         ]
        },
        {
         "hoverinfo": "skip",
         "line": {
          "color": "lightgray",
          "width": 1
         },
         "mode": "lines",
         "showlegend": false,
         "type": "scatter",
         "x": [
          36.77831327192532,
          38.816992620652194
         ],
         "y": [
          63.23058305935795,
          64.32882184423532
         ]
        },
        {
         "hoverinfo": "skip",
         "line": {
          "color": "lightgray",
          "width": 1
         },
         "mode": "lines",
         "showlegend": false,
         "type": "scatter",
         "x": [
          77.22447692966574,
          77.12703466859458
         ],
         "y": [
          19.87156815341724,
          7.4044651734090365
         ]
        },
        {
         "hoverinfo": "skip",
         "line": {
          "color": "lightgray",
          "width": 1
         },
         "mode": "lines",
         "showlegend": false,
         "type": "scatter",
         "x": [
          6.505159298527952,
          7.455064367977082
         ],
         "y": [
          94.88855372533332,
          98.68869366005173
         ]
        },
        {
         "hoverinfo": "skip",
         "line": {
          "color": "lightgray",
          "width": 1
         },
         "mode": "lines",
         "showlegend": false,
         "type": "scatter",
         "x": [
          33.08980248526492,
          28.07723624408558
         ],
         "y": [
          6.355835028602364,
          2.431596643145384
         ]
        },
        {
         "hoverinfo": "skip",
         "line": {
          "color": "lightgray",
          "width": 1
         },
         "mode": "lines",
         "showlegend": false,
         "type": "scatter",
         "x": [
          60.11150117432088,
          67.21355474058785
         ],
         "y": [
          70.80725777960456,
          76.16196153287176
         ]
        },
        {
         "hoverinfo": "skip",
         "line": {
          "color": "lightgray",
          "width": 1
         },
         "mode": "lines",
         "showlegend": false,
         "type": "scatter",
         "x": [
          63.35297107608947,
          55.43540525114007
         ],
         "y": [
          53.57746840747585,
          61.17207462343522
         ]
        },
        {
         "hoverinfo": "skip",
         "line": {
          "color": "lightgray",
          "width": 1
         },
         "mode": "lines",
         "showlegend": false,
         "type": "scatter",
         "x": [
          77.12703466859458,
          80.36720768991145
         ],
         "y": [
          7.4044651734090365,
          18.657005888603585
         ]
        },
        {
         "hoverinfo": "skip",
         "line": {
          "color": "lightgray",
          "width": 1
         },
         "mode": "lines",
         "showlegend": false,
         "type": "scatter",
         "x": [
          94.02302414249576,
          99.05051420006733
         ],
         "y": [
          57.5474177875879,
          41.26176769114265
         ]
        },
        {
         "hoverinfo": "skip",
         "line": {
          "color": "lightgray",
          "width": 1
         },
         "mode": "lines",
         "showlegend": false,
         "type": "scatter",
         "x": [
          12.203823484477883,
          17.320186991001517
         ],
         "y": [
          49.51769101112702,
          43.385164923797305
         ]
        },
        {
         "hoverinfo": "skip",
         "line": {
          "color": "lightgray",
          "width": 1
         },
         "mode": "lines",
         "showlegend": false,
         "type": "scatter",
         "x": [
          33.90297910487007,
          29.444889206958567
         ],
         "y": [
          34.92095746126609,
          38.50977286019253
         ]
        },
        {
         "hoverinfo": "skip",
         "line": {
          "color": "lightgray",
          "width": 1
         },
         "mode": "lines",
         "showlegend": false,
         "type": "scatter",
         "x": [
          82.87375091519293,
          81.44684825889358
         ],
         "y": [
          35.67533266935893,
          28.185477477339994
         ]
        },
        {
         "hoverinfo": "skip",
         "line": {
          "color": "lightgray",
          "width": 1
         },
         "mode": "lines",
         "showlegend": false,
         "type": "scatter",
         "x": [
          77.12703466859458,
          67.75643618422824
         ],
         "y": [
          7.4044651734090365,
          1.6587828927856152
         ]
        },
        {
         "hoverinfo": "skip",
         "line": {
          "color": "lightgray",
          "width": 1
         },
         "mode": "lines",
         "showlegend": false,
         "type": "scatter",
         "x": [
          94.29097039125192,
          91.48643902204485
         ],
         "y": [
          32.320293202075526,
          37.01587002554444
         ]
        },
        {
         "hoverinfo": "skip",
         "line": {
          "color": "lightgray",
          "width": 1
         },
         "mode": "lines",
         "showlegend": false,
         "type": "scatter",
         "x": [
          94.04585843529144,
          86.70723185801037
         ],
         "y": [
          95.39285770025873,
          91.32405525564712
         ]
        },
        {
         "hoverinfo": "skip",
         "line": {
          "color": "lightgray",
          "width": 1
         },
         "mode": "lines",
         "showlegend": false,
         "type": "scatter",
         "x": [
          82.87375091519293,
          85.84127518430118
         ],
         "y": [
          35.67533266935893,
          42.89940273750184
         ]
        },
        {
         "hoverinfo": "skip",
         "line": {
          "color": "lightgray",
          "width": 1
         },
         "mode": "lines",
         "showlegend": false,
         "type": "scatter",
         "x": [
          33.90297910487007,
          35.94911512197552
         ],
         "y": [
          34.92095746126609,
          29.359184426449335
         ]
        },
        {
         "hoverinfo": "skip",
         "line": {
          "color": "lightgray",
          "width": 1
         },
         "mode": "lines",
         "showlegend": false,
         "type": "scatter",
         "x": [
          67.21355474058785,
          70.19668772577033
         ],
         "y": [
          76.16196153287176,
          79.57926694361011
         ]
        },
        {
         "hoverinfo": "skip",
         "line": {
          "color": "lightgray",
          "width": 1
         },
         "mode": "lines",
         "showlegend": false,
         "type": "scatter",
         "x": [
          30.42422429595377,
          22.793516254194166
         ],
         "y": [
          52.475643163223786,
          42.71077886262563
         ]
        },
        {
         "hoverinfo": "skip",
         "line": {
          "color": "lightgray",
          "width": 1
         },
         "mode": "lines",
         "showlegend": false,
         "type": "scatter",
         "x": [
          28.07723624408558,
          19.579113478929642
         ],
         "y": [
          2.431596643145384,
          6.9361300875165455
         ]
        },
        {
         "hoverinfo": "skip",
         "line": {
          "color": "lightgray",
          "width": 1
         },
         "mode": "lines",
         "showlegend": false,
         "type": "scatter",
         "x": [
          52.27328293819941,
          57.69038846263591
         ],
         "y": [
          42.75410183585496,
          49.25176938188639
         ]
        },
        {
         "hoverinfo": "skip",
         "line": {
          "color": "lightgray",
          "width": 1
         },
         "mode": "lines",
         "showlegend": false,
         "type": "scatter",
         "x": [
          43.194501864211574,
          35.94911512197552
         ],
         "y": [
          29.122914019804192,
          29.359184426449335
         ]
        },
        {
         "hoverinfo": "skip",
         "line": {
          "color": "lightgray",
          "width": 1
         },
         "mode": "lines",
         "showlegend": false,
         "type": "scatter",
         "x": [
          57.8280140996174,
          47.41738290873252
         ],
         "y": [
          3.5942273796742086,
          9.783416065100148
         ]
        },
        {
         "hoverinfo": "skip",
         "line": {
          "color": "lightgray",
          "width": 1
         },
         "mode": "lines",
         "showlegend": false,
         "type": "scatter",
         "x": [
          64.54722959071678,
          65.8693631618945
         ],
         "y": [
          17.711067940704893,
          16.29344270814297
         ]
        },
        {
         "hoverinfo": "skip",
         "line": {
          "color": "lightgray",
          "width": 1
         },
         "mode": "lines",
         "showlegend": false,
         "type": "scatter",
         "x": [
          77.12703466859458,
          84.48753109694546
         ],
         "y": [
          7.4044651734090365,
          2.3271935735825866
         ]
        },
        {
         "hoverinfo": "skip",
         "line": {
          "color": "lightgray",
          "width": 1
         },
         "mode": "lines",
         "showlegend": false,
         "type": "scatter",
         "x": [
          45.606998421703594,
          51.87906217433661
         ],
         "y": [
          78.51759613930136,
          70.30189588951778
         ]
        },
        {
         "hoverinfo": "skip",
         "line": {
          "color": "lightgray",
          "width": 1
         },
         "mode": "lines",
         "showlegend": false,
         "type": "scatter",
         "x": [
          72.60913337226616,
          62.8942846779884
         ],
         "y": [
          97.58520794625346,
          87.74720135270529
         ]
        },
        {
         "hoverinfo": "skip",
         "line": {
          "color": "lightgray",
          "width": 1
         },
         "mode": "lines",
         "showlegend": false,
         "type": "scatter",
         "x": [
          7.455064367977082,
          16.162871409461378
         ],
         "y": [
          98.68869366005173,
          89.85541885270793
         ]
        },
        {
         "hoverinfo": "skip",
         "line": {
          "color": "lightgray",
          "width": 1
         },
         "mode": "lines",
         "showlegend": false,
         "type": "scatter",
         "x": [
          5.8083612168199465,
          9.310276780589922
         ],
         "y": [
          86.61761457749351,
          89.72157579533267
         ]
        },
        {
         "hoverinfo": "skip",
         "line": {
          "color": "lightgray",
          "width": 1
         },
         "mode": "lines",
         "showlegend": false,
         "type": "scatter",
         "x": [
          37.454011884736246,
          34.08035402530179
         ],
         "y": [
          95.07143064099162,
          93.07573256035647
         ]
        },
        {
         "hoverinfo": "skip",
         "line": {
          "color": "lightgray",
          "width": 1
         },
         "mode": "lines",
         "showlegend": false,
         "type": "scatter",
         "x": [
          25.87799816000169,
          32.539969815926774
         ],
         "y": [
          66.2522284353982,
          74.64914051180241
         ]
        },
        {
         "hoverinfo": "skip",
         "line": {
          "color": "lightgray",
          "width": 1
         },
         "mode": "lines",
         "showlegend": false,
         "type": "scatter",
         "x": [
          4.077514155476392,
          2.6511310541621813
         ],
         "y": [
          59.08929431882418,
          58.57755812734633
         ]
        },
        {
         "hoverinfo": "skip",
         "line": {
          "color": "lightgray",
          "width": 1
         },
         "mode": "lines",
         "showlegend": false,
         "type": "scatter",
         "x": [
          25.87799816000169,
          19.52429877980445
         ],
         "y": [
          66.2522284353982,
          72.24521152615053
         ]
        },
        {
         "hoverinfo": "skip",
         "line": {
          "color": "lightgray",
          "width": 1
         },
         "mode": "lines",
         "showlegend": false,
         "type": "scatter",
         "x": [
          71.2179221347536,
          66.01973767177313
         ],
         "y": [
          23.724908749680008,
          27.993389694594285
         ]
        },
        {
         "hoverinfo": "skip",
         "line": {
          "color": "lightgray",
          "width": 1
         },
         "mode": "lines",
         "showlegend": false,
         "type": "scatter",
         "x": [
          60.75448519014384,
          64.51727904094498
         ],
         "y": [
          17.052412368729154,
          17.436642900499145
         ]
        },
        {
         "hoverinfo": "skip",
         "line": {
          "color": "lightgray",
          "width": 1
         },
         "mode": "lines",
         "showlegend": false,
         "type": "scatter",
         "x": [
          68.42330265121569,
          52.27328293819941
         ],
         "y": [
          44.01524937396013,
          42.75410183585496
         ]
        },
        {
         "hoverinfo": "skip",
         "line": {
          "color": "lightgray",
          "width": 1
         },
         "mode": "lines",
         "showlegend": false,
         "type": "scatter",
         "x": [
          49.72485058923854,
          51.2093058299281
         ],
         "y": [
          30.087830981676966,
          22.649577519793795
         ]
        },
        {
         "hoverinfo": "skip",
         "line": {
          "color": "lightgray",
          "width": 1
         },
         "mode": "lines",
         "showlegend": false,
         "type": "scatter",
         "x": [
          41.7411003148779,
          41.96000624277899
         ],
         "y": [
          22.210781047073024,
          24.773098950115745
         ]
        },
        {
         "hoverinfo": "skip",
         "line": {
          "color": "lightgray",
          "width": 1
         },
         "mode": "lines",
         "showlegend": false,
         "type": "scatter",
         "x": [
          9.02897700544083,
          9.310276780589922
         ],
         "y": [
          83.5302495589238,
          89.72157579533267
         ]
        },
        {
         "hoverinfo": "skip",
         "line": {
          "color": "lightgray",
          "width": 1
         },
         "mode": "lines",
         "showlegend": false,
         "type": "scatter",
         "x": [
          90.04180571633304,
          94.02302414249576
         ],
         "y": [
          63.31014572732679,
          57.5474177875879
         ]
        },
        {
         "hoverinfo": "skip",
         "line": {
          "color": "lightgray",
          "width": 1
         },
         "mode": "lines",
         "showlegend": false,
         "type": "scatter",
         "x": [
          16.162871409461378,
          32.539969815926774
         ],
         "y": [
          89.85541885270793,
          74.64914051180241
         ]
        },
        {
         "hoverinfo": "skip",
         "line": {
          "color": "lightgray",
          "width": 1
         },
         "mode": "lines",
         "showlegend": false,
         "type": "scatter",
         "x": [
          23.763754399239968,
          32.539969815926774
         ],
         "y": [
          72.82163486118596,
          74.64914051180241
         ]
        },
        {
         "hoverinfo": "skip",
         "line": {
          "color": "lightgray",
          "width": 1
         },
         "mode": "lines",
         "showlegend": false,
         "type": "scatter",
         "x": [
          96.56320330745594,
          96.36199770892529
         ],
         "y": [
          80.83973481164611,
          85.300945546736
         ]
        },
        {
         "hoverinfo": "skip",
         "line": {
          "color": "lightgray",
          "width": 1
         },
         "mode": "lines",
         "showlegend": false,
         "type": "scatter",
         "x": [
          81.80147659224932,
          92.46936182785628
         ],
         "y": [
          86.07305832563435,
          87.7339353380981
         ]
        },
        {
         "hoverinfo": "skip",
         "line": {
          "color": "lightgray",
          "width": 1
         },
         "mode": "lines",
         "showlegend": false,
         "type": "scatter",
         "x": [
          57.8280140996174,
          43.89714207056361
         ],
         "y": [
          3.5942273796742086,
          7.845638134226595
         ]
        },
        {
         "hoverinfo": "skip",
         "line": {
          "color": "lightgray",
          "width": 1
         },
         "mode": "lines",
         "showlegend": false,
         "type": "scatter",
         "x": [
          23.763754399239968,
          19.52429877980445
         ],
         "y": [
          72.82163486118596,
          72.24521152615053
         ]
        },
        {
         "hoverinfo": "skip",
         "line": {
          "color": "lightgray",
          "width": 1
         },
         "mode": "lines",
         "showlegend": false,
         "type": "scatter",
         "x": [
          29.214464853521815,
          22.793516254194166
         ],
         "y": [
          36.63618432936917,
          42.71077886262563
         ]
        },
        {
         "hoverinfo": "skip",
         "line": {
          "color": "lightgray",
          "width": 1
         },
         "mode": "lines",
         "showlegend": false,
         "type": "scatter",
         "x": [
          64.20316461542878,
          62.28904758190003
         ],
         "y": [
          8.413996499504883,
          8.5347464993768
         ]
        },
        {
         "hoverinfo": "skip",
         "line": {
          "color": "lightgray",
          "width": 1
         },
         "mode": "lines",
         "showlegend": false,
         "type": "scatter",
         "x": [
          77.0967179954561,
          82.26005606596583
         ],
         "y": [
          49.379559636439076,
          36.019064141126286
         ]
        },
        {
         "hoverinfo": "skip",
         "line": {
          "color": "lightgray",
          "width": 1
         },
         "mode": "lines",
         "showlegend": false,
         "type": "scatter",
         "x": [
          33.08980248526492,
          28.484049437746762
         ],
         "y": [
          6.355835028602364,
          3.6886947354532795
         ]
        },
        {
         "hoverinfo": "skip",
         "line": {
          "color": "lightgray",
          "width": 1
         },
         "mode": "lines",
         "showlegend": false,
         "type": "scatter",
         "x": [
          33.08980248526492,
          34.10663510502585
         ],
         "y": [
          6.355835028602364,
          11.347352124058908
         ]
        },
        {
         "hoverinfo": "skip",
         "line": {
          "color": "lightgray",
          "width": 1
         },
         "mode": "lines",
         "showlegend": false,
         "type": "scatter",
         "x": [
          64.20316461542878,
          65.8693631618945
         ],
         "y": [
          8.413996499504883,
          16.29344270814297
         ]
        },
        {
         "hoverinfo": "skip",
         "line": {
          "color": "lightgray",
          "width": 1
         },
         "mode": "lines",
         "showlegend": false,
         "type": "scatter",
         "x": [
          97.30105547524455,
          99.05051420006733
         ],
         "y": [
          39.30977246667604,
          41.26176769114265
         ]
        },
        {
         "hoverinfo": "skip",
         "line": {
          "color": "lightgray",
          "width": 1
         },
         "mode": "lines",
         "showlegend": false,
         "type": "scatter",
         "x": [
          7.455064367977082,
          36.3629602379294
         ],
         "y": [
          98.68869366005173,
          97.17820827209607
         ]
        },
        {
         "hoverinfo": "skip",
         "line": {
          "color": "lightgray",
          "width": 1
         },
         "mode": "lines",
         "showlegend": false,
         "type": "scatter",
         "x": [
          80.36720768991145,
          84.48753109694546
         ],
         "y": [
          18.657005888603585,
          2.3271935735825866
         ]
        },
        {
         "hoverinfo": "skip",
         "line": {
          "color": "lightgray",
          "width": 1
         },
         "mode": "lines",
         "showlegend": false,
         "type": "scatter",
         "x": [
          60.642905965958995,
          10.077800137742665
         ],
         "y": [
          0.9197051616629648,
          1.8221825651549728
         ]
        },
        {
         "hoverinfo": "skip",
         "line": {
          "color": "lightgray",
          "width": 1
         },
         "mode": "lines",
         "showlegend": false,
         "type": "scatter",
         "x": [
          59.78999788110851,
          62.8942846779884
         ],
         "y": [
          92.18742350231169,
          87.74720135270529
         ]
        },
        {
         "hoverinfo": "skip",
         "line": {
          "color": "lightgray",
          "width": 1
         },
         "mode": "lines",
         "showlegend": false,
         "type": "scatter",
         "x": [
          61.18528947223795,
          57.0061170089365
         ],
         "y": [
          13.949386065204184,
          9.717649377076853
         ]
        },
        {
         "hoverinfo": "skip",
         "line": {
          "color": "lightgray",
          "width": 1
         },
         "mode": "lines",
         "showlegend": false,
         "type": "scatter",
         "x": [
          51.13423988609378,
          49.16158751168324
         ],
         "y": [
          50.15162946871996,
          47.34717707805657
         ]
        },
        {
         "hoverinfo": "skip",
         "line": {
          "color": "lightgray",
          "width": 1
         },
         "mode": "lines",
         "showlegend": false,
         "type": "scatter",
         "x": [
          89.20465551771133,
          85.54605840110072
         ],
         "y": [
          63.11386259972629,
          70.36578593800236
         ]
        },
        {
         "hoverinfo": "skip",
         "line": {
          "color": "lightgray",
          "width": 1
         },
         "mode": "lines",
         "showlegend": false,
         "type": "scatter",
         "x": [
          10.147154286603211,
          7.056874740042984
         ],
         "y": [
          66.35017691080559,
          64.24192782063156
         ]
        },
        {
         "hoverinfo": "skip",
         "line": {
          "color": "lightgray",
          "width": 1
         },
         "mode": "lines",
         "showlegend": false,
         "type": "scatter",
         "x": [
          10.147154286603211,
          9.44429607559284
         ],
         "y": [
          66.35017691080559,
          68.30067734163569
         ]
        },
        {
         "hoverinfo": "skip",
         "line": {
          "color": "lightgray",
          "width": 1
         },
         "mode": "lines",
         "showlegend": false,
         "type": "scatter",
         "x": [
          19.967378215835975,
          14.008401523652402
         ],
         "y": [
          51.42344384136116,
          51.832965236373674
         ]
        },
        {
         "hoverinfo": "skip",
         "line": {
          "color": "lightgray",
          "width": 1
         },
         "mode": "lines",
         "showlegend": false,
         "type": "scatter",
         "x": [
          28.093450968738075,
          28.65412521282844
         ],
         "y": [
          54.26960831582485,
          59.08332605690107
         ]
        },
        {
         "hoverinfo": "skip",
         "line": {
          "color": "lightgray",
          "width": 1
         },
         "mode": "lines",
         "showlegend": false,
         "type": "scatter",
         "x": [
          45.606998421703594,
          50.31362585800877
         ],
         "y": [
          78.51759613930136,
          85.64898411883223
         ]
        },
        {
         "hoverinfo": "skip",
         "line": {
          "color": "lightgray",
          "width": 1
         },
         "mode": "lines",
         "showlegend": false,
         "type": "scatter",
         "x": [
          73.1993941811405,
          79.82951789667752
         ],
         "y": [
          59.86584841970366,
          64.99639307777652
         ]
        },
        {
         "hoverinfo": "skip",
         "line": {
          "color": "lightgray",
          "width": 1
         },
         "mode": "lines",
         "showlegend": false,
         "type": "scatter",
         "x": [
          93.9498941564189,
          92.46936182785628
         ],
         "y": [
          89.48273504276489,
          87.7339353380981
         ]
        },
        {
         "hoverinfo": "skip",
         "line": {
          "color": "lightgray",
          "width": 1
         },
         "mode": "lines",
         "showlegend": false,
         "type": "scatter",
         "x": [
          69.09377381024659,
          66.01973767177313
         ],
         "y": [
          38.67353463005374,
          27.993389694594285
         ]
        },
        {
         "hoverinfo": "skip",
         "line": {
          "color": "lightgray",
          "width": 1
         },
         "mode": "lines",
         "showlegend": false,
         "type": "scatter",
         "x": [
          52.27328293819941,
          69.09377381024659
         ],
         "y": [
          42.75410183585496,
          38.67353463005374
         ]
        },
        {
         "hoverinfo": "skip",
         "line": {
          "color": "lightgray",
          "width": 1
         },
         "mode": "lines",
         "showlegend": false,
         "type": "scatter",
         "x": [
          11.959424593830171,
          11.816482762165625
         ],
         "y": [
          71.3244787222995,
          69.67371653641507
         ]
        },
        {
         "hoverinfo": "skip",
         "line": {
          "color": "lightgray",
          "width": 1
         },
         "mode": "lines",
         "showlegend": false,
         "type": "scatter",
         "x": [
          52.27328293819941,
          33.90297910487007
         ],
         "y": [
          42.75410183585496,
          34.92095746126609
         ]
        },
        {
         "hoverinfo": "skip",
         "line": {
          "color": "lightgray",
          "width": 1
         },
         "mode": "lines",
         "showlegend": false,
         "type": "scatter",
         "x": [
          86.31034258755935,
          81.72222002012158
         ],
         "y": [
          62.329812682755794,
          55.52008115994623
         ]
        },
        {
         "hoverinfo": "skip",
         "line": {
          "color": "lightgray",
          "width": 1
         },
         "mode": "lines",
         "showlegend": false,
         "type": "scatter",
         "x": [
          94.14648087765252,
          99.05051420006733
         ],
         "y": [
          38.610263780077425,
          41.26176769114265
         ]
        },
        {
         "hoverinfo": "skip",
         "line": {
          "color": "lightgray",
          "width": 1
         },
         "mode": "lines",
         "showlegend": false,
         "type": "scatter",
         "x": [
          29.214464853521815,
          11.98653673336828
         ],
         "y": [
          36.63618432936917,
          33.7615171403628
         ]
        },
        {
         "hoverinfo": "skip",
         "line": {
          "color": "lightgray",
          "width": 1
         },
         "mode": "lines",
         "showlegend": false,
         "type": "scatter",
         "x": [
          90.7566473926093,
          94.29097039125192
         ],
         "y": [
          24.929222914887493,
          32.320293202075526
         ]
        },
        {
         "hoverinfo": "skip",
         "line": {
          "color": "lightgray",
          "width": 1
         },
         "mode": "lines",
         "showlegend": false,
         "type": "scatter",
         "x": [
          4.522728891053807,
          9.367476782809248
         ],
         "y": [
          32.53303307632643,
          36.77158030594335
         ]
        },
        {
         "hoverinfo": "skip",
         "line": {
          "color": "lightgray",
          "width": 1
         },
         "mode": "lines",
         "showlegend": false,
         "type": "scatter",
         "x": [
          63.34037565104234,
          62.8942846779884
         ],
         "y": [
          87.14605901877177,
          87.74720135270529
         ]
        },
        {
         "hoverinfo": "skip",
         "line": {
          "color": "lightgray",
          "width": 1
         },
         "mode": "lines",
         "showlegend": false,
         "type": "scatter",
         "x": [
          72.59556788702393,
          73.50710438038858
         ],
         "y": [
          89.71102599525771,
          80.34809303848486
         ]
        },
        {
         "hoverinfo": "skip",
         "line": {
          "color": "lightgray",
          "width": 1
         },
         "mode": "lines",
         "showlegend": false,
         "type": "scatter",
         "x": [
          80.74401551640625,
          72.59556788702393
         ],
         "y": [
          89.60912999234932,
          89.71102599525771
         ]
        },
        {
         "hoverinfo": "skip",
         "line": {
          "color": "lightgray",
          "width": 1
         },
         "mode": "lines",
         "showlegend": false,
         "type": "scatter",
         "x": [
          16.162871409461378,
          34.08035402530179
         ],
         "y": [
          89.85541885270793,
          93.07573256035647
         ]
        },
        {
         "hoverinfo": "skip",
         "line": {
          "color": "lightgray",
          "width": 1
         },
         "mode": "lines",
         "showlegend": false,
         "type": "scatter",
         "x": [
          36.77831327192532,
          37.46126146264712
         ],
         "y": [
          63.23058305935795,
          62.58599157142364
         ]
        },
        {
         "hoverinfo": "skip",
         "line": {
          "color": "lightgray",
          "width": 1
         },
         "mode": "lines",
         "showlegend": false,
         "type": "scatter",
         "x": [
          41.038292303562976,
          51.87906217433661
         ],
         "y": [
          75.55511385430486,
          70.30189588951778
         ]
        },
        {
         "hoverinfo": "skip",
         "line": {
          "color": "lightgray",
          "width": 1
         },
         "mode": "lines",
         "showlegend": false,
         "type": "scatter",
         "x": [
          67.75643618422824,
          64.20316461542878
         ],
         "y": [
          1.6587828927856152,
          8.413996499504883
         ]
        },
        {
         "hoverinfo": "skip",
         "line": {
          "color": "lightgray",
          "width": 1
         },
         "mode": "lines",
         "showlegend": false,
         "type": "scatter",
         "x": [
          38.8677289689482,
          41.96000624277899
         ],
         "y": [
          27.134903177389592,
          24.773098950115745
         ]
        },
        {
         "hoverinfo": "skip",
         "line": {
          "color": "lightgray",
          "width": 1
         },
         "mode": "lines",
         "showlegend": false,
         "type": "scatter",
         "x": [
          11.959424593830171,
          9.02897700544083
         ],
         "y": [
          71.3244787222995,
          83.5302495589238
         ]
        },
        {
         "hoverinfo": "skip",
         "line": {
          "color": "lightgray",
          "width": 1
         },
         "mode": "lines",
         "showlegend": false,
         "type": "scatter",
         "x": [
          25.87799816000169,
          36.77831327192532
         ],
         "y": [
          66.2522284353982,
          63.23058305935795
         ]
        },
        {
         "hoverinfo": "skip",
         "line": {
          "color": "lightgray",
          "width": 1
         },
         "mode": "lines",
         "showlegend": false,
         "type": "scatter",
         "x": [
          76.07850486168974,
          77.0967179954561
         ],
         "y": [
          56.127719756949624,
          49.379559636439076
         ]
        },
        {
         "hoverinfo": "skip",
         "line": {
          "color": "lightgray",
          "width": 1
         },
         "mode": "lines",
         "showlegend": false,
         "type": "scatter",
         "x": [
          12.203823484477883,
          12.706051265188478
         ],
         "y": [
          49.51769101112702,
          52.224326005480435
         ]
        },
        {
         "hoverinfo": "skip",
         "line": {
          "color": "lightgray",
          "width": 1
         },
         "mode": "lines",
         "showlegend": false,
         "type": "scatter",
         "x": [
          70.68573438476172,
          67.21355474058785
         ],
         "y": [
          72.90071680409874,
          76.16196153287176
         ]
        },
        {
         "hoverinfo": "skip",
         "line": {
          "color": "lightgray",
          "width": 1
         },
         "mode": "lines",
         "showlegend": false,
         "type": "scatter",
         "x": [
          31.435598107632668,
          29.444889206958567
         ],
         "y": [
          50.85706911647028,
          38.50977286019253
         ]
        },
        {
         "hoverinfo": "skip",
         "line": {
          "color": "lightgray",
          "width": 1
         },
         "mode": "lines",
         "showlegend": false,
         "type": "scatter",
         "x": [
          37.454011884736246,
          37.201808579278314
         ],
         "y": [
          95.07143064099162,
          77.64129607419969
         ]
        },
        {
         "hoverinfo": "skip",
         "line": {
          "color": "lightgray",
          "width": 1
         },
         "mode": "lines",
         "showlegend": false,
         "type": "scatter",
         "x": [
          89.25589984899777,
          81.72222002012158
         ],
         "y": [
          53.93422419156507,
          55.52008115994623
         ]
        },
        {
         "hoverinfo": "skip",
         "line": {
          "color": "lightgray",
          "width": 1
         },
         "mode": "lines",
         "showlegend": false,
         "type": "scatter",
         "x": [
          18.182496720710063,
          28.9751452913768
         ],
         "y": [
          18.34045098534338,
          16.122128725400444
         ]
        },
        {
         "hoverinfo": "skip",
         "line": {
          "color": "lightgray",
          "width": 1
         },
         "mode": "lines",
         "showlegend": false,
         "type": "scatter",
         "x": [
          6.505159298527952,
          1.5456616528867428
         ],
         "y": [
          94.88855372533332,
          92.83185625877253
         ]
        },
        {
         "hoverinfo": "skip",
         "line": {
          "color": "lightgray",
          "width": 1
         },
         "mode": "lines",
         "showlegend": false,
         "type": "scatter",
         "x": [
          4.077514155476392,
          7.056874740042984
         ],
         "y": [
          59.08929431882418,
          64.24192782063156
         ]
        },
        {
         "hoverinfo": "skip",
         "line": {
          "color": "lightgray",
          "width": 1
         },
         "mode": "lines",
         "showlegend": false,
         "type": "scatter",
         "x": [
          10.147154286603211,
          11.816482762165625
         ],
         "y": [
          66.35017691080559,
          69.67371653641507
         ]
        },
        {
         "hoverinfo": "skip",
         "line": {
          "color": "lightgray",
          "width": 1
         },
         "mode": "lines",
         "showlegend": false,
         "type": "scatter",
         "x": [
          30.46137691733707,
          28.9751452913768
         ],
         "y": [
          9.767211400638388,
          16.122128725400444
         ]
        },
        {
         "hoverinfo": "skip",
         "line": {
          "color": "lightgray",
          "width": 1
         },
         "mode": "lines",
         "showlegend": false,
         "type": "scatter",
         "x": [
          79.82951789667752,
          83.59801205122058
         ],
         "y": [
          64.99639307777652,
          69.59742060936979
         ]
        },
        {
         "hoverinfo": "skip",
         "line": {
          "color": "lightgray",
          "width": 1
         },
         "mode": "lines",
         "showlegend": false,
         "type": "scatter",
         "x": [
          41.038292303562976,
          38.816992620652194
         ],
         "y": [
          75.55511385430486,
          64.32882184423532
         ]
        },
        {
         "hoverinfo": "skip",
         "line": {
          "color": "lightgray",
          "width": 1
         },
         "mode": "lines",
         "showlegend": false,
         "type": "scatter",
         "x": [
          70.19668772577033,
          73.50710438038858
         ],
         "y": [
          79.57926694361011,
          80.34809303848486
         ]
        },
        {
         "hoverinfo": "skip",
         "line": {
          "color": "lightgray",
          "width": 1
         },
         "mode": "lines",
         "showlegend": false,
         "type": "scatter",
         "x": [
          68.42330265121569,
          77.0967179954561
         ],
         "y": [
          44.01524937396013,
          49.379559636439076
         ]
        },
        {
         "hoverinfo": "skip",
         "line": {
          "color": "lightgray",
          "width": 1
         },
         "mode": "lines",
         "showlegend": false,
         "type": "scatter",
         "x": [
          25.79416277151556,
          19.52429877980445
         ],
         "y": [
          65.99840460341791,
          72.24521152615053
         ]
        },
        {
         "hoverinfo": "skip",
         "line": {
          "color": "lightgray",
          "width": 1
         },
         "mode": "lines",
         "showlegend": false,
         "type": "scatter",
         "x": [
          49.72485058923854,
          52.965057835600646
         ],
         "y": [
          30.087830981676966,
          24.18522909004517
         ]
        },
        {
         "hoverinfo": "skip",
         "line": {
          "color": "lightgray",
          "width": 1
         },
         "mode": "lines",
         "showlegend": false,
         "type": "scatter",
         "x": [
          81.80147659224932,
          88.70864242651173
         ],
         "y": [
          86.07305832563435,
          77.98755458576238
         ]
        },
        {
         "hoverinfo": "skip",
         "line": {
          "color": "lightgray",
          "width": 1
         },
         "mode": "lines",
         "showlegend": false,
         "type": "scatter",
         "x": [
          70.68573438476172,
          75.08710677914974
         ],
         "y": [
          72.90071680409874,
          75.45428740846823
         ]
        },
        {
         "hoverinfo": "skip",
         "line": {
          "color": "lightgray",
          "width": 1
         },
         "mode": "lines",
         "showlegend": false,
         "type": "scatter",
         "x": [
          25.79416277151556,
          28.65412521282844
         ],
         "y": [
          65.99840460341791,
          59.08332605690107
         ]
        },
        {
         "hoverinfo": "skip",
         "line": {
          "color": "lightgray",
          "width": 1
         },
         "mode": "lines",
         "showlegend": false,
         "type": "scatter",
         "x": [
          37.5582952639944,
          40.89529444142699
         ],
         "y": [
          9.3981939840869,
          17.329432007084577
         ]
        },
        {
         "hoverinfo": "skip",
         "line": {
          "color": "lightgray",
          "width": 1
         },
         "mode": "lines",
         "showlegend": false,
         "type": "scatter",
         "x": [
          63.35297107608947,
          57.69038846263591
         ],
         "y": [
          53.57746840747585,
          49.25176938188639
         ]
        },
        {
         "hoverinfo": "skip",
         "line": {
          "color": "lightgray",
          "width": 1
         },
         "mode": "lines",
         "showlegend": false,
         "type": "scatter",
         "x": [
          31.09823217156622,
          35.94911512197552
         ],
         "y": [
          32.518332202674706,
          29.359184426449335
         ]
        },
        {
         "hoverinfo": "skip",
         "line": {
          "color": "lightgray",
          "width": 1
         },
         "mode": "lines",
         "showlegend": false,
         "type": "scatter",
         "x": [
          91.48643902204485,
          85.84127518430118
         ],
         "y": [
          37.01587002554444,
          42.89940273750184
         ]
        },
        {
         "hoverinfo": "skip",
         "line": {
          "color": "lightgray",
          "width": 1
         },
         "mode": "lines",
         "showlegend": false,
         "type": "scatter",
         "x": [
          5.147875124998935,
          0.5061583846218687
         ],
         "y": [
          27.864646423661142,
          16.080805141749867
         ]
        },
        {
         "hoverinfo": "skip",
         "line": {
          "color": "lightgray",
          "width": 1
         },
         "mode": "lines",
         "showlegend": false,
         "type": "scatter",
         "x": [
          30.46137691733707,
          33.08980248526492
         ],
         "y": [
          9.767211400638388,
          6.355835028602364
         ]
        },
        {
         "hoverinfo": "skip",
         "line": {
          "color": "lightgray",
          "width": 1
         },
         "mode": "lines",
         "showlegend": false,
         "type": "scatter",
         "x": [
          80.93611554785136,
          75.08710677914974
         ],
         "y": [
          81.01133946791808,
          75.45428740846823
         ]
        },
        {
         "hoverinfo": "skip",
         "line": {
          "color": "lightgray",
          "width": 1
         },
         "mode": "lines",
         "showlegend": false,
         "type": "scatter",
         "x": [
          90.04180571633304,
          93.6154774160781
         ],
         "y": [
          63.31014572732679,
          69.6029796674973
         ]
        },
        {
         "hoverinfo": "skip",
         "line": {
          "color": "lightgray",
          "width": 1
         },
         "mode": "lines",
         "showlegend": false,
         "type": "scatter",
         "x": [
          28.9751452913768,
          34.10663510502585
         ],
         "y": [
          16.122128725400444,
          11.347352124058908
         ]
        },
        {
         "hoverinfo": "skip",
         "line": {
          "color": "lightgray",
          "width": 1
         },
         "mode": "lines",
         "showlegend": false,
         "type": "scatter",
         "x": [
          92.96976523425731,
          95.48652806631941
         ],
         "y": [
          80.8120379564417,
          73.78969166957685
         ]
        },
        {
         "hoverinfo": "skip",
         "line": {
          "color": "lightgray",
          "width": 1
         },
         "mode": "lines",
         "showlegend": false,
         "type": "scatter",
         "x": [
          0.5522117123602399,
          0.5061583846218687
         ],
         "y": [
          81.54614284548342,
          16.080805141749867
         ]
        },
        {
         "hoverinfo": "skip",
         "line": {
          "color": "lightgray",
          "width": 1
         },
         "mode": "lines",
         "showlegend": false,
         "type": "scatter",
         "x": [
          28.07723624408558,
          43.89714207056361
         ],
         "y": [
          2.431596643145384,
          7.845638134226595
         ]
        },
        {
         "hoverinfo": "skip",
         "line": {
          "color": "lightgray",
          "width": 1
         },
         "mode": "lines",
         "showlegend": false,
         "type": "scatter",
         "x": [
          77.22447692966574,
          76.99935530986109
         ],
         "y": [
          19.87156815341724,
          21.582102749684317
         ]
        },
        {
         "hoverinfo": "skip",
         "line": {
          "color": "lightgray",
          "width": 1
         },
         "mode": "lines",
         "showlegend": false,
         "type": "scatter",
         "x": [
          89.25589984899777,
          79.48113035416485
         ],
         "y": [
          53.93422419156507,
          50.26370931051921
         ]
        },
        {
         "hoverinfo": "skip",
         "line": {
          "color": "lightgray",
          "width": 1
         },
         "mode": "lines",
         "showlegend": false,
         "type": "scatter",
         "x": [
          94.04585843529144,
          96.11905638239142
         ],
         "y": [
          95.39285770025873,
          90.53506419560637
         ]
        },
        {
         "hoverinfo": "skip",
         "line": {
          "color": "lightgray",
          "width": 1
         },
         "mode": "lines",
         "showlegend": false,
         "type": "scatter",
         "x": [
          4.522728891053807,
          5.147875124998935
         ],
         "y": [
          32.53303307632643,
          27.864646423661142
         ]
        },
        {
         "hoverinfo": "skip",
         "line": {
          "color": "lightgray",
          "width": 1
         },
         "mode": "lines",
         "showlegend": false,
         "type": "scatter",
         "x": [
          0.5522117123602399,
          1.5456616528867428
         ],
         "y": [
          81.54614284548342,
          92.83185625877253
         ]
        },
        {
         "hoverinfo": "skip",
         "line": {
          "color": "lightgray",
          "width": 1
         },
         "mode": "lines",
         "showlegend": false,
         "type": "scatter",
         "x": [
          41.7411003148779,
          40.89529444142699
         ],
         "y": [
          22.210781047073024,
          17.329432007084577
         ]
        },
        {
         "hoverinfo": "skip",
         "line": {
          "color": "lightgray",
          "width": 1
         },
         "mode": "lines",
         "showlegend": false,
         "type": "scatter",
         "x": [
          51.87906217433661,
          39.85047343973734
         ],
         "y": [
          70.30189588951778,
          61.585009805221645
         ]
        },
        {
         "hoverinfo": "skip",
         "line": {
          "color": "lightgray",
          "width": 1
         },
         "mode": "lines",
         "showlegend": false,
         "type": "scatter",
         "x": [
          90.7566473926093,
          90.82658859666537
         ],
         "y": [
          24.929222914887493,
          23.95618906669724
         ]
        },
        {
         "hoverinfo": "skip",
         "line": {
          "color": "lightgray",
          "width": 1
         },
         "mode": "lines",
         "showlegend": false,
         "type": "scatter",
         "x": [
          72.59556788702393,
          62.8942846779884
         ],
         "y": [
          89.71102599525771,
          87.74720135270529
         ]
        },
        {
         "hoverinfo": "skip",
         "line": {
          "color": "lightgray",
          "width": 1
         },
         "mode": "lines",
         "showlegend": false,
         "type": "scatter",
         "x": [
          60.956433397989684,
          57.69038846263591
         ],
         "y": [
          50.26790232288615,
          49.25176938188639
         ]
        },
        {
         "hoverinfo": "skip",
         "line": {
          "color": "lightgray",
          "width": 1
         },
         "mode": "lines",
         "showlegend": false,
         "type": "scatter",
         "x": [
          22.793516254194166,
          29.444889206958567
         ],
         "y": [
          42.71077886262563,
          38.50977286019253
         ]
        },
        {
         "hoverinfo": "skip",
         "line": {
          "color": "lightgray",
          "width": 1
         },
         "mode": "lines",
         "showlegend": false,
         "type": "scatter",
         "x": [
          61.18528947223795,
          64.51727904094498
         ],
         "y": [
          13.949386065204184,
          17.436642900499145
         ]
        },
        {
         "hoverinfo": "skip",
         "line": {
          "color": "lightgray",
          "width": 1
         },
         "mode": "lines",
         "showlegend": false,
         "type": "scatter",
         "x": [
          31.435598107632668,
          33.90297910487007
         ],
         "y": [
          50.85706911647028,
          34.92095746126609
         ]
        },
        {
         "hoverinfo": "skip",
         "line": {
          "color": "lightgray",
          "width": 1
         },
         "mode": "lines",
         "showlegend": false,
         "type": "scatter",
         "x": [
          29.214464853521815,
          15.643704267108605
         ],
         "y": [
          36.63618432936917,
          25.024289816459532
         ]
        },
        {
         "hoverinfo": "skip",
         "line": {
          "color": "lightgray",
          "width": 1
         },
         "mode": "lines",
         "showlegend": false,
         "type": "scatter",
         "x": [
          35.84657285442726,
          37.5582952639944
         ],
         "y": [
          11.586905952512971,
          9.3981939840869
         ]
        },
        {
         "hoverinfo": "skip",
         "line": {
          "color": "lightgray",
          "width": 1
         },
         "mode": "lines",
         "showlegend": false,
         "type": "scatter",
         "x": [
          60.642905965958995,
          84.48753109694546
         ],
         "y": [
          0.9197051616629648,
          2.3271935735825866
         ]
        },
        {
         "hoverinfo": "skip",
         "line": {
          "color": "lightgray",
          "width": 1
         },
         "mode": "lines",
         "showlegend": false,
         "type": "scatter",
         "x": [
          82.87375091519293,
          82.26005606596583
         ],
         "y": [
          35.67533266935893,
          36.019064141126286
         ]
        },
        {
         "hoverinfo": "skip",
         "line": {
          "color": "lightgray",
          "width": 1
         },
         "mode": "lines",
         "showlegend": false,
         "type": "scatter",
         "x": [
          90.04180571633304,
          89.20465551771133
         ],
         "y": [
          63.31014572732679,
          63.11386259972629
         ]
        },
        {
         "hoverinfo": "skip",
         "line": {
          "color": "lightgray",
          "width": 1
         },
         "mode": "lines",
         "showlegend": false,
         "type": "scatter",
         "x": [
          77.22447692966574,
          71.2179221347536
         ],
         "y": [
          19.87156815341724,
          23.724908749680008
         ]
        },
        {
         "hoverinfo": "skip",
         "line": {
          "color": "lightgray",
          "width": 1
         },
         "mode": "lines",
         "showlegend": false,
         "type": "scatter",
         "x": [
          32.07800649717358,
          28.203457257130648
         ],
         "y": [
          18.651851039985424,
          17.743954377972283
         ]
        },
        {
         "hoverinfo": "skip",
         "line": {
          "color": "lightgray",
          "width": 1
         },
         "mode": "lines",
         "showlegend": false,
         "type": "scatter",
         "x": [
          80.93611554785136,
          75.06147516408583
         ],
         "y": [
          81.01133946791808,
          80.6834739267264
         ]
        },
        {
         "hoverinfo": "skip",
         "line": {
          "color": "lightgray",
          "width": 1
         },
         "mode": "lines",
         "showlegend": false,
         "type": "scatter",
         "x": [
          77.0967179954561,
          63.35297107608947
         ],
         "y": [
          49.379559636439076,
          53.57746840747585
         ]
        },
        {
         "hoverinfo": "skip",
         "line": {
          "color": "lightgray",
          "width": 1
         },
         "mode": "lines",
         "showlegend": false,
         "type": "scatter",
         "x": [
          96.95846277645586,
          94.02302414249576
         ],
         "y": [
          77.51328233611146,
          57.5474177875879
         ]
        },
        {
         "hoverinfo": "skip",
         "line": {
          "color": "lightgray",
          "width": 1
         },
         "mode": "lines",
         "showlegend": false,
         "type": "scatter",
         "x": [
          18.182496720710063,
          22.879816549162246
         ],
         "y": [
          18.34045098534338,
          7.697990982879299
         ]
        },
        {
         "hoverinfo": "skip",
         "line": {
          "color": "lightgray",
          "width": 1
         },
         "mode": "lines",
         "showlegend": false,
         "type": "scatter",
         "x": [
          30.46137691733707,
          22.879816549162246
         ],
         "y": [
          9.767211400638388,
          7.697990982879299
         ]
        },
        {
         "hoverinfo": "skip",
         "line": {
          "color": "lightgray",
          "width": 1
         },
         "mode": "lines",
         "showlegend": false,
         "type": "scatter",
         "x": [
          12.706051265188478,
          7.056874740042984
         ],
         "y": [
          52.224326005480435,
          64.24192782063156
         ]
        },
        {
         "hoverinfo": "skip",
         "line": {
          "color": "lightgray",
          "width": 1
         },
         "mode": "lines",
         "showlegend": false,
         "type": "scatter",
         "x": [
          65.19612595026005,
          65.8693631618945
         ],
         "y": [
          22.42693094605598,
          16.29344270814297
         ]
        },
        {
         "hoverinfo": "skip",
         "line": {
          "color": "lightgray",
          "width": 1
         },
         "mode": "lines",
         "showlegend": false,
         "type": "scatter",
         "x": [
          69.09377381024659,
          82.26005606596583
         ],
         "y": [
          38.67353463005374,
          36.019064141126286
         ]
        },
        {
         "hoverinfo": "skip",
         "line": {
          "color": "lightgray",
          "width": 1
         },
         "mode": "lines",
         "showlegend": false,
         "type": "scatter",
         "x": [
          8.84925020519195,
          0.5061583846218687
         ],
         "y": [
          19.59828624191452,
          16.080805141749867
         ]
        },
        {
         "hoverinfo": "skip",
         "line": {
          "color": "lightgray",
          "width": 1
         },
         "mode": "lines",
         "showlegend": false,
         "type": "scatter",
         "x": [
          73.50710438038858,
          75.06147516408583
         ],
         "y": [
          80.34809303848486,
          80.6834739267264
         ]
        },
        {
         "hoverinfo": "skip",
         "line": {
          "color": "lightgray",
          "width": 1
         },
         "mode": "lines",
         "showlegend": false,
         "type": "scatter",
         "x": [
          29.214464853521815,
          31.09823217156622
         ],
         "y": [
          36.63618432936917,
          32.518332202674706
         ]
        },
        {
         "hoverinfo": "skip",
         "line": {
          "color": "lightgray",
          "width": 1
         },
         "mode": "lines",
         "showlegend": false,
         "type": "scatter",
         "x": [
          2.541912674409519,
          3.050024993904943
         ],
         "y": [
          10.789142699330444,
          3.7348188749214417
         ]
        },
        {
         "hoverinfo": "skip",
         "line": {
          "color": "lightgray",
          "width": 1
         },
         "mode": "lines",
         "showlegend": false,
         "type": "scatter",
         "x": [
          36.3629602379294,
          42.81841483173143
         ],
         "y": [
          97.17820827209607,
          96.66548190436696
         ]
        },
        {
         "hoverinfo": "skip",
         "line": {
          "color": "lightgray",
          "width": 1
         },
         "mode": "lines",
         "showlegend": false,
         "type": "scatter",
         "x": [
          33.08980248526492,
          31.800347497186387
         ],
         "y": [
          6.355835028602364,
          11.005192452767677
         ]
        },
        {
         "hoverinfo": "skip",
         "line": {
          "color": "lightgray",
          "width": 1
         },
         "mode": "lines",
         "showlegend": false,
         "type": "scatter",
         "x": [
          90.7566473926093,
          96.24472949421113
         ],
         "y": [
          24.929222914887493,
          25.178229582536417
         ]
        },
        {
         "hoverinfo": "skip",
         "line": {
          "color": "lightgray",
          "width": 1
         },
         "mode": "lines",
         "showlegend": false,
         "type": "scatter",
         "x": [
          52.965057835600646,
          66.01973767177313
         ],
         "y": [
          24.18522909004517,
          27.993389694594285
         ]
        },
        {
         "hoverinfo": "skip",
         "line": {
          "color": "lightgray",
          "width": 1
         },
         "mode": "lines",
         "showlegend": false,
         "type": "scatter",
         "x": [
          7.056874740042984,
          9.44429607559284
         ],
         "y": [
          64.24192782063156,
          68.30067734163569
         ]
        },
        {
         "hoverinfo": "skip",
         "line": {
          "color": "lightgray",
          "width": 1
         },
         "mode": "lines",
         "showlegend": false,
         "type": "scatter",
         "x": [
          60.11150117432088,
          69.7015740995268
         ],
         "y": [
          70.80725777960456,
          70.24840839871092
         ]
        },
        {
         "hoverinfo": "skip",
         "line": {
          "color": "lightgray",
          "width": 1
         },
         "mode": "lines",
         "showlegend": false,
         "type": "scatter",
         "x": [
          61.18528947223795,
          65.8693631618945
         ],
         "y": [
          13.949386065204184,
          16.29344270814297
         ]
        },
        {
         "hoverinfo": "skip",
         "line": {
          "color": "lightgray",
          "width": 1
         },
         "mode": "lines",
         "showlegend": false,
         "type": "scatter",
         "x": [
          85.11366715168569,
          89.00053418175663
         ],
         "y": [
          31.692200515627768,
          33.79951568515358
         ]
        },
        {
         "hoverinfo": "skip",
         "line": {
          "color": "lightgray",
          "width": 1
         },
         "mode": "lines",
         "showlegend": false,
         "type": "scatter",
         "x": [
          60.11150117432088,
          54.06351216101065
         ],
         "y": [
          70.80725777960456,
          63.742990149820656
         ]
        },
        {
         "hoverinfo": "skip",
         "line": {
          "color": "lightgray",
          "width": 1
         },
         "mode": "lines",
         "showlegend": false,
         "type": "scatter",
         "x": [
          96.95846277645586,
          96.11905638239142
         ],
         "y": [
          77.51328233611146,
          90.53506419560637
         ]
        },
        {
         "hoverinfo": "skip",
         "line": {
          "color": "lightgray",
          "width": 1
         },
         "mode": "lines",
         "showlegend": false,
         "type": "scatter",
         "x": [
          93.6154774160781,
          85.54605840110072
         ],
         "y": [
          69.6029796674973,
          70.36578593800236
         ]
        },
        {
         "hoverinfo": "skip",
         "line": {
          "color": "lightgray",
          "width": 1
         },
         "mode": "lines",
         "showlegend": false,
         "type": "scatter",
         "x": [
          88.70864242651173,
          87.73730719279554
         ],
         "y": [
          77.98755458576238,
          74.07686177542044
         ]
        },
        {
         "hoverinfo": "skip",
         "line": {
          "color": "lightgray",
          "width": 1
         },
         "mode": "lines",
         "showlegend": false,
         "type": "scatter",
         "x": [
          41.038292303562976,
          35.597267865126156
         ],
         "y": [
          75.55511385430486,
          75.78461104643691
         ]
        },
        {
         "hoverinfo": "skip",
         "line": {
          "color": "lightgray",
          "width": 1
         },
         "mode": "lines",
         "showlegend": false,
         "type": "scatter",
         "x": [
          30.42422429595377,
          31.171107608941096
         ],
         "y": [
          52.475643163223786,
          52.00680211778108
         ]
        },
        {
         "hoverinfo": "skip",
         "line": {
          "color": "lightgray",
          "width": 1
         },
         "mode": "lines",
         "showlegend": false,
         "type": "scatter",
         "x": [
          57.0061170089365,
          57.8280140996174
         ],
         "y": [
          9.717649377076853,
          3.5942273796742086
         ]
        },
        {
         "hoverinfo": "skip",
         "line": {
          "color": "lightgray",
          "width": 1
         },
         "mode": "lines",
         "showlegend": false,
         "type": "scatter",
         "x": [
          43.194501864211574,
          51.2093058299281
         ],
         "y": [
          29.122914019804192,
          22.649577519793795
         ]
        },
        {
         "hoverinfo": "skip",
         "line": {
          "color": "lightgray",
          "width": 1
         },
         "mode": "lines",
         "showlegend": false,
         "type": "scatter",
         "x": [
          4.522728891053807,
          0.6952130531190703
         ],
         "y": [
          32.53303307632643,
          51.07473025775657
         ]
        },
        {
         "hoverinfo": "skip",
         "line": {
          "color": "lightgray",
          "width": 1
         },
         "mode": "lines",
         "showlegend": false,
         "type": "scatter",
         "x": [
          98.56504541106007,
          97.30105547524455
         ],
         "y": [
          24.20552715115004,
          39.30977246667604
         ]
        },
        {
         "hoverinfo": "skip",
         "line": {
          "color": "lightgray",
          "width": 1
         },
         "mode": "lines",
         "showlegend": false,
         "type": "scatter",
         "x": [
          19.579113478929642,
          10.077800137742665
         ],
         "y": [
          6.9361300875165455,
          1.8221825651549728
         ]
        },
        {
         "hoverinfo": "skip",
         "line": {
          "color": "lightgray",
          "width": 1
         },
         "mode": "lines",
         "showlegend": false,
         "type": "scatter",
         "x": [
          59.24145688620425,
          63.50936508676438
         ],
         "y": [
          4.645041271999773,
          4.530400977204452
         ]
        },
        {
         "hoverinfo": "skip",
         "line": {
          "color": "lightgray",
          "width": 1
         },
         "mode": "lines",
         "showlegend": false,
         "type": "scatter",
         "x": [
          57.0061170089365,
          47.41738290873252
         ],
         "y": [
          9.717649377076853,
          9.783416065100148
         ]
        },
        {
         "hoverinfo": "skip",
         "line": {
          "color": "lightgray",
          "width": 1
         },
         "mode": "lines",
         "showlegend": false,
         "type": "scatter",
         "x": [
          83.24426408004217,
          93.67299887367345
         ],
         "y": [
          21.233911067827616,
          13.752094414599325
         ]
        },
        {
         "hoverinfo": "skip",
         "line": {
          "color": "lightgray",
          "width": 1
         },
         "mode": "lines",
         "showlegend": false,
         "type": "scatter",
         "x": [
          59.78999788110851,
          61.500722669916975
         ],
         "y": [
          92.18742350231169,
          99.00538501042632
         ]
        },
        {
         "hoverinfo": "skip",
         "line": {
          "color": "lightgray",
          "width": 1
         },
         "mode": "lines",
         "showlegend": false,
         "type": "scatter",
         "x": [
          63.35297107608947,
          65.76128923003434
         ],
         "y": [
          53.57746840747585,
          56.830860333547164
         ]
        },
        {
         "hoverinfo": "skip",
         "line": {
          "color": "lightgray",
          "width": 1
         },
         "mode": "lines",
         "showlegend": false,
         "type": "scatter",
         "x": [
          60.642905965958995,
          57.8280140996174
         ],
         "y": [
          0.9197051616629648,
          3.5942273796742086
         ]
        },
        {
         "hoverinfo": "skip",
         "line": {
          "color": "lightgray",
          "width": 1
         },
         "mode": "lines",
         "showlegend": false,
         "type": "scatter",
         "x": [
          35.597267865126156,
          38.816992620652194
         ],
         "y": [
          75.78461104643691,
          64.32882184423532
         ]
        },
        {
         "hoverinfo": "skip",
         "line": {
          "color": "lightgray",
          "width": 1
         },
         "mode": "lines",
         "showlegend": false,
         "type": "scatter",
         "x": [
          79.51861947687037,
          81.44684825889358
         ],
         "y": [
          27.083225126207424,
          28.185477477339994
         ]
        },
        {
         "hoverinfo": "skip",
         "line": {
          "color": "lightgray",
          "width": 1
         },
         "mode": "lines",
         "showlegend": false,
         "type": "scatter",
         "x": [
          30.42422429595377,
          28.65412521282844
         ],
         "y": [
          52.475643163223786,
          59.08332605690107
         ]
        },
        {
         "hoverinfo": "skip",
         "line": {
          "color": "lightgray",
          "width": 1
         },
         "mode": "lines",
         "showlegend": false,
         "type": "scatter",
         "x": [
          46.55980181324602,
          49.16158751168324
         ],
         "y": [
          54.26446347075766,
          47.34717707805657
         ]
        },
        {
         "hoverinfo": "skip",
         "line": {
          "color": "lightgray",
          "width": 1
         },
         "mode": "lines",
         "showlegend": false,
         "type": "scatter",
         "x": [
          60.11150117432088,
          65.76128923003434
         ],
         "y": [
          70.80725777960456,
          56.830860333547164
         ]
        },
        {
         "marker": {
          "color": "black",
          "size": 6,
          "symbol": "circle"
         },
         "mode": "markers",
         "name": "GT",
         "type": "scatter",
         "x": {
          "bdata": "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",
          "dtype": "f8"
         },
         "y": {
          "bdata": "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",
          "dtype": "f8"
         }
        },
        {
         "marker": {
          "color": "green",
          "size": 6,
          "symbol": "x"
         },
         "mode": "markers",
         "name": "GBP Final",
         "type": "scatter",
         "x": {
          "bdata": "59AVQjUrmUIvl9BBpSLLPjAjdEKykKHBu7GYQtoUskElLS1C32E9Qrd0X0KY7hZCoLMLQi6yJ0L1h2hCcfVrQqOUg8BaHcVCVrb7QT9Rh0LXhO5BDYvgQFQ/+0FkNRNC/GBsQnJox0KYsMdC/N9NQgV7zkADR75BeV/qQYRenEIyGC5CjsuaQZl6n8AW/I5C707PQMJVp0JI2K9CfEUvQhc6v0JFQuFBkYCZQa4Oc0LAi7ZC4Cv5QfxlkUJwr25CoStXQvO8zkCrsftBqkYDQi8nwkJ2+OFBkHUOQv9D3kF4h71CcpR4QnHesUJR8pNC6XSvQrNRJ0LsCgFCBPOWQvoRzUHvgNxBuYxJQQPJxEKH80dCBP0XQhJy0UIR+ExCE/LHQbwChUIHqBlBP/PVQqAWiEEx7+NCsi+xQnUv1kEJQrxBWCJjQs9LwUFRPvhB5ZESQmOQnELGeSxCaLt5QkgZgEIV2t5CIEccQm4ay0JYxh9CEoqEQoYzWEJsczBAaS2vQuwXFkLNCIRC13+rQguYl0IEg2ZBQiSCQqP6REForT7A7Z1lQq/JjkJTZHNCcDHTQVWwZEJvpXhCEaapQQOe4UH6xtFCP3SyQg7MhELs+npCF1WjQSabPEJACqRCkc2lQsVnv0JgeOs/aAoVQt0Z4kIdVeFBFKRzQksxEkIgz7VCLj9UQpyMUUIXF2FB7EC1QplLk0JowzhCNYGXQuJ7k0J51ZBCYwq1QmIUlEIyIJZCHNBjQiiinUKkRU1CHM4zQpPWr0Bsd5RCjqX6Qbi1kUKbUHpCSkitQczXSUKmiolCA6pLQhHvm0I3DWlCurRfwBr+rkIjyTRCADSkQUnANUIwG45CYV+lQubTaULKXOBBzUbOQTPcfEBzppNBY0SrQhPkTkLvd2RCANrRQSJZUkLsyKJCokdSQromJkLs8WlCa5kSQpGzrkHRULZCv1ozQiv4ckJq9sRC1b28QjVnSELol9lBaytSQdBdwUG51c1CoceeQndu5UHS531C5HuOQvMazEESQJtCVgrRQq7F8EEuPjlCt3ytQuAVr0I=",
          "dtype": "f4"
         },
         "y": {
          "bdata": "kCS+Qk8QZkK2WS9B10ymQp1OskK3WcVCkquAQeB9WUFus5JCUX3OQZoQeUFzw4RBa32iQn13XUJY16C/86HXQabQ0kK4SdhCb/oIP9B4RkKWZ9dBkhDEQswmTkIhxk5C6celQXDOvkIUydZCcFGvQh1sB0IKlAxCxCQAQjy/I0KMWTxC1OG8QoqYxkIyD2xBrVvFQjqouUKZ2fC/AXCRQbBKlkLezXPANyUEQtTgZkKLKxNCbue+QoxlhEI+GiNCuhfSQbPwjkCJ9qtCzuAxQsZdjUGS/49CFrCaP0BPl0E1J8RCA0TNQgGGvkHDemZCUG6sQmHwXkE5ETJCbaLOQq44cEJXxtJBfEXyQfhKyEEw75RCCZrHQmlqsEGQyQBCBMZJwXRm60GMCNVBdfqrQKp1QkK+5cFBiim/QgxWkEJ/HW5C4+pNQiiEqUIi1XVBF9aUQksaIUB9AqBB5IIOQit9TUEwWJ9B2qngQELwzUKJUJ9CE3pwQjIQyUHJvL5CwiI4QhFXNUKCC7xCtgSlQhEA6b42/NpCdzDWQFPWkUIBgKZBFoOWQqmxzEFPG7pBnV24Qt993kJb/IhC033iQe8Rl0FelUBCyHZQQp/QGEJip25Cs5yIQrjuIcEVPx1C303rQnVKHUL7d8VCthayQjlWz0Lz2LxBGe87Qmynn0I0gWdC7saVQLbE0kLkj3JCicClQrwznEKqkflB5qG1QgKxwELxp+9BZcCOQlncyUKz0h5C+RsMv2qnUsGDilJC6khQQk6LNkG+3DVCOFJ5QgCPwUEl2pzAKJ9+QlkTkkI8aL5CBva7QUnXrUE+WPXAb1a9QrDylULHxEVBlUG0QaG0s0Ig+kpBO224Qnf3eUKhZXJBMz2qQsbCQUJT7sPB8biQQj9HBUEAIF1CBebYQXtMYEIIcwNANy9qQpfmrkKndoNBgOWmQrWWjEIp4n1C7IWUQtYsTEJst/RBIF71Qo83a8BowfNAh46oQhIHKELegZJBavTLQesGkUJ8bc1CdpG1QkWQ78AyWsRCPcggQt9OpEJOucRCnA4wQmhWrEI=",
          "dtype": "f4"
         }
        },
        {
         "marker": {
          "color": "blue",
          "size": 6,
          "symbol": "x"
         },
         "mode": "markers",
         "name": "Batch Optimize",
         "type": "scatter",
         "x": {
          "bdata": "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",
          "dtype": "f8"
         },
         "y": {
          "bdata": "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",
          "dtype": "f8"
         }
        },
        {
         "marker": {
          "color": "red",
          "size": 10,
          "symbol": "star"
         },
         "mode": "markers",
         "name": "Anchor",
         "type": "scatter",
         "x": [
          37.454011884736246
         ],
         "y": [
          95.07143064099162
         ]
        }
       ],
       "layout": {
        "height": 600,
        "legend": {
         "orientation": "h",
         "x": 1,
         "xanchor": "right",
         "y": 1.05
        },
        "template": {
         "data": {
          "bar": [
           {
            "error_x": {
             "color": "#2a3f5f"
            },
            "error_y": {
             "color": "#2a3f5f"
            },
            "marker": {
             "line": {
              "color": "#E5ECF6",
              "width": 0.5
             },
             "pattern": {
              "fillmode": "overlay",
              "size": 10,
              "solidity": 0.2
             }
            },
            "type": "bar"
           }
          ],
          "barpolar": [
           {
            "marker": {
             "line": {
              "color": "#E5ECF6",
              "width": 0.5
             },
             "pattern": {
              "fillmode": "overlay",
              "size": 10,
              "solidity": 0.2
             }
            },
            "type": "barpolar"
           }
          ],
          "carpet": [
           {
            "aaxis": {
             "endlinecolor": "#2a3f5f",
             "gridcolor": "white",
             "linecolor": "white",
             "minorgridcolor": "white",
             "startlinecolor": "#2a3f5f"
            },
            "baxis": {
             "endlinecolor": "#2a3f5f",
             "gridcolor": "white",
             "linecolor": "white",
             "minorgridcolor": "white",
             "startlinecolor": "#2a3f5f"
            },
            "type": "carpet"
           }
          ],
          "choropleth": [
           {
            "colorbar": {
             "outlinewidth": 0,
             "ticks": ""
            },
            "type": "choropleth"
           }
          ],
          "contour": [
           {
            "colorbar": {
             "outlinewidth": 0,
             "ticks": ""
            },
            "colorscale": [
             [
              0,
              "#0d0887"
             ],
             [
              0.1111111111111111,
              "#46039f"
             ],
             [
              0.2222222222222222,
              "#7201a8"
             ],
             [
              0.3333333333333333,
              "#9c179e"
             ],
             [
              0.4444444444444444,
              "#bd3786"
             ],
             [
              0.5555555555555556,
              "#d8576b"
             ],
             [
              0.6666666666666666,
              "#ed7953"
             ],
             [
              0.7777777777777778,
              "#fb9f3a"
             ],
             [
              0.8888888888888888,
              "#fdca26"
             ],
             [
              1,
              "#f0f921"
             ]
            ],
            "type": "contour"
           }
          ],
          "contourcarpet": [
           {
            "colorbar": {
             "outlinewidth": 0,
             "ticks": ""
            },
            "type": "contourcarpet"
           }
          ],
          "heatmap": [
           {
            "colorbar": {
             "outlinewidth": 0,
             "ticks": ""
            },
            "colorscale": [
             [
              0,
              "#0d0887"
             ],
             [
              0.1111111111111111,
              "#46039f"
             ],
             [
              0.2222222222222222,
              "#7201a8"
             ],
             [
              0.3333333333333333,
              "#9c179e"
             ],
             [
              0.4444444444444444,
              "#bd3786"
             ],
             [
              0.5555555555555556,
              "#d8576b"
             ],
             [
              0.6666666666666666,
              "#ed7953"
             ],
             [
              0.7777777777777778,
              "#fb9f3a"
             ],
             [
              0.8888888888888888,
              "#fdca26"
             ],
             [
              1,
              "#f0f921"
             ]
            ],
            "type": "heatmap"
           }
          ],
          "histogram": [
           {
            "marker": {
             "pattern": {
              "fillmode": "overlay",
              "size": 10,
              "solidity": 0.2
             }
            },
            "type": "histogram"
           }
          ],
          "histogram2d": [
           {
            "colorbar": {
             "outlinewidth": 0,
             "ticks": ""
            },
            "colorscale": [
             [
              0,
              "#0d0887"
             ],
             [
              0.1111111111111111,
              "#46039f"
             ],
             [
              0.2222222222222222,
              "#7201a8"
             ],
             [
              0.3333333333333333,
              "#9c179e"
             ],
             [
              0.4444444444444444,
              "#bd3786"
             ],
             [
              0.5555555555555556,
              "#d8576b"
             ],
             [
              0.6666666666666666,
              "#ed7953"
             ],
             [
              0.7777777777777778,
              "#fb9f3a"
             ],
             [
              0.8888888888888888,
              "#fdca26"
             ],
             [
              1,
              "#f0f921"
             ]
            ],
            "type": "histogram2d"
           }
          ],
          "histogram2dcontour": [
           {
            "colorbar": {
             "outlinewidth": 0,
             "ticks": ""
            },
            "colorscale": [
             [
              0,
              "#0d0887"
             ],
             [
              0.1111111111111111,
              "#46039f"
             ],
             [
              0.2222222222222222,
              "#7201a8"
             ],
             [
              0.3333333333333333,
              "#9c179e"
             ],
             [
              0.4444444444444444,
              "#bd3786"
             ],
             [
              0.5555555555555556,
              "#d8576b"
             ],
             [
              0.6666666666666666,
              "#ed7953"
             ],
             [
              0.7777777777777778,
              "#fb9f3a"
             ],
             [
              0.8888888888888888,
              "#fdca26"
             ],
             [
              1,
              "#f0f921"
             ]
            ],
            "type": "histogram2dcontour"
           }
          ],
          "mesh3d": [
           {
            "colorbar": {
             "outlinewidth": 0,
             "ticks": ""
            },
            "type": "mesh3d"
           }
          ],
          "parcoords": [
           {
            "line": {
             "colorbar": {
              "outlinewidth": 0,
              "ticks": ""
             }
            },
            "type": "parcoords"
           }
          ],
          "pie": [
           {
            "automargin": true,
            "type": "pie"
           }
          ],
          "scatter": [
           {
            "fillpattern": {
             "fillmode": "overlay",
             "size": 10,
             "solidity": 0.2
            },
            "type": "scatter"
           }
          ],
          "scatter3d": [
           {
            "line": {
             "colorbar": {
              "outlinewidth": 0,
              "ticks": ""
             }
            },
            "marker": {
             "colorbar": {
              "outlinewidth": 0,
              "ticks": ""
             }
            },
            "type": "scatter3d"
           }
          ],
          "scattercarpet": [
           {
            "marker": {
             "colorbar": {
              "outlinewidth": 0,
              "ticks": ""
             }
            },
            "type": "scattercarpet"
           }
          ],
          "scattergeo": [
           {
            "marker": {
             "colorbar": {
              "outlinewidth": 0,
              "ticks": ""
             }
            },
            "type": "scattergeo"
           }
          ],
          "scattergl": [
           {
            "marker": {
             "colorbar": {
              "outlinewidth": 0,
              "ticks": ""
             }
            },
            "type": "scattergl"
           }
          ],
          "scattermap": [
           {
            "marker": {
             "colorbar": {
              "outlinewidth": 0,
              "ticks": ""
             }
            },
            "type": "scattermap"
           }
          ],
          "scattermapbox": [
           {
            "marker": {
             "colorbar": {
              "outlinewidth": 0,
              "ticks": ""
             }
            },
            "type": "scattermapbox"
           }
          ],
          "scatterpolar": [
           {
            "marker": {
             "colorbar": {
              "outlinewidth": 0,
              "ticks": ""
             }
            },
            "type": "scatterpolar"
           }
          ],
          "scatterpolargl": [
           {
            "marker": {
             "colorbar": {
              "outlinewidth": 0,
              "ticks": ""
             }
            },
            "type": "scatterpolargl"
           }
          ],
          "scatterternary": [
           {
            "marker": {
             "colorbar": {
              "outlinewidth": 0,
              "ticks": ""
             }
            },
            "type": "scatterternary"
           }
          ],
          "surface": [
           {
            "colorbar": {
             "outlinewidth": 0,
             "ticks": ""
            },
            "colorscale": [
             [
              0,
              "#0d0887"
             ],
             [
              0.1111111111111111,
              "#46039f"
             ],
             [
              0.2222222222222222,
              "#7201a8"
             ],
             [
              0.3333333333333333,
              "#9c179e"
             ],
             [
              0.4444444444444444,
              "#bd3786"
             ],
             [
              0.5555555555555556,
              "#d8576b"
             ],
             [
              0.6666666666666666,
              "#ed7953"
             ],
             [
              0.7777777777777778,
              "#fb9f3a"
             ],
             [
              0.8888888888888888,
              "#fdca26"
             ],
             [
              1,
              "#f0f921"
             ]
            ],
            "type": "surface"
           }
          ],
          "table": [
           {
            "cells": {
             "fill": {
              "color": "#EBF0F8"
             },
             "line": {
              "color": "white"
             }
            },
            "header": {
             "fill": {
              "color": "#C8D4E3"
             },
             "line": {
              "color": "white"
             }
            },
            "type": "table"
           }
          ]
         },
         "layout": {
          "annotationdefaults": {
           "arrowcolor": "#2a3f5f",
           "arrowhead": 0,
           "arrowwidth": 1
          },
          "autotypenumbers": "strict",
          "coloraxis": {
           "colorbar": {
            "outlinewidth": 0,
            "ticks": ""
           }
          },
          "colorscale": {
           "diverging": [
            [
             0,
             "#8e0152"
            ],
            [
             0.1,
             "#c51b7d"
            ],
            [
             0.2,
             "#de77ae"
            ],
            [
             0.3,
             "#f1b6da"
            ],
            [
             0.4,
             "#fde0ef"
            ],
            [
             0.5,
             "#f7f7f7"
            ],
            [
             0.6,
             "#e6f5d0"
            ],
            [
             0.7,
             "#b8e186"
            ],
            [
             0.8,
             "#7fbc41"
            ],
            [
             0.9,
             "#4d9221"
            ],
            [
             1,
             "#276419"
            ]
           ],
           "sequential": [
            [
             0,
             "#0d0887"
            ],
            [
             0.1111111111111111,
             "#46039f"
            ],
            [
             0.2222222222222222,
             "#7201a8"
            ],
            [
             0.3333333333333333,
             "#9c179e"
            ],
            [
             0.4444444444444444,
             "#bd3786"
            ],
            [
             0.5555555555555556,
             "#d8576b"
            ],
            [
             0.6666666666666666,
             "#ed7953"
            ],
            [
             0.7777777777777778,
             "#fb9f3a"
            ],
            [
             0.8888888888888888,
             "#fdca26"
            ],
            [
             1,
             "#f0f921"
            ]
           ],
           "sequentialminus": [
            [
             0,
             "#0d0887"
            ],
            [
             0.1111111111111111,
             "#46039f"
            ],
            [
             0.2222222222222222,
             "#7201a8"
            ],
            [
             0.3333333333333333,
             "#9c179e"
            ],
            [
             0.4444444444444444,
             "#bd3786"
            ],
            [
             0.5555555555555556,
             "#d8576b"
            ],
            [
             0.6666666666666666,
             "#ed7953"
            ],
            [
             0.7777777777777778,
             "#fb9f3a"
            ],
            [
             0.8888888888888888,
             "#fdca26"
            ],
            [
             1,
             "#f0f921"
            ]
           ]
          },
          "colorway": [
           "#636efa",
           "#EF553B",
           "#00cc96",
           "#ab63fa",
           "#FFA15A",
           "#19d3f3",
           "#FF6692",
           "#B6E880",
           "#FF97FF",
           "#FECB52"
          ],
          "font": {
           "color": "#2a3f5f"
          },
          "geo": {
           "bgcolor": "white",
           "lakecolor": "white",
           "landcolor": "#E5ECF6",
           "showlakes": true,
           "showland": true,
           "subunitcolor": "white"
          },
          "hoverlabel": {
           "align": "left"
          },
          "hovermode": "closest",
          "mapbox": {
           "style": "light"
          },
          "paper_bgcolor": "white",
          "plot_bgcolor": "#E5ECF6",
          "polar": {
           "angularaxis": {
            "gridcolor": "white",
            "linecolor": "white",
            "ticks": ""
           },
           "bgcolor": "#E5ECF6",
           "radialaxis": {
            "gridcolor": "white",
            "linecolor": "white",
            "ticks": ""
           }
          },
          "scene": {
           "xaxis": {
            "backgroundcolor": "#E5ECF6",
            "gridcolor": "white",
            "gridwidth": 2,
            "linecolor": "white",
            "showbackground": true,
            "ticks": "",
            "zerolinecolor": "white"
           },
           "yaxis": {
            "backgroundcolor": "#E5ECF6",
            "gridcolor": "white",
            "gridwidth": 2,
            "linecolor": "white",
            "showbackground": true,
            "ticks": "",
            "zerolinecolor": "white"
           },
           "zaxis": {
            "backgroundcolor": "#E5ECF6",
            "gridcolor": "white",
            "gridwidth": 2,
            "linecolor": "white",
            "showbackground": true,
            "ticks": "",
            "zerolinecolor": "white"
           }
          },
          "shapedefaults": {
           "line": {
            "color": "#2a3f5f"
           }
          },
          "ternary": {
           "aaxis": {
            "gridcolor": "white",
            "linecolor": "white",
            "ticks": ""
           },
           "baxis": {
            "gridcolor": "white",
            "linecolor": "white",
            "ticks": ""
           },
           "bgcolor": "#E5ECF6",
           "caxis": {
            "gridcolor": "white",
            "linecolor": "white",
            "ticks": ""
           }
          },
          "title": {
           "x": 0.05
          },
          "xaxis": {
           "automargin": true,
           "gridcolor": "white",
           "linecolor": "white",
           "ticks": "",
           "title": {
            "standoff": 15
           },
           "zerolinecolor": "white",
           "zerolinewidth": 2
          },
          "yaxis": {
           "automargin": true,
           "gridcolor": "white",
           "linecolor": "white",
           "ticks": "",
           "title": {
            "standoff": 15
           },
           "zerolinecolor": "white",
           "zerolinewidth": 2
          }
         }
        },
        "title": {
         "text": "GBP vs Batch Optimization vs Ground Truth"
        },
        "xaxis": {
         "scaleanchor": "y"
        },
        "yaxis": {
         "showgrid": false
        }
       }
      },
      "image/png": "[encoded data removed]"
     },
     "metadata": {},
     "output_type": "display_data"
    }
   ],
   "source": [
    "varis, prior_facs, between_facs, energy_log, linpoints = gbp_solve(\n",
    "    varis, prior_facs, between_facs, num_iters=1000, visualize=True\n",
    ")\n",
    "x_opt = batch_solve(positions, prior_meas, between_meas, edges)\n",
    "\n",
    "import plotly.graph_objects as go\n",
    "import numpy as np\n",
    "\n",
    "x_final = linpoints  # GBP final solution after num_iters\n",
    "fig = go.Figure()\n",
    "\n",
    "# Edge (gray line)\n",
    "for (i, j) in edges:\n",
    "    fig.add_trace(go.Scatter(\n",
    "        x=[positions[i][0], positions[j][0]],\n",
    "        y=[positions[i][1], positions[j][1]],\n",
    "        mode='lines',\n",
    "        line=dict(color='lightgray', width=1),\n",
    "        hoverinfo='skip',\n",
    "        showlegend=False\n",
    "    ))\n",
    "\n",
    "# Ground Truth (black dots)\n",
    "fig.add_trace(go.Scatter(\n",
    "    x=positions[:, 0], y=positions[:, 1],\n",
    "    mode='markers', name='GT',\n",
    "    marker=dict(color='black', size=6, symbol='circle')\n",
    "))\n",
    "\n",
    "# GBP final solution (green x)\n",
    "fig.add_trace(go.Scatter(\n",
    "    x=x_final[:, 0], y=x_final[:, 1],\n",
    "    mode='markers', name='GBP Final',\n",
    "    marker=dict(color='green', size=6, symbol='x')\n",
    "))\n",
    "\n",
    "# Batch Optimization solution (blue x)\n",
    "fig.add_trace(go.Scatter(\n",
    "    x=x_opt[:, 0], y=x_opt[:, 1],\n",
    "    mode='markers', name='Batch Optimize',\n",
    "    marker=dict(color='blue', size=6, symbol='x')\n",
    "))\n",
    "\n",
    "# Anchor (red star)\n",
    "fig.add_trace(go.Scatter(\n",
    "    x=[positions[0, 0]], y=[positions[0, 1]],\n",
    "    mode='markers', name='Anchor',\n",
    "    marker=dict(color='red', size=10, symbol='star')\n",
    "))\n",
    "\n",
    "# (Figure settings)\n",
    "fig.update_layout(\n",
    "    title='GBP vs Batch Optimization vs Ground Truth',\n",
    "    xaxis=dict(scaleanchor='y'),\n",
    "    yaxis=dict(showgrid=False),\n",
    "    height=600,\n",
    "    legend=dict(orientation='h', y=1.05, x=1.0, xanchor='right')\n",
    ")\n",
    "\n",
    "fig.show()\n"
   ]
  },
  {
   "cell_type": "code",
   "execution_count": 44,
   "id": "86b2a73e-dbd1-435f-b030-91d8cc31e9f6",
   "metadata": {},
   "outputs": [
    {
     "data": {
      "text/plain": [
       "array([5.2206940e+10, 6.3699820e+04, 1.1983283e+05, 1.6747223e+05,\n",
       "       2.1068144e+05, 1.8772630e+05, 2.1257859e+05, 1.7786314e+05,\n",
       "       9.2953102e+04, 8.0803875e+04, 5.0280977e+04, 1.7994177e+03,\n",
       "       1.6036062e+03, 1.5534869e+03, 1.5280464e+03, 1.5147769e+03,\n",
       "       1.5061483e+03, 1.5002280e+03, 1.4959752e+03, 1.4928365e+03,\n",
       "       1.4904733e+03, 1.4886613e+03, 1.4872510e+03, 1.4861379e+03,\n",
       "       1.4852479e+03, 1.4845273e+03, 1.4839371e+03, 1.4834482e+03,\n",
       "       1.4830387e+03, 1.4826923e+03, 1.4823962e+03, 1.4821407e+03,\n",
       "       1.4819185e+03, 1.4817230e+03, 1.4815504e+03, 1.4813965e+03,\n",
       "       1.4812583e+03, 1.4811333e+03, 1.4810201e+03, 1.4809169e+03,\n",
       "       1.4808223e+03, 1.4807350e+03, 1.4806547e+03, 1.4805803e+03,\n",
       "       1.4805111e+03, 1.4804467e+03, 1.4803867e+03, 1.4803306e+03,\n",
       "       1.4802780e+03, 1.4802288e+03, 1.4801825e+03, 1.4801389e+03,\n",
       "       1.4800980e+03, 1.4800594e+03, 1.4800229e+03, 1.4799886e+03,\n",
       "       1.4799562e+03, 1.4799253e+03, 1.4798962e+03, 1.4798685e+03,\n",
       "       1.4798425e+03, 1.4798175e+03, 1.4797941e+03, 1.4797715e+03,\n",
       "       1.4797502e+03, 1.4797300e+03, 1.4797107e+03, 1.4796920e+03,\n",
       "       1.4796746e+03, 1.4796576e+03, 1.4796416e+03, 1.4796262e+03,\n",
       "       1.4796113e+03, 1.4795974e+03, 1.4795837e+03, 1.4795706e+03,\n",
       "       1.4795583e+03, 1.4795463e+03, 1.4795349e+03, 1.4795238e+03,\n",
       "       1.4795131e+03, 1.4795028e+03, 1.4794928e+03, 1.4794830e+03,\n",
       "       1.4794736e+03, 1.4794647e+03, 1.4794561e+03, 1.4794475e+03,\n",
       "       1.4794396e+03, 1.4794313e+03, 1.4794236e+03, 1.4794161e+03,\n",
       "       1.4794087e+03, 1.4794016e+03, 1.4793948e+03, 1.4793881e+03,\n",
       "       1.4793812e+03, 1.4793748e+03, 1.4793687e+03, 1.4793624e+03,\n",
       "       1.4793562e+03, 1.4793505e+03, 1.4793445e+03, 1.4793391e+03,\n",
       "       1.4793335e+03, 1.4793282e+03, 1.4793226e+03, 1.4793174e+03,\n",
       "       1.4793123e+03, 1.4793070e+03, 1.4793021e+03, 1.4792974e+03,\n",
       "       1.4792922e+03, 1.4792876e+03, 1.4792831e+03, 1.4792786e+03,\n",
       "       1.4792739e+03, 1.4792694e+03, 1.4792651e+03, 1.4792605e+03,\n",
       "       1.4792563e+03, 1.4792520e+03, 1.4792479e+03, 1.4792438e+03,\n",
       "       1.4792395e+03, 1.4792356e+03, 1.4792314e+03, 1.4792275e+03,\n",
       "       1.4792238e+03, 1.4792196e+03, 1.4792159e+03, 1.4792123e+03,\n",
       "       1.4792085e+03, 1.4792046e+03, 1.4792010e+03, 1.4791974e+03,\n",
       "       1.4791938e+03, 1.4791902e+03, 1.4791868e+03, 1.4791833e+03,\n",
       "       1.4791798e+03, 1.4791764e+03, 1.4791731e+03, 1.4791697e+03,\n",
       "       1.4791663e+03, 1.4791632e+03, 1.4791599e+03, 1.4791567e+03,\n",
       "       1.4791536e+03, 1.4791501e+03, 1.4791471e+03, 1.4791440e+03,\n",
       "       1.4791409e+03, 1.4791379e+03, 1.4791348e+03, 1.4791318e+03,\n",
       "       1.4791287e+03, 1.4791256e+03, 1.4791229e+03, 1.4791199e+03,\n",
       "       1.4791169e+03, 1.4791143e+03, 1.4791113e+03, 1.4791085e+03,\n",
       "       1.4791057e+03, 1.4791029e+03, 1.4791002e+03, 1.4790974e+03,\n",
       "       1.4790947e+03, 1.4790922e+03, 1.4790894e+03, 1.4790869e+03,\n",
       "       1.4790842e+03, 1.4790815e+03, 1.4790791e+03, 1.4790765e+03,\n",
       "       1.4790739e+03, 1.4790713e+03, 1.4790690e+03, 1.4790664e+03,\n",
       "       1.4790642e+03, 1.4790615e+03, 1.4790591e+03, 1.4790566e+03,\n",
       "       1.4790544e+03, 1.4790520e+03, 1.4790497e+03, 1.4790474e+03,\n",
       "       1.4790450e+03, 1.4790427e+03, 1.4790404e+03, 1.4790383e+03,\n",
       "       1.4790361e+03, 1.4790337e+03, 1.4790315e+03, 1.4790295e+03,\n",
       "       1.4790273e+03, 1.4790251e+03, 1.4790229e+03, 1.4790210e+03,\n",
       "       1.4790188e+03, 1.4790168e+03, 1.4790146e+03, 1.4790126e+03,\n",
       "       1.4790104e+03, 1.4790085e+03, 1.4790063e+03, 1.4790048e+03,\n",
       "       1.4790027e+03, 1.4790007e+03, 1.4789988e+03, 1.4789968e+03,\n",
       "       1.4789950e+03, 1.4789930e+03, 1.4789911e+03, 1.4789893e+03,\n",
       "       1.4789874e+03, 1.4789858e+03, 1.4789838e+03, 1.4789819e+03,\n",
       "       1.4789801e+03, 1.4789785e+03, 1.4789767e+03, 1.4789750e+03,\n",
       "       1.4789731e+03, 1.4789714e+03, 1.4789696e+03, 1.4789680e+03,\n",
       "       1.4789664e+03, 1.4789647e+03, 1.4789631e+03, 1.4789614e+03,\n",
       "       1.4789597e+03, 1.4789584e+03, 1.4789565e+03, 1.4789552e+03,\n",
       "       1.4789532e+03, 1.4789518e+03, 1.4789502e+03, 1.4789487e+03,\n",
       "       1.4789471e+03, 1.4789457e+03, 1.4789443e+03, 1.4789425e+03,\n",
       "       1.4789413e+03, 1.4789397e+03, 1.4789381e+03, 1.4789368e+03,\n",
       "       1.4789353e+03, 1.4789340e+03, 1.4789326e+03, 1.4789313e+03,\n",
       "       1.4789298e+03, 1.4789283e+03, 1.4789270e+03, 1.4789258e+03,\n",
       "       1.4789242e+03, 1.4789230e+03, 1.4789218e+03, 1.4789204e+03,\n",
       "       1.4789188e+03, 1.4789178e+03, 1.4789164e+03, 1.4789152e+03,\n",
       "       1.4789138e+03, 1.4789126e+03, 1.4789113e+03, 1.4789103e+03,\n",
       "       1.4789088e+03, 1.4789077e+03, 1.4789066e+03, 1.4789054e+03,\n",
       "       1.4789041e+03, 1.4789028e+03, 1.4789016e+03, 1.4789006e+03,\n",
       "       1.4788993e+03, 1.4788982e+03, 1.4788971e+03, 1.4788961e+03,\n",
       "       1.4788947e+03, 1.4788937e+03, 1.4788926e+03, 1.4788916e+03,\n",
       "       1.4788905e+03, 1.4788893e+03, 1.4788883e+03, 1.4788872e+03,\n",
       "       1.4788861e+03, 1.4788850e+03, 1.4788842e+03, 1.4788828e+03,\n",
       "       1.4788821e+03, 1.4788810e+03, 1.4788800e+03, 1.4788789e+03,\n",
       "       1.4788782e+03, 1.4788771e+03, 1.4788761e+03, 1.4788751e+03,\n",
       "       1.4788741e+03, 1.4788732e+03, 1.4788723e+03, 1.4788715e+03,\n",
       "       1.4788704e+03, 1.4788695e+03, 1.4788687e+03, 1.4788676e+03,\n",
       "       1.4788669e+03, 1.4788658e+03, 1.4788650e+03, 1.4788641e+03,\n",
       "       1.4788633e+03, 1.4788624e+03, 1.4788617e+03, 1.4788606e+03,\n",
       "       1.4788599e+03, 1.4788590e+03, 1.4788583e+03, 1.4788573e+03,\n",
       "       1.4788566e+03, 1.4788556e+03, 1.4788549e+03, 1.4788540e+03,\n",
       "       1.4788531e+03, 1.4788524e+03, 1.4788517e+03, 1.4788510e+03,\n",
       "       1.4788503e+03, 1.4788494e+03, 1.4788486e+03, 1.4788478e+03,\n",
       "       1.4788470e+03, 1.4788463e+03, 1.4788458e+03, 1.4788450e+03,\n",
       "       1.4788441e+03, 1.4788435e+03, 1.4788429e+03, 1.4788419e+03,\n",
       "       1.4788414e+03, 1.4788407e+03, 1.4788401e+03, 1.4788394e+03,\n",
       "       1.4788386e+03, 1.4788379e+03, 1.4788374e+03, 1.4788365e+03,\n",
       "       1.4788361e+03, 1.4788353e+03, 1.4788347e+03, 1.4788341e+03,\n",
       "       1.4788334e+03, 1.4788326e+03, 1.4788322e+03, 1.4788315e+03,\n",
       "       1.4788307e+03, 1.4788301e+03, 1.4788296e+03, 1.4788291e+03,\n",
       "       1.4788282e+03, 1.4788278e+03, 1.4788273e+03, 1.4788268e+03,\n",
       "       1.4788260e+03, 1.4788254e+03, 1.4788247e+03, 1.4788243e+03,\n",
       "       1.4788239e+03, 1.4788234e+03, 1.4788228e+03, 1.4788220e+03,\n",
       "       1.4788214e+03, 1.4788210e+03, 1.4788204e+03, 1.4788201e+03,\n",
       "       1.4788193e+03, 1.4788188e+03, 1.4788185e+03, 1.4788179e+03,\n",
       "       1.4788173e+03, 1.4788167e+03, 1.4788164e+03, 1.4788159e+03,\n",
       "       1.4788153e+03, 1.4788151e+03, 1.4788142e+03, 1.4788138e+03,\n",
       "       1.4788135e+03, 1.4788129e+03, 1.4788124e+03, 1.4788119e+03,\n",
       "       1.4788116e+03, 1.4788110e+03, 1.4788105e+03, 1.4788101e+03,\n",
       "       1.4788097e+03, 1.4788092e+03, 1.4788087e+03, 1.4788085e+03,\n",
       "       1.4788079e+03, 1.4788075e+03, 1.4788070e+03, 1.4788066e+03,\n",
       "       1.4788062e+03, 1.4788058e+03, 1.4788055e+03, 1.4788048e+03,\n",
       "       1.4788047e+03, 1.4788040e+03, 1.4788037e+03, 1.4788032e+03,\n",
       "       1.4788030e+03, 1.4788025e+03, 1.4788021e+03, 1.4788019e+03,\n",
       "       1.4788013e+03, 1.4788010e+03, 1.4788007e+03, 1.4788003e+03,\n",
       "       1.4787998e+03, 1.4787994e+03, 1.4787990e+03, 1.4787988e+03,\n",
       "       1.4787982e+03, 1.4787979e+03, 1.4787979e+03, 1.4787974e+03,\n",
       "       1.4787969e+03, 1.4787968e+03, 1.4787963e+03, 1.4787958e+03,\n",
       "       1.4787955e+03, 1.4787950e+03, 1.4787948e+03, 1.4787944e+03,\n",
       "       1.4787942e+03, 1.4787938e+03, 1.4787935e+03, 1.4787931e+03,\n",
       "       1.4787928e+03, 1.4787926e+03, 1.4787922e+03, 1.4787920e+03,\n",
       "       1.4787915e+03, 1.4787911e+03, 1.4787909e+03, 1.4787908e+03,\n",
       "       1.4787903e+03, 1.4787903e+03, 1.4787898e+03, 1.4787893e+03,\n",
       "       1.4787892e+03, 1.4787888e+03, 1.4787887e+03, 1.4787883e+03,\n",
       "       1.4787882e+03, 1.4787876e+03, 1.4787876e+03, 1.4787872e+03,\n",
       "       1.4787869e+03, 1.4787869e+03, 1.4787864e+03, 1.4787859e+03,\n",
       "       1.4787858e+03, 1.4787856e+03, 1.4787855e+03, 1.4787852e+03,\n",
       "       1.4787848e+03, 1.4787847e+03, 1.4787844e+03, 1.4787842e+03,\n",
       "       1.4787838e+03, 1.4787837e+03, 1.4787833e+03, 1.4787831e+03,\n",
       "       1.4787830e+03, 1.4787826e+03, 1.4787825e+03, 1.4787821e+03,\n",
       "       1.4787820e+03, 1.4787817e+03, 1.4787815e+03, 1.4787814e+03,\n",
       "       1.4787810e+03, 1.4787809e+03, 1.4787804e+03, 1.4787803e+03,\n",
       "       1.4787803e+03, 1.4787799e+03, 1.4787795e+03, 1.4787794e+03,\n",
       "       1.4787792e+03, 1.4787791e+03, 1.4787787e+03, 1.4787784e+03,\n",
       "       1.4787783e+03, 1.4787782e+03, 1.4787780e+03, 1.4787780e+03,\n",
       "       1.4787776e+03, 1.4787773e+03, 1.4787771e+03, 1.4787771e+03,\n",
       "       1.4787766e+03, 1.4787767e+03, 1.4787764e+03, 1.4787764e+03,\n",
       "       1.4787760e+03, 1.4787758e+03, 1.4787755e+03, 1.4787755e+03,\n",
       "       1.4787751e+03, 1.4787748e+03, 1.4787749e+03, 1.4787747e+03,\n",
       "       1.4787745e+03, 1.4787744e+03, 1.4787742e+03, 1.4787740e+03,\n",
       "       1.4787738e+03, 1.4787737e+03, 1.4787734e+03, 1.4787733e+03,\n",
       "       1.4787731e+03, 1.4787731e+03, 1.4787727e+03, 1.4787727e+03,\n",
       "       1.4787726e+03, 1.4787725e+03, 1.4787722e+03, 1.4787721e+03,\n",
       "       1.4787720e+03, 1.4787717e+03, 1.4787716e+03, 1.4787714e+03,\n",
       "       1.4787712e+03, 1.4787711e+03, 1.4787710e+03, 1.4787709e+03,\n",
       "       1.4787706e+03, 1.4787704e+03, 1.4787705e+03, 1.4787701e+03,\n",
       "       1.4787700e+03, 1.4787700e+03, 1.4787695e+03, 1.4787698e+03,\n",
       "       1.4787694e+03, 1.4787694e+03, 1.4787692e+03, 1.4787692e+03,\n",
       "       1.4787690e+03, 1.4787687e+03, 1.4787688e+03, 1.4787686e+03,\n",
       "       1.4787683e+03, 1.4787683e+03, 1.4787682e+03, 1.4787682e+03,\n",
       "       1.4787679e+03, 1.4787678e+03, 1.4787676e+03, 1.4787676e+03,\n",
       "       1.4787676e+03, 1.4787673e+03, 1.4787672e+03, 1.4787672e+03,\n",
       "       1.4787670e+03, 1.4787670e+03, 1.4787667e+03, 1.4787666e+03,\n",
       "       1.4787665e+03, 1.4787665e+03, 1.4787664e+03, 1.4787661e+03,\n",
       "       1.4787661e+03, 1.4787660e+03, 1.4787660e+03, 1.4787659e+03,\n",
       "       1.4787656e+03, 1.4787656e+03, 1.4787655e+03, 1.4787651e+03,\n",
       "       1.4787653e+03, 1.4787650e+03, 1.4787653e+03, 1.4787646e+03,\n",
       "       1.4787646e+03, 1.4787648e+03, 1.4787646e+03, 1.4787648e+03,\n",
       "       1.4787642e+03, 1.4787644e+03, 1.4787640e+03, 1.4787643e+03,\n",
       "       1.4787639e+03, 1.4787638e+03, 1.4787639e+03, 1.4787639e+03,\n",
       "       1.4787637e+03, 1.4787635e+03, 1.4787634e+03, 1.4787633e+03,\n",
       "       1.4787632e+03, 1.4787632e+03, 1.4787632e+03, 1.4787631e+03,\n",
       "       1.4787631e+03, 1.4787628e+03, 1.4787627e+03, 1.4787626e+03,\n",
       "       1.4787627e+03, 1.4787626e+03, 1.4787625e+03, 1.4787622e+03,\n",
       "       1.4787621e+03, 1.4787622e+03, 1.4787620e+03, 1.4787618e+03,\n",
       "       1.4787618e+03, 1.4787618e+03, 1.4787618e+03, 1.4787618e+03,\n",
       "       1.4787616e+03, 1.4787615e+03, 1.4787615e+03, 1.4787615e+03,\n",
       "       1.4787614e+03, 1.4787610e+03, 1.4787612e+03, 1.4787612e+03,\n",
       "       1.4787611e+03, 1.4787609e+03, 1.4787610e+03, 1.4787609e+03,\n",
       "       1.4787607e+03, 1.4787606e+03, 1.4787605e+03, 1.4787605e+03,\n",
       "       1.4787605e+03, 1.4787604e+03, 1.4787605e+03, 1.4787603e+03,\n",
       "       1.4787604e+03, 1.4787600e+03, 1.4787601e+03, 1.4787599e+03,\n",
       "       1.4787599e+03, 1.4787599e+03, 1.4787596e+03, 1.4787598e+03,\n",
       "       1.4787598e+03, 1.4787598e+03, 1.4787595e+03, 1.4787596e+03,\n",
       "       1.4787594e+03, 1.4787594e+03, 1.4787594e+03, 1.4787592e+03,\n",
       "       1.4787592e+03, 1.4787592e+03, 1.4787590e+03, 1.4787592e+03,\n",
       "       1.4787590e+03, 1.4787590e+03, 1.4787589e+03, 1.4787589e+03,\n",
       "       1.4787588e+03, 1.4787587e+03, 1.4787588e+03, 1.4787587e+03,\n",
       "       1.4787587e+03, 1.4787584e+03, 1.4787585e+03, 1.4787584e+03,\n",
       "       1.4787584e+03, 1.4787583e+03, 1.4787583e+03, 1.4787582e+03,\n",
       "       1.4787582e+03, 1.4787581e+03, 1.4787581e+03, 1.4787581e+03,\n",
       "       1.4787581e+03, 1.4787581e+03, 1.4787578e+03, 1.4787579e+03,\n",
       "       1.4787578e+03, 1.4787578e+03, 1.4787577e+03, 1.4787576e+03,\n",
       "       1.4787576e+03, 1.4787576e+03, 1.4787574e+03, 1.4787574e+03,\n",
       "       1.4787574e+03, 1.4787572e+03, 1.4787573e+03, 1.4787573e+03,\n",
       "       1.4787574e+03, 1.4787572e+03, 1.4787573e+03, 1.4787571e+03,\n",
       "       1.4787571e+03, 1.4787572e+03, 1.4787572e+03, 1.4787571e+03,\n",
       "       1.4787570e+03, 1.4787568e+03, 1.4787568e+03, 1.4787568e+03,\n",
       "       1.4787568e+03, 1.4787567e+03, 1.4787567e+03, 1.4787565e+03,\n",
       "       1.4787567e+03, 1.4787565e+03, 1.4787567e+03, 1.4787566e+03,\n",
       "       1.4787565e+03, 1.4787563e+03, 1.4787565e+03, 1.4787562e+03,\n",
       "       1.4787563e+03, 1.4787563e+03, 1.4787562e+03, 1.4787561e+03,\n",
       "       1.4787561e+03, 1.4787562e+03, 1.4787560e+03, 1.4787560e+03,\n",
       "       1.4787560e+03, 1.4787559e+03, 1.4787561e+03, 1.4787557e+03,\n",
       "       1.4787560e+03, 1.4787560e+03, 1.4787560e+03, 1.4787561e+03,\n",
       "       1.4787559e+03, 1.4787560e+03, 1.4787559e+03, 1.4787556e+03,\n",
       "       1.4787556e+03, 1.4787556e+03, 1.4787556e+03, 1.4787556e+03,\n",
       "       1.4787555e+03, 1.4787556e+03, 1.4787556e+03, 1.4787555e+03,\n",
       "       1.4787556e+03, 1.4787554e+03, 1.4787555e+03, 1.4787555e+03,\n",
       "       1.4787554e+03, 1.4787554e+03, 1.4787551e+03, 1.4787554e+03,\n",
       "       1.4787552e+03, 1.4787551e+03, 1.4787552e+03, 1.4787551e+03,\n",
       "       1.4787551e+03, 1.4787550e+03, 1.4787551e+03, 1.4787551e+03,\n",
       "       1.4787549e+03, 1.4787551e+03, 1.4787550e+03, 1.4787548e+03,\n",
       "       1.4787550e+03, 1.4787550e+03, 1.4787550e+03, 1.4787551e+03,\n",
       "       1.4787546e+03, 1.4787548e+03, 1.4787549e+03, 1.4787549e+03,\n",
       "       1.4787548e+03, 1.4787548e+03, 1.4787546e+03, 1.4787546e+03,\n",
       "       1.4787545e+03, 1.4787546e+03, 1.4787546e+03, 1.4787545e+03,\n",
       "       1.4787548e+03, 1.4787545e+03, 1.4787544e+03, 1.4787546e+03,\n",
       "       1.4787544e+03, 1.4787545e+03, 1.4787544e+03, 1.4787544e+03,\n",
       "       1.4787544e+03, 1.4787544e+03, 1.4787544e+03, 1.4787545e+03,\n",
       "       1.4787543e+03, 1.4787544e+03, 1.4787543e+03, 1.4787543e+03,\n",
       "       1.4787542e+03, 1.4787543e+03, 1.4787543e+03, 1.4787542e+03,\n",
       "       1.4787543e+03, 1.4787540e+03, 1.4787542e+03, 1.4787540e+03,\n",
       "       1.4787543e+03, 1.4787544e+03, 1.4787542e+03, 1.4787542e+03,\n",
       "       1.4787542e+03, 1.4787540e+03, 1.4787540e+03, 1.4787540e+03,\n",
       "       1.4787539e+03, 1.4787540e+03, 1.4787539e+03, 1.4787539e+03,\n",
       "       1.4787538e+03, 1.4787539e+03, 1.4787540e+03, 1.4787539e+03,\n",
       "       1.4787538e+03, 1.4787537e+03, 1.4787540e+03, 1.4787538e+03,\n",
       "       1.4787537e+03, 1.4787539e+03, 1.4787538e+03, 1.4787538e+03,\n",
       "       1.4787537e+03, 1.4787538e+03, 1.4787539e+03, 1.4787535e+03,\n",
       "       1.4787538e+03, 1.4787538e+03, 1.4787537e+03, 1.4787535e+03,\n",
       "       1.4787539e+03, 1.4787537e+03, 1.4787537e+03, 1.4787535e+03,\n",
       "       1.4787535e+03, 1.4787534e+03, 1.4787538e+03, 1.4787535e+03,\n",
       "       1.4787535e+03, 1.4787537e+03, 1.4787534e+03, 1.4787537e+03,\n",
       "       1.4787533e+03, 1.4787534e+03, 1.4787535e+03, 1.4787534e+03,\n",
       "       1.4787533e+03, 1.4787535e+03, 1.4787534e+03, 1.4787534e+03,\n",
       "       1.4787535e+03, 1.4787534e+03, 1.4787534e+03, 1.4787533e+03,\n",
       "       1.4787534e+03, 1.4787532e+03, 1.4787532e+03, 1.4787533e+03,\n",
       "       1.4787533e+03, 1.4787532e+03, 1.4787533e+03, 1.4787532e+03,\n",
       "       1.4787531e+03, 1.4787532e+03, 1.4787532e+03, 1.4787533e+03,\n",
       "       1.4787532e+03, 1.4787531e+03, 1.4787531e+03, 1.4787529e+03,\n",
       "       1.4787529e+03, 1.4787531e+03, 1.4787532e+03, 1.4787532e+03,\n",
       "       1.4787532e+03, 1.4787533e+03, 1.4787531e+03, 1.4787529e+03,\n",
       "       1.4787529e+03, 1.4787531e+03, 1.4787531e+03, 1.4787531e+03,\n",
       "       1.4787529e+03, 1.4787531e+03, 1.4787529e+03, 1.4787531e+03,\n",
       "       1.4787529e+03, 1.4787529e+03, 1.4787531e+03, 1.4787531e+03,\n",
       "       1.4787529e+03, 1.4787531e+03, 1.4787529e+03, 1.4787529e+03,\n",
       "       1.4787531e+03, 1.4787531e+03, 1.4787529e+03, 1.4787528e+03,\n",
       "       1.4787528e+03, 1.4787528e+03, 1.4787528e+03, 1.4787527e+03,\n",
       "       1.4787527e+03, 1.4787529e+03, 1.4787529e+03, 1.4787529e+03,\n",
       "       1.4787529e+03, 1.4787527e+03, 1.4787529e+03, 1.4787529e+03,\n",
       "       1.4787528e+03, 1.4787528e+03, 1.4787527e+03, 1.4787528e+03,\n",
       "       1.4787528e+03, 1.4787528e+03, 1.4787526e+03, 1.4787528e+03,\n",
       "       1.4787527e+03, 1.4787527e+03, 1.4787528e+03, 1.4787528e+03,\n",
       "       1.4787527e+03, 1.4787529e+03, 1.4787527e+03, 1.4787526e+03,\n",
       "       1.4787527e+03, 1.4787527e+03, 1.4787527e+03, 1.4787527e+03,\n",
       "       1.4787527e+03, 1.4787526e+03, 1.4787527e+03, 1.4787527e+03,\n",
       "       1.4787526e+03, 1.4787524e+03, 1.4787527e+03, 1.4787527e+03,\n",
       "       1.4787526e+03, 1.4787524e+03, 1.4787527e+03, 1.4787527e+03,\n",
       "       1.4787528e+03, 1.4787526e+03, 1.4787526e+03, 1.4787526e+03,\n",
       "       1.4787527e+03, 1.4787526e+03, 1.4787524e+03, 1.4787526e+03,\n",
       "       1.4787526e+03, 1.4787526e+03, 1.4787524e+03, 1.4787524e+03,\n",
       "       1.4787526e+03, 1.4787524e+03, 1.4787524e+03, 1.4787527e+03,\n",
       "       1.4787526e+03, 1.4787524e+03, 1.4787526e+03, 1.4787524e+03,\n",
       "       1.4787526e+03, 1.4787524e+03, 1.4787524e+03, 1.4787523e+03,\n",
       "       1.4787524e+03, 1.4787524e+03, 1.4787526e+03, 1.4787526e+03,\n",
       "       1.4787526e+03, 1.4787524e+03, 1.4787524e+03, 1.4787526e+03,\n",
       "       1.4787526e+03, 1.4787524e+03, 1.4787524e+03, 1.4787522e+03,\n",
       "       1.4787524e+03, 1.4787523e+03, 1.4787523e+03, 1.4787524e+03,\n",
       "       1.4787526e+03, 1.4787526e+03, 1.4787523e+03, 1.4787526e+03],\n",
       "      dtype=float32)"
      ]
     },
     "execution_count": 44,
     "metadata": {},
     "output_type": "execute_result"
    }
   ],
   "source": [
    "energy_log"
   ]
  },
  {
   "cell_type": "code",
   "execution_count": null,
   "id": "ca135a81-db0c-457c-a554-b89a2d8cd3e6",
   "metadata": {},
   "outputs": [],
   "source": []
  },
  {
   "cell_type": "code",
   "execution_count": null,
   "id": "b6ce08ad-c110-4212-80ed-602e8b65eb4f",
   "metadata": {},
   "outputs": [],
   "source": [
    "cpu_device = jax.devices(\"cpu\")[0]\n",
    "jax.default_device(cpu_device)\n",
    "\n",
    "N = 5\n",
    "D = 2\n",
    "Ni_v = 3\n",
    "\n",
    "# Initialize variables\n",
    "var_ids = np.arange(0, N, dtype=np.int32)\n",
    "belief = Gaussian(np.zeros((N, D)), np.tile(np.eye(D), (N, 1, 1)))\n",
    "msgs = Gaussian(np.zeros((N, Ni_v, D)), np.zeros((N, Ni_v, D, D)))\n",
    "adj_factor_idx = -np.ones((N, Ni_v), dtype=np.int32)\n",
    "varibles = Variable(var_ids, belief, msgs, adj_factor_idx)\n",
    "\n",
    "# Set the prior factor(s)\n",
    "prior_facs = []\n",
    "\n",
    "z_Lam = np.eye(D)\n",
    "factor_ids = np.arange(0, 1, dtype=np.int32)\n",
    "z = np.zeros([1,2])\n",
    "z_Lams = np.tile(z_Lam * 0.0000001, (1, 1, 1))\n",
    "\n",
    "threshold = np.ones(1).reshape(-1, 1)\n",
    "potential = None\n",
    "\n",
    "adj_var_id = np.arange(0, 1, dtype=np.int32).reshape(-1, 1)\n",
    "adj_var_idx = np.zeros(1, dtype=np.int32).reshape(-1, 1)\n",
    "prior_facs = Factor(\n",
    "    factor_ids, z, z_Lams, threshold, potential, adj_var_id, adj_var_idx\n",
    ")\n",
    "\n",
    "# Set the banary factors\n",
    "factor_ids = [1,2,3,4,5]\n",
    "between_facs = Factor()\n",
    "\n",
    "\n",
    "varibles = jax.device_put(varibles, cpu_device)\n"
   ]
  },
  {
   "cell_type": "code",
   "execution_count": null,
   "id": "9b97441e-dca8-46e3-9492-63816cf20b7e",
   "metadata": {},
   "outputs": [],
   "source": []
  },
  {
   "cell_type": "code",
   "execution_count": null,
   "id": "ab972dc7-7379-45cc-8523-c1f1fb99b93c",
   "metadata": {},
   "outputs": [],
   "source": []
  },
  {
   "cell_type": "code",
   "execution_count": null,
   "id": "3cbf246b-7149-4113-b65e-2bd2baf9bb08",
   "metadata": {},
   "outputs": [],
   "source": [
    "A = np.array([[1,-1,0],[0,1,-1],[-1,0,1]])\n",
    "z = [1,1,1]\n",
    "\n"
   ]
  }
 ],
 "metadata": {
  "kernelspec": {
   "display_name": "Python 3 (ipykernel)",
   "language": "python",
   "name": "python3"
  },
  "language_info": {
   "codemirror_mode": {
    "name": "ipython",
    "version": 3
   },
   "file_extension": ".py",
   "mimetype": "text/x-python",
   "name": "python",
   "nbconvert_exporter": "python",
   "pygments_lexer": "ipython3",
   "version": "3.10.17"
  }
 },
 "nbformat": 4,
 "nbformat_minor": 5
}
